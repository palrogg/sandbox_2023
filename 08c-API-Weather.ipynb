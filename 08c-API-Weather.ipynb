{
 "cells": [
  {
   "cell_type": "markdown",
   "metadata": {},
   "source": [
    "# Weather API\n",
    "\n",
    "Pour utiliser ce notebook: se créer un compte sur https://openweathermap.org/api et créer une clé d’API.\n",
    "\n",
    "Ce début de notebook s’intéresse à la météo en temps réel, la doc est disponible ici: https://openweathermap.org/current Mais plein d’autres requêtes sont possibles, vous pouvez consultez le site d’Open Weather.\n",
    "\n",
    "Après la création du compte, l’activation de l’API met plusieurs heures, vous recevrez des erreurs 401 d’ici-là (comme ci-dessous)."
   ]
  },
  {
   "cell_type": "code",
   "execution_count": 1,
   "metadata": {},
   "outputs": [],
   "source": [
    "import pandas as pd\n",
    "import requests"
   ]
  },
  {
   "cell_type": "code",
   "execution_count": 12,
   "metadata": {},
   "outputs": [],
   "source": [
    "api_key = 'votre-cle-d’api'\n",
    "city = 'Lausanne'"
   ]
  },
  {
   "cell_type": "code",
   "execution_count": 13,
   "metadata": {},
   "outputs": [],
   "source": [
    "url = 'https://api.openweathermap.org/data/2.5/weather?q=' + city + '&appid=' + api_key"
   ]
  },
  {
   "cell_type": "code",
   "execution_count": 14,
   "metadata": {},
   "outputs": [],
   "source": [
    "response = requests.get(url)"
   ]
  },
  {
   "cell_type": "markdown",
   "metadata": {},
   "source": [
    "### Erreur dans la réponse\n",
    "\n",
    "Si vous recevez ce résultat, c’est que votre clé d’API est fausse / n’est pas encore activée."
   ]
  },
  {
   "cell_type": "code",
   "execution_count": 16,
   "metadata": {},
   "outputs": [
    {
     "data": {
      "text/plain": [
       "{'cod': 401,\n",
       " 'message': 'Invalid API key. Please see http://openweathermap.org/faq#error401 for more info.'}"
      ]
     },
     "execution_count": 16,
     "metadata": {},
     "output_type": "execute_result"
    }
   ],
   "source": [
    "response.json()"
   ]
  },
  {
   "cell_type": "markdown",
   "metadata": {},
   "source": [
    "## Bonne réponse\n",
    "\n",
    "Aïe, des tas de dictionnaires et listes imbriqués.\n",
    "\n",
    "Lausanne, ce beau 11 juin ensoleillé. Mais les données changeront chaque fois que vous lancez la requête, puisque c’est du temps réel.\n",
    "\n",
    "A vous :-)"
   ]
  },
  {
   "cell_type": "code",
   "execution_count": 19,
   "metadata": {},
   "outputs": [
    {
     "data": {
      "text/plain": [
       "{'coord': {'lon': 6.6328, 'lat': 46.516},\n",
       " 'weather': [{'id': 800,\n",
       "   'main': 'Clear',\n",
       "   'description': 'clear sky',\n",
       "   'icon': '01d'}],\n",
       " 'base': 'stations',\n",
       " 'main': {'temp': 298.89,\n",
       "  'feels_like': 298.9,\n",
       "  'temp_min': 297.7,\n",
       "  'temp_max': 299.89,\n",
       "  'pressure': 1017,\n",
       "  'humidity': 53,\n",
       "  'sea_level': 1017,\n",
       "  'grnd_level': 965},\n",
       " 'visibility': 10000,\n",
       " 'wind': {'speed': 3.19, 'deg': 15, 'gust': 4.53},\n",
       " 'clouds': {'all': 10},\n",
       " 'dt': 1623415666,\n",
       " 'sys': {'type': 2,\n",
       "  'id': 2008110,\n",
       "  'country': 'CH',\n",
       "  'sunrise': 1623382826,\n",
       "  'sunset': 1623439562},\n",
       " 'timezone': 7200,\n",
       " 'id': 2659994,\n",
       " 'name': 'Lausanne',\n",
       " 'cod': 200}"
      ]
     },
     "execution_count": 19,
     "metadata": {},
     "output_type": "execute_result"
    }
   ],
   "source": [
    "response.json()"
   ]
  }
 ],
 "metadata": {
  "kernelspec": {
   "display_name": "Python 3",
   "language": "python",
   "name": "python3"
  },
  "language_info": {
   "codemirror_mode": {
    "name": "ipython",
    "version": 3
   },
   "file_extension": ".py",
   "mimetype": "text/x-python",
   "name": "python",
   "nbconvert_exporter": "python",
   "pygments_lexer": "ipython3",
   "version": "3.8.1"
  }
 },
 "nbformat": 4,
 "nbformat_minor": 2
}
