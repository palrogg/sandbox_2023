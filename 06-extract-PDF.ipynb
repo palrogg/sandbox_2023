{
 "cells": [
  {
   "cell_type": "markdown",
   "metadata": {},
   "source": [
    "## Extraire des données d’un PDF\n",
    "\n",
    "**pdfplumber** est un module python qui vous permet de parcourir un PDF et d’en extraire du texte.\n",
    "\n",
    "On va parcourir un rapport de la Loterie Romande et tenter d’extraire ses valeurs.\n",
    "\n",
    "Le gros problème, c’est que le format PDF est conçu pour l’impression et l’affichage à l’écran, mais ne structure pas du tout ses données. Ce sera à nous de trouver comment délimiter les différentes informations, et parfois ce n’est simplement pas possible.\n",
    "\n",
    "Quand les PDF contiennent des tableaux, le logiciel libre et gratuit [Tabula](https://tabula.technology/) peut être d’une grande aide. On peut l’utiliser via Python, et même le combiner à pdfplumber. C’est un aspect que nous ne couvrons pas dans ce cours, mais vous trouvez un exemple dans [06c-PDF-Tabula.ipynb](06c-PDF-Tabula.ipynb)."
   ]
  },
  {
   "cell_type": "code",
   "execution_count": 3,
   "metadata": {},
   "outputs": [
    {
     "name": "stdout",
     "output_type": "stream",
     "text": [
      "Requirement already satisfied: pdfplumber in /Users/paul/.pyenv/versions/3.11.4/envs/cpe2023/lib/python3.11/site-packages (0.10.3)\n",
      "Requirement already satisfied: pdfminer.six==20221105 in /Users/paul/.pyenv/versions/3.11.4/envs/cpe2023/lib/python3.11/site-packages (from pdfplumber) (20221105)\n",
      "Requirement already satisfied: Pillow>=9.1 in /Users/paul/.pyenv/versions/3.11.4/envs/cpe2023/lib/python3.11/site-packages (from pdfplumber) (10.1.0)\n",
      "Requirement already satisfied: pypdfium2>=4.18.0 in /Users/paul/.pyenv/versions/3.11.4/envs/cpe2023/lib/python3.11/site-packages (from pdfplumber) (4.24.0)\n",
      "Requirement already satisfied: charset-normalizer>=2.0.0 in /Users/paul/.pyenv/versions/3.11.4/envs/cpe2023/lib/python3.11/site-packages (from pdfminer.six==20221105->pdfplumber) (3.2.0)\n",
      "Requirement already satisfied: cryptography>=36.0.0 in /Users/paul/.pyenv/versions/3.11.4/envs/cpe2023/lib/python3.11/site-packages (from pdfminer.six==20221105->pdfplumber) (41.0.4)\n",
      "Requirement already satisfied: cffi>=1.12 in /Users/paul/.pyenv/versions/3.11.4/envs/cpe2023/lib/python3.11/site-packages (from cryptography>=36.0.0->pdfminer.six==20221105->pdfplumber) (1.15.1)\n",
      "Requirement already satisfied: pycparser in /Users/paul/.pyenv/versions/3.11.4/envs/cpe2023/lib/python3.11/site-packages (from cffi>=1.12->cryptography>=36.0.0->pdfminer.six==20221105->pdfplumber) (2.21)\n"
     ]
    }
   ],
   "source": [
    "# A exécuter si vous n’avez pas encore le module\n",
    "!pip install pdfplumber"
   ]
  },
  {
   "cell_type": "code",
   "execution_count": 4,
   "metadata": {},
   "outputs": [],
   "source": [
    "import pandas as pd\n",
    "import pdfplumber"
   ]
  },
  {
   "cell_type": "code",
   "execution_count": 5,
   "metadata": {},
   "outputs": [],
   "source": [
    "# Cette fonction renverra soit une page de texte, soit «False»\n",
    "def extract(page):\n",
    "    try:\n",
    "        text = page.extract_text()\n",
    "        return text\n",
    "    except ValueError as e:\n",
    "        print('Erreur en ouvrant la page', e)\n",
    "        return False"
   ]
  },
  {
   "cell_type": "code",
   "execution_count": 7,
   "metadata": {},
   "outputs": [
    {
     "name": "stdout",
     "output_type": "stream",
     "text": [
      "Loterie Romande\n",
      "Répartition\n",
      "des bénéfices\n",
      "2019\n"
     ]
    }
   ],
   "source": [
    "# Test de la fonction sur la première page (page zéro)\n",
    "with pdfplumber.open(\"PDF/LoterieRomande.pdf\") as pdf:\n",
    "    firstPage = extract(pdf.pages[0])\n",
    "    if firstPage:\n",
    "        print(firstPage)"
   ]
  },
  {
   "cell_type": "markdown",
   "metadata": {},
   "source": [
    "## Ouverture du PDF et extraction du texte\n",
    "\n",
    "Cette fois, on va laisser notre PDF ouvert pour le parcourir."
   ]
  },
  {
   "cell_type": "code",
   "execution_count": 8,
   "metadata": {},
   "outputs": [],
   "source": [
    "pdf = pdfplumber.open(\"PDF/LoterieRomande.pdf\")"
   ]
  },
  {
   "cell_type": "code",
   "execution_count": 9,
   "metadata": {},
   "outputs": [
    {
     "data": {
      "text/plain": [
       "75"
      ]
     },
     "execution_count": 9,
     "metadata": {},
     "output_type": "execute_result"
    }
   ],
   "source": [
    "len(pdf.pages)"
   ]
  },
  {
   "cell_type": "markdown",
   "metadata": {},
   "source": [
    "Un exemple de page.\n",
    "\n",
    "Comment est-ce qu'on va extraire les données intéressantes?\n",
    "\n",
    "Le caractère «saut de ligne», \\n, pourra nous aider, de même que les tabulations (\\t) et le symbole récurrent «.-».\n",
    "\n",
    "Mais est-ce que tous les prix se terminent par .-?\n",
    "\n",
    "Et qu’est-ce que **a r u J**?\n",
    "\n",
    "Faites des essais avec:\n",
    "\n",
    "* `text.split('\\n')`\n",
    "* `text.split('.-')`\n",
    "* `text.split('\\t')`\n",
    "* `text.find('.-) > -1`"
   ]
  },
  {
   "cell_type": "code",
   "execution_count": 10,
   "metadata": {},
   "outputs": [
    {
     "name": "stdout",
     "output_type": "stream",
     "text": [
      "['Tennis Club Les Breuleux 300']\n",
      "[\" Club équestre Chevenez 12'000\"]\n",
      "[\" Rossemaison 3'900\"]\n",
      "[\"\\nTennis Club Porrentruy 1'390\"]\n",
      "[\" Club équestre St-Hubert Bassecourt 1'000\"]\n",
      "[\" Slalom de Bure 1'500\"]\n",
      "[\"\\nTennis Club Saignelégier 1'200\"]\n",
      "[\" Course de côte Boécourt- Sté de cavalerie d'Ajoie\\nTriumph Moto Club Vicques 710\"]\n",
      "[\" La Caquerelle 3'300\"]\n",
      "[\" Porrentruy 12'500\"]\n",
      "['\\nUnion Jura Rugby Course pédestre Vicques-Rétemberg 500']\n",
      "[' Sté de cavalerie Delémont\\nDelémont 360']\n",
      "[\" Créa'Move Delémont 1'000\"]\n",
      "[\" et environs 3'900\"]\n",
      "['\\nVCO Delémont Megabike 250']\n",
      "[\" Critérium jurassien Sté de cavalerie des Franches-Montagnes\\nDelémont 14'500\"]\n",
      "[\" Saignelégier 1'500\"]\n",
      "['\\nVélo Club Courtételle 810']\n",
      "['\\nVélo Club Franches-Montagnes Curling Club Ajoie Sté de tir de la ville de Delémont 200']\n",
      "[\"\\nSaignelégier 1'060\"]\n",
      "[\" Porrentruy 1'400\"]\n",
      "[\" Sté de tir sportif d'Ajoie\\nVélo Club Jurassia Bassecourt 700\"]\n",
      "[' Domoniak Triathlon Porrentruy 500']\n",
      "['\\nDelémont 500']\n",
      "['\\nVolleyball Club Delémont 560']\n",
      "[' Tennis Club Delémont 500']\n",
      "['\\nVolleyball Club Develier 200']\n",
      "[' Ecole de commerce de Delémont Tennis Club Saignelégier 200']\n",
      "['\\nDo-No Entreprise 200']\n",
      "[\"\\nVolleyball Club Porrentruy 2'000\"]\n",
      "[\" Tour de Rebeuvelier 1'000\"]\n",
      "['\\nVolleyball Club Val Terbi Echiquier bruntrutain Trophée jurassien\\nVicques 830']\n",
      "[' Porrentruy 200']\n",
      "[\" Develier 1'500\"]\n",
      "[\"\\nVTT Club Jura Ecole secondaire du Val-Terbi Valterbimania Sports\\nDelémont 1'480\"]\n",
      "[' Vicques 150']\n",
      "[\" Montsevelier 1'000\"]\n",
      "['\\nEnergym Fahy 200']\n",
      "[\" Vélo Club Jurassia\\nEquinoXX Enduro Bike Bassecourt 1'000\"]\n",
      "[\"\\nManifestations\\nDelémont 1'000\"]\n",
      "[\"\\nVélo Club Courtételle 1'400\"]\n",
      "[\"\\n132'350\"]\n",
      "[\" Féd. sportive cynologique suisse Vélo Club Franches-Montagnes\\nRebeuvelier 1'500\"]\n",
      "[\" Saignelégier 2'500\"]\n",
      "[\"\\nFémina Sport Glovelier 1'000\"]\n",
      "[\" VTT Club Jura\\nFranches Equi Trail Delémont 1'000\"]\n",
      "['\\nSaignelégier 500']\n",
      "['\\nAjoie Badminton Club\\nPorrentruy 200']\n",
      "[' FSG Bassecourt 500']\n",
      "[\" Projets d'aménagement\\nASA St-Ursanne-Les Rangiers 15'500\"]\n",
      "[' FSG Courroux-Courcelon 500']\n",
      "[\" (constructions)\\nAssoc. cantonale jurassienne Full Boxing Club\\nde gymnastique Porrentruy 2'500\"]\n",
      "[\"\\n147'712\"]\n",
      "[\"\\nDelémont 2'000\"]\n",
      "[\"\\nGroupe sportif Ajoie\\nAssoc. interjurassienne de cyclisme Porrentruy 1'500\"]\n",
      "['\\nChâtillon 800']\n",
      "['\\nGroupe sportif Asuel 750']\n",
      "['\\nAssoc. Camp jurassien 2019 Gym dames Delémont 200']\n",
      "[' Assoc. Phil Steulet, Delémont\\nDelémont 500']\n",
      "[\" Hockey Club Ajoie Escalade 15'472\"]\n",
      "[\"\\nAssoc. des arbitres de hockey Porrentruy 1'000\"]\n",
      "[\" Club de pétanque La Boule\\nsur glace MOJU/BEJU Hockey Club Delémont Vallée 1'500\"]\n",
      "[\" franche Courtételle 1'740\"]\n",
      "['\\nLe Noirmont 750']\n",
      "[\"\\nHockey Club Franches-Montagnes Commune de Courroux 2'398\"]\n",
      "['\\nAssoc. Jardin del Eden Saignelégier 500']\n",
      "[\" Commune de Delémont 20'000\"]\n",
      "['\\nDelémont 500']\n",
      "['\\nJudo Club Boécourt 250']\n",
      "[\" Football Club La Courtine 11'411\"]\n",
      "[\"\\nAssoc. Jura Challenges JuraDéfi Football Club Les Bois 20'147\"]\n",
      "[\"\\nDevelier 1'500\"]\n",
      "[\" Saignelégier 3'000\"]\n",
      "[\" Football Club Soyhières 6'150\"]\n",
      "[\"\\nAssoc. Tour du Jura Sté de tir Pistolet & Petit calibre\\nJura'ltitude XC\\nCourgenay 2'000\"]\n",
      "[' Franches-Montagnes\\nCourroux 500']\n",
      "[\"\\nSaignelégier 1'356\"]\n",
      "[\"\\nAuto Moto Club Ederswiler 2'000\"]\n",
      "['\\nLa Populaire.ch\\nAutocross Jurassien Courtételle 500']\n",
      "[\" Tennis Club Delémont 41'573\"]\n",
      "[\"\\nCourgenay 3'000\"]\n",
      "[\" Tennis Club Porrentruy 14'400\"]\n",
      "['\\nLe Noirmont VTT Club 500']\n",
      "[\"\\nTennis Club Saignelégier 13'065\"]\n",
      "[\"\\nClub équestre Les Vannez\\nLes foulées ajoulotes\\nGlovelier 1'000\"]\n",
      "['\\nBure 500']\n",
      "['\\nBudo-Kan Porrentruy 500']\n",
      "[\" Mérites sportifs\\nL'Hivern'Alle 200\"]\n",
      "[\"\\nChampionnat jurassien\\nManège Pré-Mo Delémont 1'000\"]\n",
      "[\"\\ndes sports motorisés 23'463.50\\nCourrendlin 3'000\"]\n",
      "[' Mervelinde\\nMervelier 500']\n",
      "[\"\\nClub d'athlétisme Fontenais 1'000\"]\n",
      "[\"\\nMoto Club jurassien\\nClub de l'Orque\\nBassecourt 3'000\"]\n",
      "['\\nBoncourt 200']\n",
      "[' Choong Katherine, Glovelier\\nNarcisses Run Haute-Ajoie Escalade\\nClub de minigolf Delémont 350']\n",
      "['\\nChenevez 500']\n",
      "['\\nClub de natation Delémont 500']\n",
      "[' Gerber Sébastien, Alle\\nOmnisport Boncourt 400']\n",
      "[' Athlétisme\\nClub de patinage\\ndes Franches-Montagnes Organisation équestre Leiser Lucien, Vicques\\nSaignelégier 500']\n",
      "[\" des Franches-Montagnes Cyclisme (vélo-trial)\\nSaignelégier 2'500\"]\n",
      "['\\nClub de pétanque Le Bief Porrentruy 200']\n",
      "[\" Nussbaumer Valentin, Rossemaison\\nPiscine des Hémionées\\nClub des patineurs d'Ajoie Hockey sur glace\\nBoncourt 500\"]\n",
      "['\\nPorrentruy 500']\n",
      "['\\nVuilleumier Joël, Bassecourt\\nPromoskate Events\\nInline-hockey\\nLOTERIE ROMANDE | RÉPARTITION DES BÉNÉFICES 2019 | 71\\naruJ']\n"
     ]
    }
   ],
   "source": [
    "text = pdf.pages[70].extract_text()\n",
    "for line in text.split('.-'):\n",
    "    print(line.split('    '))"
   ]
  },
  {
   "cell_type": "code",
   "execution_count": null,
   "metadata": {},
   "outputs": [],
   "source": []
  }
 ],
 "metadata": {
  "kernelspec": {
   "display_name": "Python 3",
   "language": "python",
   "name": "python3"
  },
  "language_info": {
   "codemirror_mode": {
    "name": "ipython",
    "version": 3
   },
   "file_extension": ".py",
   "mimetype": "text/x-python",
   "name": "python",
   "nbconvert_exporter": "python",
   "pygments_lexer": "ipython3",
   "version": "3.11.4"
  }
 },
 "nbformat": 4,
 "nbformat_minor": 4
}
