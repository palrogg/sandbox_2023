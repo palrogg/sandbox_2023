{
 "cells": [
  {
   "cell_type": "markdown",
   "metadata": {
    "collapsed": true
   },
   "source": [
    "# Listes\n",
    "\n",
    "Jusqu’ici, nous n’avons enregistré qu’un élément dans nos variables (un nombre ou une chaîne de caractères)."
   ]
  },
  {
   "cell_type": "code",
   "execution_count": 1,
   "metadata": {},
   "outputs": [],
   "source": [
    "student1 = \"Monique\"\n",
    "student2 = \"Régis\"\n",
    "student3 = \"Éric\"\n",
    "student4 = \"Eudes\""
   ]
  },
  {
   "cell_type": "markdown",
   "metadata": {},
   "source": [
    "### Créer une liste\n",
    "**Les listes** peuvent contenir plusieurs éléments. On crée une liste comme suit:\n",
    "\n",
    "**NomListe = [Element1, Element2, Element3]** \n",
    "\n",
    "C’est un exemple, mais une liste peut contenir autant d’éléments qu’on veut.\n",
    "\n",
    "Essayez:"
   ]
  },
  {
   "cell_type": "code",
   "execution_count": 2,
   "metadata": {},
   "outputs": [],
   "source": [
    "students = [\"Marie\", \"Frédérique\", \"Kevin\", \"Roger\"]"
   ]
  },
  {
   "cell_type": "code",
   "execution_count": 3,
   "metadata": {},
   "outputs": [],
   "source": [
    "notes = [4, 3, 2, 1]"
   ]
  },
  {
   "cell_type": "markdown",
   "metadata": {},
   "source": [
    "Les listes peuvent aussi être affichées avec `print()`."
   ]
  },
  {
   "cell_type": "code",
   "execution_count": 4,
   "metadata": {},
   "outputs": [
    {
     "name": "stdout",
     "output_type": "stream",
     "text": [
      "['Marie', 'Frédérique', 'Kevin', 'Roger']\n"
     ]
    }
   ],
   "source": [
    "print(students) "
   ]
  },
  {
   "cell_type": "markdown",
   "metadata": {},
   "source": [
    "Une liste peut contenir des éléments de différents types, comme des chiffres et des chaînes de caractères. Mais c’est déconseillé! On apprendra bientôt des structures faites pour ce genre de cas."
   ]
  },
  {
   "cell_type": "markdown",
   "metadata": {},
   "source": [
    "### Choisir un élément dans une liste\n",
    "Vous pouvez accéder à un élément précis dans une liste. Chaque élément de la liste porte un numéro, en commençant par zéro. On appelle cela l’**index**. Voici comment ça s’utilise concrètement:"
   ]
  },
  {
   "cell_type": "code",
   "execution_count": 5,
   "metadata": {},
   "outputs": [
    {
     "name": "stdout",
     "output_type": "stream",
     "text": [
      "Marie\n"
     ]
    }
   ],
   "source": [
    "print(students[0])"
   ]
  },
  {
   "cell_type": "code",
   "execution_count": 6,
   "metadata": {},
   "outputs": [
    {
     "name": "stdout",
     "output_type": "stream",
     "text": [
      "Frédérique\n"
     ]
    }
   ],
   "source": [
    "print(students[1])"
   ]
  },
  {
   "cell_type": "code",
   "execution_count": 7,
   "metadata": {},
   "outputs": [
    {
     "name": "stdout",
     "output_type": "stream",
     "text": [
      "Kevin\n"
     ]
    }
   ],
   "source": [
    "print(students[2])"
   ]
  },
  {
   "cell_type": "code",
   "execution_count": 8,
   "metadata": {},
   "outputs": [
    {
     "name": "stdout",
     "output_type": "stream",
     "text": [
      "Roger\n"
     ]
    }
   ],
   "source": [
    "print(students[3])"
   ]
  },
  {
   "cell_type": "markdown",
   "metadata": {},
   "source": [
    "<hr>\n",
    "\n",
    "Qu’est-ce qui se passe si on demande l’élément -1?"
   ]
  },
  {
   "cell_type": "code",
   "execution_count": 9,
   "metadata": {},
   "outputs": [],
   "source": [
    "# A compléter\n",
    "\n"
   ]
  },
  {
   "cell_type": "markdown",
   "metadata": {},
   "source": [
    "On peut manipuler les éléments d’une liste comme on le fait avec des variables. Les règles en matière de types sont les mêmes: il faut tenir compte du fait que ce soient des entiers, des chaînes de caractères, ou d’autres types de données que nous allons bientôt découvrir."
   ]
  },
  {
   "cell_type": "code",
   "execution_count": 10,
   "metadata": {},
   "outputs": [
    {
     "name": "stdout",
     "output_type": "stream",
     "text": [
      "Marie et Roger\n"
     ]
    }
   ],
   "source": [
    "print(students[0] + \" et \" + students[3])"
   ]
  },
  {
   "cell_type": "code",
   "execution_count": 11,
   "metadata": {},
   "outputs": [
    {
     "name": "stdout",
     "output_type": "stream",
     "text": [
      "2.5\n"
     ]
    }
   ],
   "source": [
    "# Calculer la moyenne des notes\n",
    "print((notes[0] + notes[1] + notes[2] + notes[3]) / 4)"
   ]
  },
  {
   "cell_type": "markdown",
   "metadata": {},
   "source": [
    "### Ajouter un élément à une liste\n",
    "L’instruction `append` permet d’ajouter un élément à une liste. A la différence de `print`, cette instruction se met derrière la variable qu’on souhaite modifier, et on les relie par un point. Comme suit:\n",
    "\n",
    "`NomListe.append(NouvelElément)`"
   ]
  },
  {
   "cell_type": "code",
   "execution_count": 12,
   "metadata": {},
   "outputs": [],
   "source": [
    "students.append(\"Elisabeth\")"
   ]
  },
  {
   "cell_type": "markdown",
   "metadata": {},
   "source": [
    "Regardons si l’instruction a fonctionné!"
   ]
  },
  {
   "cell_type": "code",
   "execution_count": 13,
   "metadata": {},
   "outputs": [
    {
     "name": "stdout",
     "output_type": "stream",
     "text": [
      "['Marie', 'Frédérique', 'Kevin', 'Roger', 'Elisabeth']\n"
     ]
    }
   ],
   "source": [
    "print(students)"
   ]
  },
  {
   "cell_type": "markdown",
   "metadata": {
    "collapsed": true
   },
   "source": [
    "### Enlever un élément\n",
    "Exactement comme on peut ajouter un élément, on peut enlever le dernier élément de la liste avec `pop()`:\n",
    "\n",
    "**NomListe.pop()**\n"
   ]
  },
  {
   "cell_type": "code",
   "execution_count": 14,
   "metadata": {
    "scrolled": true
   },
   "outputs": [
    {
     "name": "stdout",
     "output_type": "stream",
     "text": [
      "['Marie', 'Frédérique', 'Kevin', 'Roger']\n"
     ]
    }
   ],
   "source": [
    "students.pop()\n",
    "print(students)"
   ]
  },
  {
   "cell_type": "markdown",
   "metadata": {},
   "source": [
    "`pop()` renvoie un résultat. Et ce résultat, c’est l’élément qui a été enlevé. Voici ce que ça donne quand on donne la valeur de `pop()` à une variable:"
   ]
  },
  {
   "cell_type": "code",
   "execution_count": 15,
   "metadata": {},
   "outputs": [
    {
     "name": "stdout",
     "output_type": "stream",
     "text": [
      "La liste avant pop(): ['Marie', 'Frédérique', 'Kevin', 'Roger']\n",
      "On a enlevé l’élément Roger\n",
      "La liste, désormais: ['Marie', 'Frédérique', 'Kevin']\n"
     ]
    }
   ],
   "source": [
    "print(\"La liste avant pop():\", students)\n",
    "removed = students.pop()\n",
    "print(\"On a enlevé l’élément\", removed)\n",
    "\n",
    "print(\"La liste, désormais:\", students)"
   ]
  },
  {
   "cell_type": "markdown",
   "metadata": {},
   "source": [
    "Vous avez remarqué? J’ai utilisé `print()` avec des virgules. Dans ce cas, on n’a plus besoin de se préoccuper de convertir les types de variables, et Python ajoute automatiquement des espaces! Mais la fonction `str()` reste utile dans de nombreux cas."
   ]
  },
  {
   "cell_type": "markdown",
   "metadata": {},
   "source": [
    "### Demander la longueur d’une liste\n",
    "L’instruction `len()` renvoie la valeur d’une liste. Elle s’utilise comme suit:\n",
    "\n",
    "`len(NomListe)`"
   ]
  },
  {
   "cell_type": "code",
   "execution_count": 16,
   "metadata": {},
   "outputs": [
    {
     "name": "stdout",
     "output_type": "stream",
     "text": [
      "3\n"
     ]
    }
   ],
   "source": [
    "print(len(students))"
   ]
  },
  {
   "cell_type": "markdown",
   "metadata": {},
   "source": [
    "## Exercice\n",
    "- Enregistrez le nom de 3-4 participants du cours, en commençant par vous-mêmes.\n",
    "- Ajoutez l’un des instructeurs.\n",
    "- Ajoutez votre âge, ou un nombre au hasard.\n",
    "- Maintenant, retirez ce nombre.\n",
    "- Affichez la liste."
   ]
  },
  {
   "cell_type": "code",
   "execution_count": null,
   "metadata": {},
   "outputs": [],
   "source": []
  }
 ],
 "metadata": {
  "kernelspec": {
   "display_name": "Python 3 (ipykernel)",
   "language": "python",
   "name": "python3"
  },
  "language_info": {
   "codemirror_mode": {
    "name": "ipython",
    "version": 3
   },
   "file_extension": ".py",
   "mimetype": "text/x-python",
   "name": "python",
   "nbconvert_exporter": "python",
   "pygments_lexer": "ipython3",
   "version": "3.11.4"
  }
 },
 "nbformat": 4,
 "nbformat_minor": 2
}
