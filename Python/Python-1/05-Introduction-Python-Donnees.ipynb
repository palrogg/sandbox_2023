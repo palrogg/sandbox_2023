{
 "cells": [
  {
   "cell_type": "markdown",
   "metadata": {},
   "source": [
    "# Convertir des données - chaînes de caractères et nombres\n",
    "La conversion de données est probablement ce que vous ferez le plus. Il sera pratique de les apprendre dès maintenant."
   ]
  },
  {
   "cell_type": "markdown",
   "metadata": {},
   "source": [
    "### Transformer un «string» en nombre entier\n",
    "\n",
    "La commande `int()` transforme une valeur (nombre décimal ou chaîne de caractères) en nombre entier. Elle renvoie une erreur si la conversion est impossible."
   ]
  },
  {
   "cell_type": "code",
   "execution_count": 1,
   "metadata": {},
   "outputs": [
    {
     "name": "stdout",
     "output_type": "stream",
     "text": [
      "11\n"
     ]
    }
   ],
   "source": [
    "a = \"5\"\n",
    "b = \"6\"\n",
    "\n",
    "print(int(a) + int(b))"
   ]
  },
  {
   "cell_type": "code",
   "execution_count": 2,
   "metadata": {},
   "outputs": [
    {
     "ename": "ValueError",
     "evalue": "invalid literal for int() with base 10: 'Roger'",
     "output_type": "error",
     "traceback": [
      "\u001b[0;31m---------------------------------------------------------------------------\u001b[0m",
      "\u001b[0;31mValueError\u001b[0m                                Traceback (most recent call last)",
      "\u001b[0;32m/var/folders/3m/31wc9z155djdbz0tpyg168lh0000gp/T/ipykernel_88365/913713571.py\u001b[0m in \u001b[0;36m<cell line: 1>\u001b[0;34m()\u001b[0m\n\u001b[0;32m----> 1\u001b[0;31m \u001b[0mint\u001b[0m\u001b[0;34m(\u001b[0m\u001b[0;34m\"Roger\"\u001b[0m\u001b[0;34m)\u001b[0m\u001b[0;34m\u001b[0m\u001b[0;34m\u001b[0m\u001b[0m\n\u001b[0m",
      "\u001b[0;31mValueError\u001b[0m: invalid literal for int() with base 10: 'Roger'"
     ]
    }
   ],
   "source": [
    "int(\"Roger\")"
   ]
  },
  {
   "cell_type": "markdown",
   "metadata": {},
   "source": [
    "Les nombres décimaux sont ramenés à l’entier inférieur. Pour arrondir à l’entier le plus proche, on utilise l’instruction `round`."
   ]
  },
  {
   "cell_type": "code",
   "execution_count": 3,
   "metadata": {},
   "outputs": [
    {
     "data": {
      "text/plain": [
       "3"
      ]
     },
     "execution_count": 3,
     "metadata": {},
     "output_type": "execute_result"
    }
   ],
   "source": [
    "int(3.7)"
   ]
  },
  {
   "cell_type": "code",
   "execution_count": 4,
   "metadata": {},
   "outputs": [
    {
     "data": {
      "text/plain": [
       "4"
      ]
     },
     "execution_count": 4,
     "metadata": {},
     "output_type": "execute_result"
    }
   ],
   "source": [
    "round(3.7)"
   ]
  },
  {
   "cell_type": "markdown",
   "metadata": {},
   "source": [
    "### Transformer une chaîne de caractères en nombre décimal\n",
    "En anglais, un nombre à virgule flottante est appelé floating-point number. En programmation, pour faire plus court, c’est un **float**. Et voici l’équivalent de int() pour ce type de nombres:\n",
    "\n",
    "`float()`"
   ]
  },
  {
   "cell_type": "code",
   "execution_count": 5,
   "metadata": {},
   "outputs": [
    {
     "name": "stdout",
     "output_type": "stream",
     "text": [
      "12.1\n"
     ]
    }
   ],
   "source": [
    "a = \"5.5\"\n",
    "b = \"6.6\"\n",
    "\n",
    "print(float(a) + float(b))"
   ]
  },
  {
   "cell_type": "markdown",
   "metadata": {},
   "source": [
    "### Transformer un nombre en chaîne de caractères\n",
    "En anglais, la chaîne de caractères est un **character string**. En Python, ce type de données est abrégé en `str`."
   ]
  },
  {
   "cell_type": "code",
   "execution_count": 6,
   "metadata": {},
   "outputs": [
    {
     "name": "stdout",
     "output_type": "stream",
     "text": [
      "J’ai 77 ans\n"
     ]
    }
   ],
   "source": [
    "age = 77\n",
    "print(\"J’ai \" + str(age) + \" ans\")"
   ]
  },
  {
   "cell_type": "markdown",
   "metadata": {},
   "source": [
    "## Exercice\n",
    "\n",
    "- Enregistrez le nombre Pi, avec 4 décimales, dans une variable. \n",
    "- Multipliez-le par 2.\n",
    "- Transformez-le en chaîne de caractères et affichez: \"Le double de Pi vaut (valeur)\"\n",
    "\n"
   ]
  },
  {
   "cell_type": "markdown",
   "metadata": {},
   "source": [
    "# Convertir des données – listes et chaînes de caractères\n",
    "On peut transformer les éléments d’une liste en une seule chaîne de caractères."
   ]
  },
  {
   "cell_type": "markdown",
   "metadata": {},
   "source": [
    "### «Joindre» des éléments d’une liste\n",
    "\n",
    "L’instruction **join()**, appliquée à une chaîne de caractères, lie les éléments d’une liste par ces caractères:\n",
    "\n",
    "`string.join(liste)`"
   ]
  },
  {
   "cell_type": "code",
   "execution_count": 7,
   "metadata": {
    "scrolled": true
   },
   "outputs": [
    {
     "name": "stdout",
     "output_type": "stream",
     "text": [
      "Max, Jeanne, Hervé, Franziska\n"
     ]
    }
   ],
   "source": [
    "students = [\"Max\", \"Jeanne\", \"Hervé\", \"Franziska\"]\n",
    "print(\", \".join(students))"
   ]
  },
  {
   "cell_type": "code",
   "execution_count": 8,
   "metadata": {},
   "outputs": [
    {
     "name": "stdout",
     "output_type": "stream",
     "text": [
      "Max // ainsi que… // Jeanne // ainsi que… // Hervé // ainsi que… // Franziska\n"
     ]
    }
   ],
   "source": [
    "# Pour rendre l’opération un peu plus claire…\n",
    "print(\" // ainsi que… // \".join(students))"
   ]
  },
  {
   "cell_type": "code",
   "execution_count": 9,
   "metadata": {},
   "outputs": [
    {
     "name": "stdout",
     "output_type": "stream",
     "text": [
      "Les étudiants suivants étudient chez nous: Max, Jeanne, Hervé, Franziska\n"
     ]
    }
   ],
   "source": [
    "students_as_string = \", \".join(students)\n",
    "print(\"Les étudiants suivants étudient chez nous: \" + students_as_string)"
   ]
  },
  {
   "cell_type": "code",
   "execution_count": 10,
   "metadata": {},
   "outputs": [
    {
     "name": "stdout",
     "output_type": "stream",
     "text": [
      "Max - Monika - Erik - Franziska\n"
     ]
    }
   ],
   "source": [
    "students = [\"Max\", \"Monika\", \"Erik\", \"Franziska\"]\n",
    "print(\" - \".join(students))"
   ]
  },
  {
   "cell_type": "markdown",
   "metadata": {},
   "source": [
    "### Diviser une chaîne de caractère en une liste\n",
    "\n",
    "C’est maintenant qu’on commence à s’amuser. Si vous devez parfois préparer des listes de centaines de noms pour un journal, une brochure, etc. cette commande peut vous gagner des heures.\n",
    "\n",
    "L’instruction **split()** – en anglais couper, diviser – coupera votre *string* sur la base des caractères que vous demandez. Exemple:\n",
    "\n",
    "`string.split(\", \")`"
   ]
  },
  {
   "cell_type": "code",
   "execution_count": 11,
   "metadata": {},
   "outputs": [],
   "source": [
    "newStudents = \"Rodolphe, Michelle, Erika, Jacques\""
   ]
  },
  {
   "cell_type": "code",
   "execution_count": 12,
   "metadata": {
    "scrolled": true
   },
   "outputs": [
    {
     "name": "stdout",
     "output_type": "stream",
     "text": [
      "['Rodolphe,', 'Michelle,', 'Erika,', 'Jacques']\n"
     ]
    }
   ],
   "source": [
    "# Par défaut, Python utilise l’espace\n",
    "print(newStudents.split())"
   ]
  },
  {
   "cell_type": "markdown",
   "metadata": {},
   "source": [
    "Mais on peut être plus précis:"
   ]
  },
  {
   "cell_type": "code",
   "execution_count": 13,
   "metadata": {
    "scrolled": true
   },
   "outputs": [
    {
     "name": "stdout",
     "output_type": "stream",
     "text": [
      "['Rodolphe', 'Michelle', 'Erika', 'Jacques']\n"
     ]
    }
   ],
   "source": [
    "print(newStudents.split(\", \"))"
   ]
  },
  {
   "cell_type": "code",
   "execution_count": 14,
   "metadata": {},
   "outputs": [
    {
     "name": "stdout",
     "output_type": "stream",
     "text": [
      "['Rodolph', ', Mich', 'll', ', Erika, Jacqu', 's']\n"
     ]
    }
   ],
   "source": [
    "print(newStudents.split(\"e\"))"
   ]
  },
  {
   "cell_type": "markdown",
   "metadata": {},
   "source": [
    "On peut combiner les différentes instructions qu’on a apprises."
   ]
  },
  {
   "cell_type": "code",
   "execution_count": 15,
   "metadata": {},
   "outputs": [
    {
     "name": "stdout",
     "output_type": "stream",
     "text": [
      "8\n"
     ]
    }
   ],
   "source": [
    "# Comptons le nombre de mots de cette phrase\n",
    "\n",
    "sentence = \"Je suis une phrase qui contient des mots\"\n",
    "print(len(sentence.split()))"
   ]
  },
  {
   "cell_type": "markdown",
   "metadata": {},
   "source": [
    "## Exercice 1\n",
    "- Choisissez un article de 20 minutes\n",
    "- Collez-le dans un \"string\"\n",
    "- Découpez l’article en mots\n",
    "- Comptez les mots et enregistrez-le dans une variable\n",
    "- Affichez «L’article compte x mots» en utilisant votre variable"
   ]
  },
  {
   "cell_type": "code",
   "execution_count": 16,
   "metadata": {},
   "outputs": [],
   "source": [
    "# Résumé wikipedia de L’Œuvre\n",
    "text = \"\"\"Claude Lantier est le fils de Gervaise Macquart et d’Auguste Lantier (voir L'Assommoir, roman où l’on apprend qu’il a été amené à l’âge de huit ans à Plassans par un vieux monsieur séduit par la qualité de ses dessins). Il apparaît aussi dans Le Ventre de Paris. Il est ici l’ami d’enfance du romancier Sandoz, personnage dans lequel Zola a mis beaucoup de lui-même. Avec Sandoz et d’autres peintres ou sculpteurs, Claude combat pour imposer une nouvelle forme de peinture, bien éloignée des canons néo-classiques qui ont la faveur des expositions officielles. Si certains d’entre eux réussissent finalement à s’imposer, Lantier va pour sa part d’échec en échec, demeurant incompris du public et souvent de ses propres amis.\n",
    "Le roman est aussi une histoire d’amour et d’amitié. Claude Lantier a rencontré un soir de pluie, sous le porche de son immeuble, une jeune femme prénommée Christine, avec qui il partagera sa vie et ses échecs. Ils vont habiter à la campagne, où Claude trouve d’abord le soulagement. Ils ont un enfant, mais celui-ci, hydrocéphale, mourra à l’âge de douze ans. Entre-temps, le couple est revenu vivre à Paris, où Claude retrouve à la fois ses amis et le sentiment de son échec. Il finit par se détacher de sa femme pour passer son temps dans un grand hangar où il a entrepris une œuvre gigantesque, une toile qu’il laissera inachevée et devant laquelle il se pendra.\n",
    "\"\"\""
   ]
  },
  {
   "cell_type": "code",
   "execution_count": 18,
   "metadata": {},
   "outputs": [
    {
     "name": "stdout",
     "output_type": "stream",
     "text": [
      "L’article compte 235 mots\n"
     ]
    }
   ],
   "source": [
    "words = text.split(\" \")\n",
    "word_count = len(words)\n",
    "print(\"L’article compte \" + str(word_count) + \" mots\")"
   ]
  },
  {
   "cell_type": "markdown",
   "metadata": {},
   "source": [
    "## Exercice 2 \n",
    "\n",
    "- Demandez son e-mail à votre voisin\n",
    "- Notez une variante de l’e-mail, et pas l’e-mail exact. Ça ne se retrouvera pas sur Internet, mais on reste prudents par principe\n",
    "- Extrayez le nom d’utilisateur de l’e-mail. Par exemple, si c’est rogerdupont@gmail.com, le nom d’utilisateur sera rogerdupont. Pensez aux listes et au fait de choisir un élément de la liste"
   ]
  },
  {
   "cell_type": "code",
   "execution_count": 19,
   "metadata": {},
   "outputs": [
    {
     "data": {
      "text/plain": [
       "'antoine.falogalo'"
      ]
     },
     "execution_count": 19,
     "metadata": {},
     "output_type": "execute_result"
    }
   ],
   "source": [
    "email = \"antoine.falogalo@antoine.net\"\n",
    "email.split(\"@\")[0]"
   ]
  },
  {
   "cell_type": "code",
   "execution_count": null,
   "metadata": {},
   "outputs": [],
   "source": []
  },
  {
   "cell_type": "markdown",
   "metadata": {},
   "source": [
    "## Exercice 3\n",
    "\n",
    "Voici une lise d’e-mails dans des variables séparées, (`mail1`, `mail2`, `mail3`). Nous voulons en faire une liste pour ajouter plus facilement des clients.\n",
    "\n",
    "Mettez donc `mail1`, `mail2` et `mail3` dans la liste `clients` et comptez le nombre de clients de la liste à l’aide d’une instruction en Python."
   ]
  },
  {
   "cell_type": "code",
   "execution_count": null,
   "metadata": {},
   "outputs": [],
   "source": []
  },
  {
   "cell_type": "code",
   "execution_count": null,
   "metadata": {},
   "outputs": [],
   "source": []
  },
  {
   "cell_type": "code",
   "execution_count": null,
   "metadata": {},
   "outputs": [],
   "source": []
  }
 ],
 "metadata": {
  "kernelspec": {
   "display_name": "Python 3 (ipykernel)",
   "language": "python",
   "name": "python3"
  },
  "language_info": {
   "codemirror_mode": {
    "name": "ipython",
    "version": 3
   },
   "file_extension": ".py",
   "mimetype": "text/x-python",
   "name": "python",
   "nbconvert_exporter": "python",
   "pygments_lexer": "ipython3",
   "version": "3.11.4"
  }
 },
 "nbformat": 4,
 "nbformat_minor": 4
}
