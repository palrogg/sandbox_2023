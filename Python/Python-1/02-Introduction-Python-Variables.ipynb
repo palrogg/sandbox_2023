{
 "cells": [
  {
   "cell_type": "markdown",
   "metadata": {},
   "source": [
    "# 1. Introduction à Python\n",
    "\n",
    "## 1.2 Les variables"
   ]
  },
  {
   "cell_type": "markdown",
   "metadata": {},
   "source": [
    "<strong>Les variables</strong> sont un concept important dans la programmation. \n",
    "<br>Vous pouvez vous représenter une variable comme une sorte de conteneur, dans lequel on peut mettre par exemple un nombre pour le réutiliser plus tard. (Vous vous rappelez de la touche M+ sur les calculettes?)<br>\n",
    "\n",
    "En Python, on peut donner une valeur à une variable en écrivant par exemple:\n",
    "\n",
    "`nom_variable = 5`\n",
    "\n",
    "Les noms de variable doivent respecter certaines conditions: ils ne doivent pas commencer par un chiffre et ne doivent pas être un mot «réservé», c’est-à-dire déjà utilisé pour autre chose. Par exemple, une variable ne peut pas porter le nom «`if`» (si…) qu’on utilise pour écrire: «si telle condition est remplie».\n",
    "\n",
    "Voici un exemple de variable:"
   ]
  },
  {
   "cell_type": "code",
   "execution_count": 1,
   "metadata": {
    "tags": []
   },
   "outputs": [],
   "source": [
    "no_page = 5"
   ]
  },
  {
   "cell_type": "markdown",
   "metadata": {},
   "source": [
    "Une variable peut contenir le résultat d’un calcul:"
   ]
  },
  {
   "cell_type": "code",
   "execution_count": 3,
   "metadata": {
    "tags": []
   },
   "outputs": [],
   "source": [
    "result = 5 + 6"
   ]
  },
  {
   "cell_type": "markdown",
   "metadata": {},
   "source": [
    "On peut utiliser cette valeur plus loin dans le programme, par exemple pour l’afficher:"
   ]
  },
  {
   "cell_type": "code",
   "execution_count": 3,
   "metadata": {
    "tags": []
   },
   "outputs": [
    {
     "name": "stdout",
     "output_type": "stream",
     "text": [
      "11\n"
     ]
    }
   ],
   "source": [
    "print(result)"
   ]
  },
  {
   "cell_type": "markdown",
   "metadata": {},
   "source": [
    "On peut aussi faire des calculs avec une variable:"
   ]
  },
  {
   "cell_type": "code",
   "execution_count": 4,
   "metadata": {
    "tags": []
   },
   "outputs": [
    {
     "name": "stdout",
     "output_type": "stream",
     "text": [
      "121\n"
     ]
    }
   ],
   "source": [
    "print(result * result)"
   ]
  },
  {
   "cell_type": "code",
   "execution_count": 5,
   "metadata": {
    "tags": []
   },
   "outputs": [
    {
     "name": "stdout",
     "output_type": "stream",
     "text": [
      "19.5\n"
     ]
    }
   ],
   "source": [
    "# Calculer une moyenne\n",
    "\n",
    "age = 21\n",
    "age2 = 18\n",
    "\n",
    "print((age + age2) / 2)"
   ]
  },
  {
   "cell_type": "code",
   "execution_count": 6,
   "metadata": {
    "tags": []
   },
   "outputs": [],
   "source": [
    "# On peut également sauvegarder le résultat dans une variable avant de l’afficher\n",
    "\n",
    "average_age = (age + age2) / 2"
   ]
  },
  {
   "cell_type": "code",
   "execution_count": 7,
   "metadata": {
    "tags": []
   },
   "outputs": [
    {
     "name": "stdout",
     "output_type": "stream",
     "text": [
      "19.5\n"
     ]
    }
   ],
   "source": [
    "print(average_age)"
   ]
  },
  {
   "cell_type": "markdown",
   "metadata": {},
   "source": [
    "## Exercice\n",
    "Résolvez le problème suivant avec des variables:\n",
    "* Un nombre indéterminé de personnes se trouve dans un train.\n",
    "* Au premier arrêt, **19** personnes descendent\n",
    "* **17** personnes montent\n",
    "* On a désormais **63** personnes dans le train\n",
    "* Combien de personnes étaient dans le train au départ?\n",
    "\n",
    "[Tiré d’un exemple de Watson!](https://www.watson.ch/wissen/populärkultur/943887508-matheaufgabe-fuer-7-jaehrige-bringt-alle-zum-verzweifeln-kannst-du-sie-loesen-)"
   ]
  },
  {
   "cell_type": "code",
   "execution_count": 8,
   "metadata": {
    "tags": []
   },
   "outputs": [
    {
     "data": {
      "text/plain": [
       "65"
      ]
     },
     "execution_count": 8,
     "metadata": {},
     "output_type": "execute_result"
    }
   ],
   "source": [
    "nombre_final = 63\n",
    "nombre_final - 17 + 19"
   ]
  },
  {
   "cell_type": "code",
   "execution_count": 9,
   "metadata": {
    "tags": []
   },
   "outputs": [
    {
     "name": "stdout",
     "output_type": "stream",
     "text": [
      "65\n"
     ]
    }
   ],
   "source": [
    "# Ou, plus détaillé:\n",
    "descendent = 19\n",
    "montent = 17\n",
    "nombre_final = 63\n",
    "\n",
    "nombre_depart = nombre_final - montent + descendent\n",
    "print(nombre_depart)"
   ]
  },
  {
   "cell_type": "markdown",
   "metadata": {},
   "source": [
    "### Pour aller plus loin\n",
    "\n",
    "Si chaque développeur a une manière différente de nommer ses variables, ça devient vite incompréhensible. Pour éviter ce problème, on fixe en général des règles, les «conventions de nommage» (naming conventions).\n",
    "\n",
    "En principe, chaque nom variable doit être explicite. Par exemple, on évite d’écrire `a = b*c` si les variables correspondent à `salaire_mensuel = heures_travaillees * salaire_horaire`.\n",
    "\n",
    "On se retrouve avec des variables composées de deux ou trois mots. Et on ne peut pas les séparer par un espace. Du coup, certains développeurs écriront salaire_mensuel, d’autres salaireMensuel, ou encore SalaireMensuel!\n",
    "\n",
    "En Python, il existe un ensemble de recommandations sur la manière d’écrire son code, appelé [PEP 8](https://www.python.org/dev/peps/pep-0008/). Ce guide conseille de [séparer les mots par des underscores](https://www.python.org/dev/peps/pep-0008/#method-names-and-instance-variables), comme `salaire_mensuel`."
   ]
  },
  {
   "cell_type": "code",
   "execution_count": null,
   "metadata": {},
   "outputs": [],
   "source": []
  },
  {
   "cell_type": "code",
   "execution_count": null,
   "metadata": {},
   "outputs": [],
   "source": []
  },
  {
   "cell_type": "code",
   "execution_count": null,
   "metadata": {},
   "outputs": [],
   "source": []
  }
 ],
 "metadata": {
  "kernelspec": {
   "display_name": "Python 3 (ipykernel)",
   "language": "python",
   "name": "python3"
  },
  "language_info": {
   "codemirror_mode": {
    "name": "ipython",
    "version": 3
   },
   "file_extension": ".py",
   "mimetype": "text/x-python",
   "name": "python",
   "nbconvert_exporter": "python",
   "pygments_lexer": "ipython3",
   "version": "3.11.4"
  }
 },
 "nbformat": 4,
 "nbformat_minor": 4
}
