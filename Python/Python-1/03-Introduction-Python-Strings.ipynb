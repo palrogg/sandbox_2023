{
 "cells": [
  {
   "cell_type": "markdown",
   "metadata": {},
   "source": [
    "# Chaînes de caractères (*Strings*)\n",
    "\n",
    "Python peut travailler avec des chaînes de caractères, qu’on appelle en anglais **strings**.\n",
    "\n",
    "Vous pouvez employer n’importe quelle séquence de caractères entre guillemets simples ou guillemets doubles. Mais on doit commencer et terminer avec le même type de guillemets.\n",
    "\n",
    "` \"Hello\" ` est une chaîne de caractères, ` \"Hello World\" ` aussi, ou encore ` \"123.2\" ` et ` '!Attention!' `"
   ]
  },
  {
   "cell_type": "markdown",
   "metadata": {},
   "source": [
    "On peut afficher une chaîne de caractères avec `print()`:"
   ]
  },
  {
   "cell_type": "code",
   "execution_count": null,
   "metadata": {},
   "outputs": [
    {
     "name": "stdout",
     "output_type": "stream",
     "text": [
      "Bonjour\n"
     ]
    }
   ],
   "source": [
    "print(\"Bonjour\")"
   ]
  },
  {
   "cell_type": "markdown",
   "metadata": {},
   "source": [
    "... Et on peut les enregistrer dans une variable:"
   ]
  },
  {
   "cell_type": "code",
   "execution_count": 2,
   "metadata": {},
   "outputs": [],
   "source": [
    "name = \"Roger\""
   ]
  },
  {
   "cell_type": "code",
   "execution_count": 3,
   "metadata": {},
   "outputs": [
    {
     "name": "stdout",
     "output_type": "stream",
     "text": [
      "Roger\n"
     ]
    }
   ],
   "source": [
    "print(name)"
   ]
  },
  {
   "cell_type": "markdown",
   "metadata": {},
   "source": [
    "### Additionner des chaînes de caractères\n",
    "\n",
    "Vous vous rappelez de ce qui se passe?"
   ]
  },
  {
   "cell_type": "code",
   "execution_count": 4,
   "metadata": {},
   "outputs": [
    {
     "name": "stdout",
     "output_type": "stream",
     "text": [
      "SalutRoger\n"
     ]
    }
   ],
   "source": [
    "print(\"Salut\" + \"Roger\")"
   ]
  },
  {
   "cell_type": "code",
   "execution_count": 5,
   "metadata": {},
   "outputs": [
    {
     "name": "stdout",
     "output_type": "stream",
     "text": [
      "Salut Roger\n"
     ]
    }
   ],
   "source": [
    "print(\"Salut \" + name)"
   ]
  },
  {
   "cell_type": "markdown",
   "metadata": {},
   "source": [
    "## Exercice"
   ]
  },
  {
   "cell_type": "markdown",
   "metadata": {},
   "source": [
    "Essayez d’additionner une chaîne de caractères et un nombre. Vous vous rappelez de la solution?"
   ]
  },
  {
   "cell_type": "markdown",
   "metadata": {},
   "source": [
    "### Transformer un nombre en chaîne de caractères\n",
    "On a donc deux possibilités pour transformer un chiffre en chaîne de caractères.\n",
    "\n",
    "1.) On peut l’écrire entre guillemets:"
   ]
  },
  {
   "cell_type": "code",
   "execution_count": 7,
   "metadata": {},
   "outputs": [
    {
     "name": "stdout",
     "output_type": "stream",
     "text": [
      "Roger a 40 ans\n"
     ]
    }
   ],
   "source": [
    "print(\"Roger a \" + \"40\" + \" ans\")"
   ]
  },
  {
   "cell_type": "markdown",
   "metadata": {},
   "source": [
    "Si le nombre est déjà stocké dans une variable, on ne peut pas utiliser les guillemets. Mais il y a cette autre solution:\n",
    "\n",
    "2.) Utiliser l’instruction `str()`"
   ]
  },
  {
   "cell_type": "code",
   "execution_count": 8,
   "metadata": {},
   "outputs": [
    {
     "name": "stdout",
     "output_type": "stream",
     "text": [
      "Roger a 42 ans\n"
     ]
    }
   ],
   "source": [
    "age = 42\n",
    "print(\"Roger a \" + str(age) + \" ans\")"
   ]
  },
  {
   "cell_type": "markdown",
   "metadata": {},
   "source": [
    "**Attention au fait qu’on ne peut pas faire de calculs avec `\"40\"` ou `str(40)`.**"
   ]
  },
  {
   "cell_type": "markdown",
   "metadata": {},
   "source": [
    "## Exercice \n",
    "* Regardez le nombre d’habitants en Suisse au 31 décembre de l’année dernière [sur cette page de l’OFS](https://www.bfs.admin.ch/bfs/fr/home/statistiques/population/effectif-evolution.assetdetail.23104093.html)\n",
    "* Enregistrez ce nombre dans la variable `pop_2021`. \n",
    "* Enregistrez le nombre d’habitants au 31 décembre 2001 dans la variable `pop_2001`.\n",
    "* Enregistrez l’augmentation du nombre d’habitants en pourcent dans `increase`.\n",
    "* Affichez la phrase suivante avec `print()`: \"La Suisse compte *pop_2021* millions d’habitants. Il y a vingt ans, elle en comptait *pop_2001*. Cela représente une augmentation de *increase*%.\" \n",
    "\n",
    "#### Rappel: calcul du pourcentage d’augmentation:\n",
    "\n",
    "```\n",
    "Augmentation = Nouvelle valeur - Ancienne valeur\n",
    "\n",
    "Pourcentage d’augmentation = 100 x Augmentation / Ancienne valeur\n",
    "```\n",
    "\n",
    "Exemple:\n",
    "\n",
    "```\n",
    "Ancien prix: 1000.-\n",
    "Nouveau prix: 1200.-\n",
    "Augmentation: 200.-\n",
    "Pourcentage d’augmentation: 100 x 200 / 1000 = 20%\n",
    "```"
   ]
  },
  {
   "cell_type": "code",
   "execution_count": 25,
   "metadata": {},
   "outputs": [
    {
     "name": "stdout",
     "output_type": "stream",
     "text": [
      "La Suisse compte 8.74 millions d’habitants.\n",
      "Il y a vingt ans, elle en comptait 7.26.\n",
      "Cela représente une augmentation de 20.4%.\n"
     ]
    }
   ],
   "source": [
    "pop_2021 = 8.74\n",
    "pop_2001 = 7.26\n",
    "increase = 100 * (pop_2021 - pop_2001) / pop_2001\n",
    "print(\n",
    "    f\"\"\"La Suisse compte {pop_2021} millions d’habitants.\n",
    "Il y a vingt ans, elle en comptait {pop_2001}.\n",
    "Cela représente une augmentation de {round(increase, 1)}%.\"\"\"\n",
    ")"
   ]
  },
  {
   "cell_type": "code",
   "execution_count": null,
   "metadata": {},
   "outputs": [],
   "source": []
  },
  {
   "cell_type": "code",
   "execution_count": null,
   "metadata": {},
   "outputs": [],
   "source": []
  }
 ],
 "metadata": {
  "kernelspec": {
   "display_name": "Python 3 (ipykernel)",
   "language": "python",
   "name": "python3"
  },
  "language_info": {
   "codemirror_mode": {
    "name": "ipython",
    "version": 3
   },
   "file_extension": ".py",
   "mimetype": "text/x-python",
   "name": "python",
   "nbconvert_exporter": "python",
   "pygments_lexer": "ipython3",
   "version": "3.11.4"
  }
 },
 "nbformat": 4,
 "nbformat_minor": 4
}
