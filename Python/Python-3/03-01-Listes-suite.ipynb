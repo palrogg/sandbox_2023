{
 "cells": [
  {
   "cell_type": "markdown",
   "metadata": {},
   "source": [
    "# Listes: la suite"
   ]
  },
  {
   "cell_type": "markdown",
   "metadata": {},
   "source": [
    "On a déjà vu des listes: elles permettent d’enregistrer plusieurs valeurs en une fois. Par exemple, nous enregistrons ici une liste de quatre étudiants:"
   ]
  },
  {
   "cell_type": "code",
   "execution_count": 1,
   "metadata": {},
   "outputs": [
    {
     "name": "stdout",
     "output_type": "stream",
     "text": [
      "Françoise\n",
      "['Georges', 'Monique', 'Eric']\n"
     ]
    }
   ],
   "source": [
    "students = [\"Georges\", \"Monique\", \"Eric\", \"Françoise\"]\n",
    "\n",
    "last_student = students.pop()\n",
    "print(last_student)\n",
    "print(students)"
   ]
  },
  {
   "cell_type": "markdown",
   "metadata": {},
   "source": [
    "On peut sélectionner un élément de la liste depuis le début, en partant de zéro:"
   ]
  },
  {
   "cell_type": "code",
   "execution_count": 2,
   "metadata": {},
   "outputs": [
    {
     "name": "stdout",
     "output_type": "stream",
     "text": [
      "Le premier étudiant de la liste est Georges\n"
     ]
    }
   ],
   "source": [
    "print(\"Le premier étudiant de la liste est\", students[0])"
   ]
  },
  {
   "cell_type": "code",
   "execution_count": 3,
   "metadata": {},
   "outputs": [
    {
     "name": "stdout",
     "output_type": "stream",
     "text": [
      "La deuxième est Monique\n"
     ]
    }
   ],
   "source": [
    "print(\"La deuxième est\", students[1])"
   ]
  },
  {
   "cell_type": "markdown",
   "metadata": {},
   "source": [
    "## Compter depuis la fin"
   ]
  },
  {
   "cell_type": "code",
   "execution_count": 4,
   "metadata": {},
   "outputs": [
    {
     "name": "stdout",
     "output_type": "stream",
     "text": [
      "Eric\n",
      "Monique\n"
     ]
    }
   ],
   "source": [
    "# dernier élément\n",
    "print(students[-1])\n",
    "\n",
    "# 2e élément depuis la fin\n",
    "print(students[-2])"
   ]
  },
  {
   "cell_type": "markdown",
   "metadata": {},
   "source": [
    "### Opérateurs pour les listes"
   ]
  },
  {
   "cell_type": "markdown",
   "metadata": {},
   "source": [
    "Avec l’opérateur `+`, on peut joindre deux listes!"
   ]
  },
  {
   "cell_type": "code",
   "execution_count": 5,
   "metadata": {},
   "outputs": [
    {
     "name": "stdout",
     "output_type": "stream",
     "text": [
      "['Georges', 'Monique', 'Eric', 'Françoise', 'ABCDEF']\n"
     ]
    }
   ],
   "source": [
    "students = [\"Georges\", \"Monique\", \"Eric\", \"Françoise\"] + [\"ABCDEF\"]\n",
    "print(students)"
   ]
  },
  {
   "cell_type": "code",
   "execution_count": 6,
   "metadata": {},
   "outputs": [
    {
     "data": {
      "text/plain": [
       "['1', '2', '3']"
      ]
     },
     "execution_count": 6,
     "metadata": {},
     "output_type": "execute_result"
    }
   ],
   "source": [
    "\"bon\" + \"jour\"\n",
    "[\"1\", \"2\"] + [\"3\"]"
   ]
  },
  {
   "cell_type": "markdown",
   "metadata": {},
   "source": [
    "### Effacer l’élément à l’index `i`"
   ]
  },
  {
   "cell_type": "markdown",
   "metadata": {},
   "source": [
    "La commande `del` efface une entrée de la liste. Mais il faut se rappeler qu’on commence la numérotation à 0. Donc ici, pour effacer le 4e élément, on compte 0, 1, 2, `[3]`."
   ]
  },
  {
   "cell_type": "code",
   "execution_count": 7,
   "metadata": {},
   "outputs": [
    {
     "name": "stdout",
     "output_type": "stream",
     "text": [
      "['Georges', 'Monique', 'Eric', 'Françoise']\n"
     ]
    }
   ],
   "source": [
    "students = ['Georges', 'Monique', 'Eric', 'Françoise', 'ABCDEF']\n",
    "del students[-1]\n",
    "print(students)"
   ]
  },
  {
   "cell_type": "markdown",
   "metadata": {},
   "source": [
    "### Retirer un élément de la liste selon sa valeur"
   ]
  },
  {
   "cell_type": "markdown",
   "metadata": {},
   "source": [
    "La méthode `.remove()` supprime un élément d’après sa valeur. Ici, on enlève la première valeur «Monique». Seul le premier élément trouvé est enlevé."
   ]
  },
  {
   "cell_type": "code",
   "execution_count": 8,
   "metadata": {},
   "outputs": [
    {
     "name": "stdout",
     "output_type": "stream",
     "text": [
      "['Georges', 'Eric', 'Françoise', 'ABCDEF', 'Monique', 'Monique']\n"
     ]
    }
   ],
   "source": [
    "students = ['Georges', 'Monique', 'Eric', 'Françoise', 'ABCDEF', 'Monique', 'Monique']\n",
    "students.remove(\"Monique\")\n",
    "print(students)"
   ]
  },
  {
   "cell_type": "code",
   "execution_count": 9,
   "metadata": {},
   "outputs": [],
   "source": [
    "while \"Monique\" in students:\n",
    "    students.remove(\"Monique\")"
   ]
  },
  {
   "cell_type": "code",
   "execution_count": 10,
   "metadata": {},
   "outputs": [
    {
     "data": {
      "text/plain": [
       "['Georges', 'Eric', 'Françoise', 'ABCDEF']"
      ]
     },
     "execution_count": 10,
     "metadata": {},
     "output_type": "execute_result"
    }
   ],
   "source": [
    "students"
   ]
  },
  {
   "cell_type": "markdown",
   "metadata": {},
   "source": [
    "## “List Comprehensions”\n",
    "\n",
    "Python propose une manière simplifiée de traiter les éléments d’une liste en boucle: la **liste en compréhension**. C’est-à-dire une liste définie à partir d’une autre liste. Voici deux variantes d’un code qui calcule le carré des éléments d’une liste:"
   ]
  },
  {
   "cell_type": "code",
   "execution_count": 11,
   "metadata": {},
   "outputs": [],
   "source": [
    "# Notre liste de départ\n",
    "xs = [1, 2, 3, 4, 5, 6, 7, 8]\n",
    "\n",
    "# Puissance 2 avec une boucle “for”\n",
    "ys = []\n",
    "for x in xs:\n",
    "    ys.append(x ** 2)"
   ]
  },
  {
   "cell_type": "code",
   "execution_count": 12,
   "metadata": {},
   "outputs": [
    {
     "name": "stdout",
     "output_type": "stream",
     "text": [
      "[1, 2, 3, 4, 5, 6, 7, 8]\n",
      "[1, 4, 9, 16, 25, 36, 49, 64]\n"
     ]
    }
   ],
   "source": [
    "# Avec une “List Comprehension”\n",
    "ys = [x ** 2 for x in xs]\n",
    "\n",
    "print(xs)\n",
    "print(ys)"
   ]
  },
  {
   "cell_type": "code",
   "execution_count": 13,
   "metadata": {},
   "outputs": [
    {
     "data": {
      "text/plain": [
       "['Mazzone Lisa', 'Sommaruga Carlo', 'Hirsch Jeanne']"
      ]
     },
     "execution_count": 13,
     "metadata": {},
     "output_type": "execute_result"
    }
   ],
   "source": [
    "politiciens = [\"MAZZONE Lisa\", \"SOMMARUGA Carlo\", \"HIRSCH Jeanne\"]\n",
    "[nom.title() for nom in politiciens]"
   ]
  },
  {
   "cell_type": "markdown",
   "metadata": {},
   "source": [
    "## Exercice \n",
    "Comptez le nombre de lettres de chaque nom à l’aide d’une *List Comprehension*."
   ]
  },
  {
   "cell_type": "code",
   "execution_count": 14,
   "metadata": {},
   "outputs": [
    {
     "name": "stdout",
     "output_type": "stream",
     "text": [
      "[7, 7, 4, 9]\n"
     ]
    }
   ],
   "source": [
    "students = ['Georges', 'Monique', 'Eric', 'Françoise']\n",
    "\n",
    "# Boucle for:\n",
    "lengths = []\n",
    "for student in students:\n",
    "    lengths.append(len(student))\n",
    "\n",
    "# Votre code ici\n",
    "# …\n",
    "lengths = [len(student) for student in students]\n",
    "\n",
    "print(lengths)"
   ]
  },
  {
   "cell_type": "markdown",
   "metadata": {},
   "source": [
    "## Imbriquer les listes\n",
    "\n",
    "Une liste peut contenir d’autres listes. Cela permet par exemple de construire une matrice:"
   ]
  },
  {
   "cell_type": "code",
   "execution_count": 15,
   "metadata": {},
   "outputs": [],
   "source": [
    "cities = [\n",
    "    [\"Berlin\", \"Lausanne\", \"La Tchaux\"],\n",
    "    [\"Budapest\", \"Saint-Oyens\", \"Rome\"]\n",
    "]"
   ]
  },
  {
   "cell_type": "markdown",
   "metadata": {},
   "source": [
    "## Exercice\n",
    "A qui Max envoie-t-il des lettres?\n",
    "- Parcourez la liste et trouvez quand Max est en première position\n",
    "- Enregistrez ensuite les noms en 2e position dans la liste max_recipients"
   ]
  },
  {
   "cell_type": "code",
   "execution_count": 16,
   "metadata": {},
   "outputs": [
    {
     "name": "stdout",
     "output_type": "stream",
     "text": [
      "['Susi', 'Franz', 'Lila']\n"
     ]
    }
   ],
   "source": [
    "max_recipients = []\n",
    "\n",
    "sender_and_recipient = [\n",
    "    [\"Max\", \"Susi\"],\n",
    "    [\"Susi\", \"Julia\"],\n",
    "    [\"Julia\", \"Franz\"],\n",
    "    [\"Max\", \"Franz\"],\n",
    "    [\"Franz\", \"Julia\"],\n",
    "    [\"Max\", \"Lila\"]\n",
    "]\n",
    "#for ... votre code ici\n",
    "for liste in sender_and_recipient:\n",
    "    if liste[0] == \"Max\":\n",
    "        max_recipients.append(liste[-1])\n",
    "\n",
    "print(max_recipients)"
   ]
  },
  {
   "cell_type": "code",
   "execution_count": 17,
   "metadata": {},
   "outputs": [
    {
     "name": "stdout",
     "output_type": "stream",
     "text": [
      "Max Susi\n",
      "Susi Julia\n",
      "Julia Franz\n",
      "Max Franz\n",
      "Franz Julia\n",
      "Max Lila\n"
     ]
    },
    {
     "data": {
      "text/plain": [
       "['Susi', 'Franz', 'Lila']"
      ]
     },
     "execution_count": 17,
     "metadata": {},
     "output_type": "execute_result"
    }
   ],
   "source": [
    "max_recipients = []\n",
    "for exp, dest in sender_and_recipient:\n",
    "    print(exp, dest)\n",
    "    if exp == \"Max\":\n",
    "        max_recipients.append(dest)\n",
    "\n",
    "max_recipients"
   ]
  },
  {
   "cell_type": "markdown",
   "metadata": {},
   "source": [
    "## Trier des listes\n",
    "\n",
    "Vous aurez souvent besoin de trier des listes. Python propose une fonction pour ce faire. Mais on peut également modifier le système de tri à sa guise."
   ]
  },
  {
   "cell_type": "code",
   "execution_count": 18,
   "metadata": {},
   "outputs": [
    {
     "name": "stdout",
     "output_type": "stream",
     "text": [
      "['Eric', 'Françoise', 'Georges', 'Monique']\n"
     ]
    }
   ],
   "source": [
    "l = ['Georges', 'Monique', 'Eric', 'Françoise']\n",
    "l.sort()\n",
    "print(l)"
   ]
  },
  {
   "cell_type": "code",
   "execution_count": 19,
   "metadata": {},
   "outputs": [
    {
     "name": "stdout",
     "output_type": "stream",
     "text": [
      "['Monique', 'Georges', 'Françoise', 'Eric']\n"
     ]
    }
   ],
   "source": [
    "l = ['Georges', 'Monique', 'Eric', 'Françoise']\n",
    "l.sort(reverse=True)\n",
    "print(l)"
   ]
  },
  {
   "cell_type": "markdown",
   "metadata": {},
   "source": [
    "#### Utiliser sa propre fonction"
   ]
  },
  {
   "cell_type": "code",
   "execution_count": 20,
   "metadata": {},
   "outputs": [
    {
     "name": "stdout",
     "output_type": "stream",
     "text": [
      "['Max', 'Erik', 'Monika', 'Franziska']\n"
     ]
    }
   ],
   "source": [
    "l = [\"Max\", \"Monika\", \"Erik\", \"Franziska\"]\n",
    "\n",
    "def get_length(item):\n",
    "    return len(item)\n",
    "\n",
    "l.sort(key=get_length)\n",
    "print(l)"
   ]
  },
  {
   "cell_type": "markdown",
   "metadata": {},
   "source": [
    "## Exercice\n",
    "Triez les noms pour qu’ils ne soient pas triés selon leur première lettre, mais selon leur dernière lettre"
   ]
  },
  {
   "cell_type": "code",
   "execution_count": 21,
   "metadata": {},
   "outputs": [
    {
     "ename": "SyntaxError",
     "evalue": "expected ':' (2422610685.py, line 3)",
     "output_type": "error",
     "traceback": [
      "\u001b[0;36m  Cell \u001b[0;32mIn[21], line 3\u001b[0;36m\u001b[0m\n\u001b[0;31m    def get_last_letter(item)\u001b[0m\n\u001b[0m                             ^\u001b[0m\n\u001b[0;31mSyntaxError\u001b[0m\u001b[0;31m:\u001b[0m expected ':'\n"
     ]
    }
   ],
   "source": [
    "l = ['Georges', 'Monique', 'Eric', 'Françoise']\n",
    "\n",
    "def get_last_letter(item)\n",
    "    # votre code ici\n",
    "\n",
    "l.sort(key=get_last_letter)\n",
    "print(l)\n",
    "\n"
   ]
  }
 ],
 "metadata": {
  "kernelspec": {
   "display_name": "Python 3 (ipykernel)",
   "language": "python",
   "name": "python3"
  },
  "language_info": {
   "codemirror_mode": {
    "name": "ipython",
    "version": 3
   },
   "file_extension": ".py",
   "mimetype": "text/x-python",
   "name": "python",
   "nbconvert_exporter": "python",
   "pygments_lexer": "ipython3",
   "version": "3.11.4"
  }
 },
 "nbformat": 4,
 "nbformat_minor": 2
}
