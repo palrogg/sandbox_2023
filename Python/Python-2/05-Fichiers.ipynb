{
 "cells": [
  {
   "cell_type": "markdown",
   "metadata": {},
   "source": [
    "# Fichiers\n",
    "Les fichiers sont très pratiques. Grâce à eux, on peut lire et enregistrer des données. Comment fait-on ça en Python?"
   ]
  },
  {
   "cell_type": "markdown",
   "metadata": {},
   "source": [
    "## Lire un fichier et afficher son contenu\n",
    "\n",
    "On ouvre lire.txt en «lecture» (`r` pour **read**) et on passe son contenu à une variable:"
   ]
  },
  {
   "cell_type": "code",
   "execution_count": 1,
   "metadata": {},
   "outputs": [
    {
     "name": "stdout",
     "output_type": "stream",
     "text": [
      "Les amis…\n",
      "Je suis une superbe 2e ligne de fichier.\n"
     ]
    }
   ],
   "source": [
    "file = open(\"lire.txt\", \"r\")\n",
    "\n",
    "# On parcourt chaque ligne\n",
    "# Le fichier contient un symbole invisible pour nous, qui signale chaque fin de ligne\n",
    "for line in file:\n",
    "    # Montrer chaque ligne sans les sauts de ligne\n",
    "    print(line.strip())\n",
    "file.close()"
   ]
  },
  {
   "cell_type": "markdown",
   "metadata": {},
   "source": [
    "## Ecrire dans un fichier\n",
    "C’est aussi simple que pour le lire.\n",
    "On va ouvrir un fichier en «écriture» (`w` pour **write**)"
   ]
  },
  {
   "cell_type": "code",
   "execution_count": 2,
   "metadata": {},
   "outputs": [],
   "source": [
    "file = open(\"ecrire.txt\", \"w\")\n",
    "\n",
    "students = [\"Roger\", \"Monique\", \"Charlotte\", \"José\"]\n",
    "\n",
    "# On parcourt chaque nom\n",
    "for student in students:\n",
    "    # On ajoute un saut de ligne après chaque nom\n",
    "    file.write(student + \"\\n\")\n",
    "\n",
    "# A la fin, on doit refermer le fichier\n",
    "file.close()"
   ]
  },
  {
   "cell_type": "markdown",
   "metadata": {},
   "source": [
    "## Ouvrir un fichier avec «with»\n",
    "Cela permet de ne plus avoir à penser à fermer le fichier."
   ]
  },
  {
   "cell_type": "code",
   "execution_count": 3,
   "metadata": {},
   "outputs": [
    {
     "name": "stdout",
     "output_type": "stream",
     "text": [
      "Les amis…\n",
      "Je suis une superbe 2e ligne de fichier.\n"
     ]
    }
   ],
   "source": [
    "with open(\"lire.txt\", \"r\") as file:\n",
    "    for line in file:\n",
    "        print(line.strip())"
   ]
  },
  {
   "cell_type": "markdown",
   "metadata": {},
   "source": [
    "## Lire un fichier CSV\n",
    "CSV signifie «valeurs séparées par des virgules» (*comma separated values*). On peut aussi les parcourir avec Python (mais on verra bientôt des méthodes plus pratiques, faites pour ce type de fichiers):"
   ]
  },
  {
   "cell_type": "code",
   "execution_count": 4,
   "metadata": {},
   "outputs": [
    {
     "name": "stdout",
     "output_type": "stream",
     "text": [
      "Muenchen: 1800000\n",
      "Berlin: 3000000\n",
      "Budapest: 2000000\n"
     ]
    }
   ],
   "source": [
    "with open(\"datei.csv\") as file:\n",
    "    for line in file:\n",
    "        data = line.split(\";\")\n",
    "        print(data[0] + \": \" + data[1])"
   ]
  },
  {
   "cell_type": "markdown",
   "metadata": {},
   "source": [
    "## Lire un fichier CSV (et «sauter» des données)\n",
    "\n",
    "Les données d’un CSV sont des données comme les autres. On peut très facilement sauter des lignes:"
   ]
  },
  {
   "cell_type": "code",
   "execution_count": 5,
   "metadata": {},
   "outputs": [
    {
     "name": "stdout",
     "output_type": "stream",
     "text": [
      "['Berlin', '3000000', 'BER\\n']\n"
     ]
    }
   ],
   "source": [
    "with open(\"datei.csv\") as file:\n",
    "    for line in file:\n",
    "        data = line.split(\";\")\n",
    "        \n",
    "        if int(data[1]) < 2000000:\n",
    "            continue\n",
    "        \n",
    "        if data[2] == \"BUD\":\n",
    "            continue\n",
    "        \n",
    "        print(data)"
   ]
  },
  {
   "cell_type": "markdown",
   "metadata": {},
   "source": [
    "## Exercice\n",
    "On peut enfin travailler avec un «vrai» jeu de données!\n",
    "- Lisez le fichier dog_names.csv (dans notre dossier actuel)\n",
    "- Trouvez la fréquence du nom \"Aaron\" entre 2000 et 2012"
   ]
  },
  {
   "cell_type": "code",
   "execution_count": 6,
   "metadata": {},
   "outputs": [
    {
     "name": "stdout",
     "output_type": "stream",
     "text": [
      "True\n"
     ]
    }
   ],
   "source": [
    "# Indice 1:\n",
    "n = \"1975\"\n",
    "print(int(n) < 1990)"
   ]
  },
  {
   "cell_type": "code",
   "execution_count": 7,
   "metadata": {},
   "outputs": [
    {
     "name": "stdout",
     "output_type": "stream",
     "text": [
      "1990\n",
      "1992\n"
     ]
    }
   ],
   "source": [
    "# Indice 2:\n",
    "years = [\"Year\", \"1990\", \"1992\"]\n",
    "\n",
    "for year in years:\n",
    "    if year == \"Year\":\n",
    "        continue\n",
    "    print(int(year))"
   ]
  },
  {
   "cell_type": "code",
   "execution_count": 8,
   "metadata": {},
   "outputs": [
    {
     "name": "stdout",
     "output_type": "stream",
     "text": [
      "J’ai trouvé 4 Aaron\n"
     ]
    }
   ],
   "source": [
    "count = 0\n",
    "\n",
    "with open('dog_names.csv', 'r') as file:\n",
    "    for line in file:\n",
    "        if 'Aaron' in line:\n",
    "            year = int( line.split(',')[1] )\n",
    "            if year >= 2000 and year <= 2012:\n",
    "                count += 1\n",
    "            \n",
    "print('J’ai trouvé', count, 'Aaron')"
   ]
  },
  {
   "cell_type": "code",
   "execution_count": 9,
   "metadata": {},
   "outputs": [],
   "source": [
    "### votre code ici\n",
    "\n"
   ]
  },
  {
   "cell_type": "code",
   "execution_count": null,
   "metadata": {},
   "outputs": [],
   "source": []
  },
  {
   "cell_type": "code",
   "execution_count": null,
   "metadata": {},
   "outputs": [],
   "source": []
  }
 ],
 "metadata": {
  "kernelspec": {
   "display_name": "Python 3",
   "language": "python",
   "name": "python3"
  },
  "language_info": {
   "codemirror_mode": {
    "name": "ipython",
    "version": 3
   },
   "file_extension": ".py",
   "mimetype": "text/x-python",
   "name": "python",
   "nbconvert_exporter": "python",
   "pygments_lexer": "ipython3",
   "version": "3.11.4"
  }
 },
 "nbformat": 4,
 "nbformat_minor": 2
}
