{
 "cells": [
  {
   "cell_type": "markdown",
   "metadata": {},
   "source": [
    "# Les conditions en Python\n",
    "\n",
    "Un programme devient beaucoup plus intéressant du moment qu’on peut le faire réagir à une condition.\n",
    "\n",
    "Par exemple: *si de la neige a été observée, ajouter un*. C’est une instruction que j’ai utilisée pour compter les jours de neige dans un fichier de MétéoSuisse.\n",
    "\n",
    "Pour poser une condition, en Python, on utilise le mot-clé **if**. Il permet d’exécuter du code uniquement quand certaines conditions sont remplies.\n",
    "\n",
    "Le code en question est délimité par une tabulation.\n",
    "\n",
    "Voici un exemple:"
   ]
  },
  {
   "cell_type": "code",
   "execution_count": null,
   "metadata": {},
   "outputs": [],
   "source": [
    "n = 30\n",
    "\n",
    "if n < 42:\n",
    "    print(\"Le nombre est inférieur à 42.\")\n",
    "\n",
    "print(\"Je n’ai pas de tabulation!\")"
   ]
  },
  {
   "cell_type": "markdown",
   "metadata": {},
   "source": [
    "Il est important que le code sous la condition soit indenté (on le décale vers la droite avec un «tab»).\n",
    "\n",
    "L’égalité se note `==` pour la différencier de la création ou mise à jour d’une variable (`=`):"
   ]
  },
  {
   "cell_type": "code",
   "execution_count": null,
   "metadata": {},
   "outputs": [],
   "source": [
    "nom = 'Arthur'\n",
    "if nom == 'Arthur':\n",
    "    print('C’est bien Arthur.')"
   ]
  },
  {
   "cell_type": "markdown",
   "metadata": {},
   "source": [
    "### else\n",
    "La condition «if» peut être complétée avec un **else** qui s’exécute lorsqu’elle n’est pas remplie."
   ]
  },
  {
   "cell_type": "code",
   "execution_count": null,
   "metadata": {},
   "outputs": [],
   "source": [
    "m = 10\n",
    "\n",
    "if m < 5:\n",
    "    print(\"«m» est inférieur à 5\")\n",
    "else:\n",
    "    print(\"«m» n’est PAS inférieur à 5\")"
   ]
  },
  {
   "cell_type": "markdown",
   "metadata": {},
   "source": [
    "## elif - encore plus de décisions\n",
    "Une structure **if-else** ne permet que deux choix, c’est-à-dire que la condition peut être vraie (True) ou fausse (False).\n",
    "\n",
    "Si on veut programmer un modèle de décision dans lequel davantage de conditions doivent être vérifiées, nous pouvons imbriquer plusieurs structures if-else."
   ]
  },
  {
   "cell_type": "code",
   "execution_count": null,
   "metadata": {},
   "outputs": [],
   "source": [
    "currency = \"€\"\n",
    "\n",
    "if currency == \"$\":\n",
    "    print(\"Dollar américain\")\n",
    "else:\n",
    "    if currency == \"¥\":\n",
    "        print(\"Yen\")\n",
    "    else:\n",
    "        if currency == \"€\":\n",
    "            print(\"Euro\")\n",
    "        else:\n",
    "            if currency == \"฿\":\n",
    "                print(\"Thai Baht\")"
   ]
  },
  {
   "cell_type": "markdown",
   "metadata": {},
   "source": [
    "Ce code peut s’écrire plus clairement grâce au mot-clé **elif**, contraction de «else if»:"
   ]
  },
  {
   "cell_type": "code",
   "execution_count": null,
   "metadata": {},
   "outputs": [],
   "source": [
    "currency = \"HKD\"\n",
    "\n",
    "if currency == \"$\":\n",
    "    print(\"Dollar américain\")\n",
    "elif currency == \"¥\":\n",
    "    print(\"Yen\")\n",
    "elif currency == \"€\":\n",
    "    print(\"Euro\")\n",
    "elif currency == \"฿\":\n",
    "    print(\"Thai Baht\")\n",
    "else:\n",
    "    print(\"Autre\")"
   ]
  },
  {
   "cell_type": "markdown",
   "metadata": {},
   "source": [
    "## Exercice"
   ]
  },
  {
   "cell_type": "markdown",
   "metadata": {},
   "source": [
    "On veut casser les prix pour attirer des clients dans une boutique en ligne:\n",
    "* Les articles dont le prix est compris entre 0 et 20 CHF (non inclus) bénéficient d'une réduction de 20%\n",
    "* Les articles dont le prix est compris entre 20 CHF (inclus) et 50 CHF (non compris) sont réduits de 40%\n",
    "* Tous les autres articles, c'est-à-dire ceux qui coûtent 50 CHF ou plus, sont réduits de 60%\n",
    "\n",
    "A vous!"
   ]
  },
  {
   "cell_type": "code",
   "execution_count": 3,
   "metadata": {},
   "outputs": [
    {
     "name": "stdout",
     "output_type": "stream",
     "text": [
      "60%!! 20.0\n"
     ]
    }
   ],
   "source": [
    "price = 50\n",
    "\n",
    "# ici: votre structure if-else\n",
    "if price < 20:\n",
    "    print(\"20%\", price * 0.8)\n",
    "elif price < 50:\n",
    "    print(\"40%!\", price * 0.6)\n",
    "else:\n",
    "    print(\"60%!!\", price * 0.4)"
   ]
  },
  {
   "cell_type": "code",
   "execution_count": null,
   "metadata": {},
   "outputs": [],
   "source": []
  }
 ],
 "metadata": {
  "kernelspec": {
   "display_name": "Python 3 (ipykernel)",
   "language": "python",
   "name": "python3"
  },
  "language_info": {
   "codemirror_mode": {
    "name": "ipython",
    "version": 3
   },
   "file_extension": ".py",
   "mimetype": "text/x-python",
   "name": "python",
   "nbconvert_exporter": "python",
   "pygments_lexer": "ipython3",
   "version": "3.11.4"
  }
 },
 "nbformat": 4,
 "nbformat_minor": 4
}
