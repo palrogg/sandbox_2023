{
 "cells": [
  {
   "cell_type": "markdown",
   "metadata": {},
   "source": [
    "## Types de données\n",
    "\n",
    "Nombre entier (int): `150`\n",
    "\n",
    "Nombre à virgule flottante (float): `1.123`\n",
    "\n",
    "Chaîne de caractères (str): `\"Il fait beau et chaud\"`\n",
    "\n",
    "Liste (list): `[102, 301, 302]`\n",
    "\n",
    "Dictionnaire (dict): `{\"name\": \"Patrick\"}`"
   ]
  },
  {
   "cell_type": "markdown",
   "metadata": {},
   "source": [
    "## Variables\n",
    "\n",
    "Créer une variable:\n",
    "\n",
    "`index = 1`\n",
    "\n",
    "`name = \"Patrice\"`\n",
    "\n",
    "`mylist = [\"a\", \"b\", \"c\"]`"
   ]
  },
  {
   "cell_type": "markdown",
   "metadata": {},
   "source": [
    "## Conversions"
   ]
  },
  {
   "cell_type": "code",
   "execution_count": 1,
   "metadata": {},
   "outputs": [
    {
     "data": {
      "text/plain": [
       "'42'"
      ]
     },
     "execution_count": 1,
     "metadata": {},
     "output_type": "execute_result"
    }
   ],
   "source": [
    "int(40.1)\n",
    "float(\"40.25\")\n",
    "str(42)"
   ]
  },
  {
   "cell_type": "markdown",
   "metadata": {},
   "source": [
    "## Listes\n",
    "\n",
    "On utilise les parenthèses carrées (brackets): `[...]`\n",
    "\n",
    "`students = [\"Pierre\", \"Maud\", \"Julie\"]`\n",
    "\n",
    "Ajouter un élément: `students.append(\"René\")`\n",
    "\n",
    "Accéder au 1er élément: `students[0]`\n",
    "\n",
    "Accéder au dernier élément: `students[-1]`"
   ]
  },
  {
   "cell_type": "markdown",
   "metadata": {},
   "source": [
    "## print() et f-strings"
   ]
  },
  {
   "cell_type": "code",
   "execution_count": 6,
   "metadata": {},
   "outputs": [
    {
     "name": "stdout",
     "output_type": "stream",
     "text": [
      "Le produit coûte 13.5 CHF.\n"
     ]
    }
   ],
   "source": [
    "nombre = 13.5\n",
    "texte = f\"Le produit coûte {nombre} CHF.\"\n",
    "print(texte)"
   ]
  },
  {
   "cell_type": "code",
   "execution_count": 3,
   "metadata": {},
   "outputs": [
    {
     "name": "stdout",
     "output_type": "stream",
     "text": [
      "Le produit coûte 13.5 CHF\n"
     ]
    }
   ],
   "source": [
    "print(\"Le produit coûte\", nombre, \"CHF\")"
   ]
  },
  {
   "cell_type": "code",
   "execution_count": 4,
   "metadata": {},
   "outputs": [
    {
     "name": "stdout",
     "output_type": "stream",
     "text": [
      "Ce texte n’est pas suivi d’un saut de ligne... Ce texte n’est pas suivi d’un saut de ligne... "
     ]
    }
   ],
   "source": [
    "print(\"Ce texte n’est pas suivi d’un saut de ligne\", end=\"... \")\n",
    "print(\"Ce texte n’est pas suivi d’un saut de ligne\", end=\"... \")"
   ]
  },
  {
   "cell_type": "code",
   "execution_count": 5,
   "metadata": {},
   "outputs": [
    {
     "name": "stdout",
     "output_type": "stream",
     "text": [
      "Chargement des fichiers:\n",
      "..........OK!\n"
     ]
    }
   ],
   "source": [
    "print(\"Chargement des fichiers:\")\n",
    "for i in range(0, 10):\n",
    "    print(\".\", end=\"\")\n",
    "print(\"OK!\")"
   ]
  }
 ],
 "metadata": {
  "kernelspec": {
   "display_name": "Python 3 (ipykernel)",
   "language": "python",
   "name": "python3"
  },
  "language_info": {
   "codemirror_mode": {
    "name": "ipython",
    "version": 3
   },
   "file_extension": ".py",
   "mimetype": "text/x-python",
   "name": "python",
   "nbconvert_exporter": "python",
   "pygments_lexer": "ipython3",
   "version": "3.11.4"
  }
 },
 "nbformat": 4,
 "nbformat_minor": 4
}
