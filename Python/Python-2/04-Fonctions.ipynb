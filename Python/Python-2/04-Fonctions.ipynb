{
 "cells": [
  {
   "cell_type": "markdown",
   "metadata": {},
   "source": [
    "# Fonctions\n",
    "\n",
    "Les fonctions sont des blocs de code. En utilisant des fonctions, nous pouvons éviter de répéter des lignes de code utilisées plusieurs fois. Au lieu de cela, nous définissons une fonction qui contient ces lignes et nous n’avons plus qu’à «appeler» la fonction."
   ]
  },
  {
   "cell_type": "markdown",
   "metadata": {},
   "source": [
    "### Définir et appeler une fonction\n",
    "\n",
    "Nous avons déjà appris quelques fonctions que Python met à notre disposition. Celle que nous avons le plus utilisée est la fonction `print()`:\n"
   ]
  },
  {
   "cell_type": "code",
   "execution_count": 1,
   "metadata": {},
   "outputs": [
    {
     "name": "stdout",
     "output_type": "stream",
     "text": [
      "SALUT TOUT LE MONDE\n"
     ]
    }
   ],
   "source": [
    "print(\"SALUT TOUT LE MONDE\")"
   ]
  },
  {
   "cell_type": "markdown",
   "metadata": {},
   "source": [
    "NB Cette page donne un aperçu des fonctions de base de Python: https://docs.python.org/3/library/functions.html"
   ]
  },
  {
   "cell_type": "markdown",
   "metadata": {},
   "source": [
    "### D’autres fonctions"
   ]
  },
  {
   "cell_type": "markdown",
   "metadata": {},
   "source": [
    "Vous connaissez aussi la fonction `len()` pour les listes:"
   ]
  },
  {
   "cell_type": "code",
   "execution_count": 2,
   "metadata": {
    "scrolled": true
   },
   "outputs": [
    {
     "name": "stdout",
     "output_type": "stream",
     "text": [
      "2\n"
     ]
    }
   ],
   "source": [
    "print(len([\"Hello\", \"World\"]))"
   ]
  },
  {
   "cell_type": "markdown",
   "metadata": {},
   "source": [
    "Elle s’utilise également avec les chaînes de caractère."
   ]
  },
  {
   "cell_type": "code",
   "execution_count": 3,
   "metadata": {},
   "outputs": [
    {
     "name": "stdout",
     "output_type": "stream",
     "text": [
      "5\n"
     ]
    }
   ],
   "source": [
    "print(len(\"Hello\"))"
   ]
  },
  {
   "cell_type": "markdown",
   "metadata": {},
   "source": [
    "Si nous voulons utiliser notre propre fonction, nous devons d'abord la définir. Une telle définition de fonction a la syntaxe suivante:\n",
    "\n",
    "**def NomFonction():**\n",
    "<br>\n",
    "&nbsp;&nbsp;&nbsp;&nbsp;&nbsp;&nbsp; **Code**"
   ]
  },
  {
   "cell_type": "code",
   "execution_count": 4,
   "metadata": {},
   "outputs": [],
   "source": [
    "def multi_print():\n",
    "    print(\"Hello World!\")\n",
    "    print(\"Bonjour le monde!\")\n",
    "    print(\"Hallo Welt!\")"
   ]
  },
  {
   "cell_type": "markdown",
   "metadata": {},
   "source": [
    "Pour «appeler» cette fonction, on écrit: **NomFonction()**"
   ]
  },
  {
   "cell_type": "code",
   "execution_count": 5,
   "metadata": {},
   "outputs": [
    {
     "name": "stdout",
     "output_type": "stream",
     "text": [
      "Hello World!\n",
      "Bonjour le monde!\n",
      "Hallo Welt!\n"
     ]
    }
   ],
   "source": [
    "multi_print()"
   ]
  },
  {
   "cell_type": "markdown",
   "metadata": {},
   "source": [
    "### Fonctions avec un argument\n",
    "Vous pouvez passer des fonctions un **argument**, c’est-à-dire une valeur utilisée dans le code de la fonction:\n",
    "\n",
    "**def NomFonction(Argument):**\n",
    "<br>\n",
    "&nbsp;&nbsp;&nbsp;&nbsp;&nbsp;&nbsp; **Code qui emploie l’argument**"
   ]
  },
  {
   "cell_type": "code",
   "execution_count": 6,
   "metadata": {},
   "outputs": [
    {
     "name": "stdout",
     "output_type": "stream",
     "text": [
      "Salut Roger\n",
      "Ciao Roger\n"
     ]
    }
   ],
   "source": [
    "def multi_print2(name):\n",
    "    print(\"Salut\", name)\n",
    "    print(\"Ciao\", name)\n",
    "    \n",
    "multi_print2(\"Roger\")"
   ]
  },
  {
   "cell_type": "markdown",
   "metadata": {},
   "source": [
    "### Fonctions avec plusieurs arguments\n",
    "\n",
    "Une fonction peut avoir plusieurs arguments:\n",
    "\n",
    "**def NomFonction(Argument1, Argument2, ...):**\n",
    "<br>\n",
    "&nbsp;&nbsp;&nbsp;&nbsp;&nbsp;&nbsp; **Code qui emploie Argument1 et Argument2**"
   ]
  },
  {
   "cell_type": "code",
   "execution_count": 7,
   "metadata": {
    "scrolled": true
   },
   "outputs": [
    {
     "name": "stdout",
     "output_type": "stream",
     "text": [
      "Salut Roger\n",
      "Salut Roger\n",
      "Salut Roger\n",
      "Salut Roger\n",
      "Salut Roger\n"
     ]
    }
   ],
   "source": [
    "def multi_print(name, count):\n",
    "    for i in range(0, count):\n",
    "        print(\"Salut\", name)\n",
    "        \n",
    "multi_print(\"Roger\", 5)"
   ]
  },
  {
   "cell_type": "markdown",
   "metadata": {},
   "source": [
    "Vous pouvez considérer un tel paramètre comme une variable appartenant à une fonction. Évitez de donner le même nom à un paramètre de fonction et à une variable du programme: risque de confusion!"
   ]
  },
  {
   "cell_type": "markdown",
   "metadata": {},
   "source": [
    "### Fonctions et validité des variables"
   ]
  },
  {
   "cell_type": "code",
   "execution_count": 8,
   "metadata": {},
   "outputs": [
    {
     "name": "stdout",
     "output_type": "stream",
     "text": [
      "Hello Roger\n",
      "La variable «nom» contient: Bimbamboum\n"
     ]
    }
   ],
   "source": [
    "name = \"Bimbamboum\"\n",
    "\n",
    "def hello(name):\n",
    "    print(\"Hello\", name)\n",
    "    \n",
    "hello(\"Roger\")\n",
    "\n",
    "print(\"La variable «nom» contient:\", name)"
   ]
  },
  {
   "cell_type": "markdown",
   "metadata": {},
   "source": [
    "Vous pouvez voir que la valeur de la variable _name_ n'a aucune incidence sur l'argument _name_ de la fonction! La variable _name_ en dehors de la fonction est donc une variable différente de la variable _name_ dans la fonction.\n",
    "\n",
    "Donc soyez prudents: ça rend le code incompréhensible!"
   ]
  },
  {
   "cell_type": "markdown",
   "metadata": {},
   "source": [
    "## Exercice\n",
    "\n",
    "Écrivez une fonction qui calcule le prix total des produits dans un panier.\n",
    "Complétez la fonction list_sum(), qui reçoit une liste avec les prix comme paramètre. La fonction doit ensuite afficher la somme des nombres de la liste."
   ]
  },
  {
   "cell_type": "code",
   "execution_count": 9,
   "metadata": {},
   "outputs": [
    {
     "name": "stdout",
     "output_type": "stream",
     "text": [
      "Le total est: 0\n"
     ]
    }
   ],
   "source": [
    "cart_prices = [20, 3.5, 6.49, 8.99, 9.99, 14.98]\n",
    "\n",
    "def list_sum(price_list):\n",
    "    current_sum = 0\n",
    "    # votre code ici\n",
    "\n",
    "    print(\"Le total est: \" + str(current_sum))\n",
    "    \n",
    "list_sum(cart_prices)"
   ]
  },
  {
   "cell_type": "markdown",
   "metadata": {},
   "source": [
    "### fonctions dans les fonctions\n",
    "Les fonctions peuvent inclure d’autres fonctions que nous avons nous-même écrites:"
   ]
  },
  {
   "cell_type": "code",
   "execution_count": 10,
   "metadata": {},
   "outputs": [],
   "source": [
    "def multi_print(text,anzahl):\n",
    "    for i in range(0,anzahl):\n",
    "        print(text)\n",
    "        \n",
    "def super_greeting():\n",
    "    multi_print(\"Salut!\", 3)\n",
    "    multi_print(\"Cher Roger!\", 3)"
   ]
  },
  {
   "cell_type": "code",
   "execution_count": 11,
   "metadata": {
    "scrolled": true
   },
   "outputs": [
    {
     "name": "stdout",
     "output_type": "stream",
     "text": [
      "Salut!\n",
      "Salut!\n",
      "Salut!\n",
      "Cher Roger!\n",
      "Cher Roger!\n",
      "Cher Roger!\n"
     ]
    }
   ],
   "source": [
    "super_greeting()"
   ]
  },
  {
   "cell_type": "markdown",
   "metadata": {},
   "source": [
    "## Exercice"
   ]
  },
  {
   "cell_type": "markdown",
   "metadata": {},
   "source": [
    "- écrivez une fonction qui écrit «Salut mamie»\n",
    "- écrivez une fonction qui écrit «Salut papi»\n",
    "- écrivez une fonction family_greeting: elle appelle les deux fonctions précédentes"
   ]
  },
  {
   "cell_type": "code",
   "execution_count": 12,
   "metadata": {},
   "outputs": [],
   "source": [
    "# votre code ici"
   ]
  },
  {
   "cell_type": "markdown",
   "metadata": {},
   "source": [
    "### Retourner une valeur\n",
    "Jusqu'à présent, nous avons exécuté un bloc de code avec des fonctions qui peuvent dépendre d'arguments. Les fonctions peuvent également renvoyer des valeurs à l'aide de la commande **return**."
   ]
  },
  {
   "cell_type": "code",
   "execution_count": 13,
   "metadata": {
    "scrolled": true
   },
   "outputs": [],
   "source": [
    "def return_element(name):\n",
    "    x = name + \" Robert\"\n",
    "    return x\n",
    "\n",
    "a = return_element(\"Hi\")"
   ]
  },
  {
   "cell_type": "code",
   "execution_count": 14,
   "metadata": {},
   "outputs": [
    {
     "name": "stdout",
     "output_type": "stream",
     "text": [
      "Hi Robert\n"
     ]
    }
   ],
   "source": [
    "print(a)"
   ]
  },
  {
   "cell_type": "markdown",
   "metadata": {},
   "source": [
    "De telles fonctions peuvent être attribuées à des variables:"
   ]
  },
  {
   "cell_type": "code",
   "execution_count": 15,
   "metadata": {},
   "outputs": [
    {
     "name": "stdout",
     "output_type": "stream",
     "text": [
      "Right!\n"
     ]
    }
   ],
   "source": [
    "def return_with_exclamation(name):\n",
    "    return name + \"!\"\n",
    "\n",
    "a = return_with_exclamation(\"Hi\")\n",
    "\n",
    "if a == \"Hi!\":\n",
    "    print(\"Right!\")\n",
    "else:\n",
    "    print(\"Wrong.\")"
   ]
  },
  {
   "cell_type": "code",
   "execution_count": 16,
   "metadata": {},
   "outputs": [
    {
     "name": "stdout",
     "output_type": "stream",
     "text": [
      "14\n"
     ]
    }
   ],
   "source": [
    "def maximum(a, b):\n",
    "    if a < b:\n",
    "        return b\n",
    "    else:\n",
    "        return a\n",
    "\n",
    "result = maximum(10, 14)\n",
    "print(result)"
   ]
  },
  {
   "cell_type": "markdown",
   "metadata": {},
   "source": [
    "## Exercice\n",
    "\n",
    "Aux US, il est de coutume de donner un pourboire. Vous voulez écrire une fonction à laquelle vous donnez le prix du repas (prix), l'augmentation en pourcent, et elle vous renvoie le pourboire à laisser. Un exemple:\n",
    "tip_generator (10, 0.05) doit afficher:\n",
    "* Prix du repas: 10 dollars\n",
    "* Avec 5% de pourboire: 10,5 \\$\n",
    "* Avec un pourboire de 10%: 11 \\$\n",
    "* Avec 15% de pourboire: 11,5 \\$"
   ]
  },
  {
   "cell_type": "code",
   "execution_count": 17,
   "metadata": {},
   "outputs": [],
   "source": [
    "# votre code ici"
   ]
  },
  {
   "cell_type": "markdown",
   "metadata": {},
   "source": [
    "# Méthodes"
   ]
  },
  {
   "cell_type": "markdown",
   "metadata": {},
   "source": [
    "Nous avons vu précédemment des instructions qu’on attachait à une valeur avec un point. Une instruction de ce type, «attachée» à un objet précis, s’appelle une **méthode**. Vous en connaissez déjà deux, qui s’emploient avec des listes:"
   ]
  },
  {
   "cell_type": "code",
   "execution_count": 18,
   "metadata": {},
   "outputs": [
    {
     "name": "stdout",
     "output_type": "stream",
     "text": [
      "[1, 22, 18, 4]\n"
     ]
    }
   ],
   "source": [
    "# ajouter un élément\n",
    "numbers = [1, 22, 18]\n",
    "numbers.append(4)\n",
    "\n",
    "print(numbers)"
   ]
  },
  {
   "cell_type": "code",
   "execution_count": 19,
   "metadata": {},
   "outputs": [
    {
     "data": {
      "text/plain": [
       "18"
      ]
     },
     "execution_count": 19,
     "metadata": {},
     "output_type": "execute_result"
    }
   ],
   "source": [
    "# sortir un élément à un index donné\n",
    "numbers.pop(2)"
   ]
  },
  {
   "cell_type": "markdown",
   "metadata": {},
   "source": [
    "# Exercice"
   ]
  },
  {
   "cell_type": "markdown",
   "metadata": {},
   "source": [
    "Les objets de Python ont souvent des méthodes «intégrées» qui sont très pratiques.\n",
    "Pour les listes, découvrez:\n",
    "  - Comment pouvez-vous retourner les éléments d'une liste?\n",
    "  - Comment savoir où se trouve \"Max\"?\n",
    "  - Comment puis-je supprimer \"Max\" de la liste?"
   ]
  },
  {
   "cell_type": "code",
   "execution_count": 20,
   "metadata": {},
   "outputs": [],
   "source": [
    "liste = [\"Max\", \"Moritz\", \"Klara\", \"Elena\"]"
   ]
  },
  {
   "cell_type": "markdown",
   "metadata": {},
   "source": [
    "### Exercice bonus \n",
    "S’il vous reste du temps: quelles méthodes sont attachées aux `str`?\n",
    "- par exemple comment puis-je remplacer toutes les lettres a par x?\n",
    "- comment puis-je convertir une chaîne en minuscules?\n",
    "- qu'y a-t-il d’autre?"
   ]
  },
  {
   "cell_type": "code",
   "execution_count": null,
   "metadata": {},
   "outputs": [],
   "source": []
  }
 ],
 "metadata": {
  "kernelspec": {
   "display_name": "Python 3",
   "language": "python",
   "name": "python3"
  },
  "language_info": {
   "codemirror_mode": {
    "name": "ipython",
    "version": 3
   },
   "file_extension": ".py",
   "mimetype": "text/x-python",
   "name": "python",
   "nbconvert_exporter": "python",
   "pygments_lexer": "ipython3",
   "version": "3.11.4"
  }
 },
 "nbformat": 4,
 "nbformat_minor": 2
}
