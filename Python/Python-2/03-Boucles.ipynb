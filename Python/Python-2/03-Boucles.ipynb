{
 "cells": [
  {
   "cell_type": "markdown",
   "metadata": {},
   "source": [
    "# Boucles\n",
    "\n",
    "Les boucles vous permettent d'exécuter certaines parties du programme plusieurs fois. C’est utile si par exemple vous avez une liste d'étudiants et que vous voulez vous assurer qu’une commande `print()` est exécutée pour chaque étudiant.\n",
    "\n",
    "Une boucle vous permet de demander ça à l’ordinateur en très peu de code!"
   ]
  },
  {
   "cell_type": "markdown",
   "metadata": {},
   "source": [
    "## La boucle `while`\n",
    "\n",
    "Un code à l’intérieur d’une structure if-else n’est exécuté qu’une fois. Dans une boucle `while`, on peut tester une condition aussi longtemps qu’on le veut."
   ]
  },
  {
   "cell_type": "code",
   "execution_count": 3,
   "metadata": {},
   "outputs": [
    {
     "name": "stdout",
     "output_type": "stream",
     "text": [
      "1\n",
      "2\n",
      "3\n",
      "4\n",
      "5\n",
      "6\n",
      "7\n",
      "8\n",
      "9\n",
      "Travail terminé.\n"
     ]
    }
   ],
   "source": [
    "counter = 1\n",
    "\n",
    "while counter < 10:\n",
    "    print(counter)\n",
    "    counter = counter + 1\n",
    "\n",
    "print(\"Travail terminé.\")"
   ]
  },
  {
   "cell_type": "markdown",
   "metadata": {},
   "source": [
    "Une telle boucle **doit absolument** être écrite de telle manière qu’elle s’interrompt, sans quoi la boucle sera infinie."
   ]
  },
  {
   "cell_type": "markdown",
   "metadata": {},
   "source": [
    "## Exercice\n",
    "\n",
    "Réparez cette boucle cassée."
   ]
  },
  {
   "cell_type": "code",
   "execution_count": 1,
   "metadata": {},
   "outputs": [
    {
     "name": "stdout",
     "output_type": "stream",
     "text": [
      "Moritz\n",
      "Klara\n",
      "Monika\n",
      "Max\n"
     ]
    }
   ],
   "source": [
    "students = [\"Moritz\", \"Klara\", \"Monika\", \"Max\"]\n",
    "i = 0\n",
    "while i < len(students):\n",
    "    print(students[i])\n",
    "    # il manque quelque chose ici, non?\n",
    "    i = i + 1"
   ]
  },
  {
   "cell_type": "markdown",
   "metadata": {},
   "source": [
    "## La boucle `for`\n",
    "Cette boucle sert à parcourir une liste et à appliquer une instruction à chacun de ses éléments."
   ]
  },
  {
   "cell_type": "code",
   "execution_count": 2,
   "metadata": {},
   "outputs": [
    {
     "name": "stdout",
     "output_type": "stream",
     "text": [
      "5\n",
      "8\n",
      "10\n"
     ]
    }
   ],
   "source": [
    "liste = [5, 8, 10]\n",
    "for i in liste:\n",
    "    print(i)"
   ]
  },
  {
   "cell_type": "code",
   "execution_count": 7,
   "metadata": {},
   "outputs": [
    {
     "name": "stdout",
     "output_type": "stream",
     "text": [
      "Max\n",
      "Régis\n",
      "Monique\n"
     ]
    }
   ],
   "source": [
    "liste = [\"Max\", \"Régis\", \"Monique\"]\n",
    "for element in liste:\n",
    "    print(element)"
   ]
  },
  {
   "cell_type": "markdown",
   "metadata": {},
   "source": [
    "On voit que la variable `i` reçoit automatiquement une valeur de la liste."
   ]
  },
  {
   "cell_type": "markdown",
   "metadata": {},
   "source": [
    "### La fonction `range()`\n",
    "Une boucle `for` peut être appliquée à ce qu’on appelle un «générateur»: une fonction qui renvoie une série d’éléments. C’est le cas de `range()` («plage», «gamme» en anglais), qui renvoie toutes les valeurs comprises entre deux nombres:"
   ]
  },
  {
   "cell_type": "code",
   "execution_count": 16,
   "metadata": {},
   "outputs": [
    {
     "data": {
      "text/plain": [
       "[0, 1, 2, 3, 4, 5, 6, 7, 8, 9]"
      ]
     },
     "execution_count": 16,
     "metadata": {},
     "output_type": "execute_result"
    }
   ],
   "source": [
    "list      (range(0, 10))"
   ]
  },
  {
   "cell_type": "markdown",
   "metadata": {},
   "source": [
    "Un `range` n’est pas exactement une `list`. Mais avec le mot-clé `list()`, je l’ai transformé en liste pour pouvoir l’afficher ci-dessus.\n",
    "\n",
    "Et voici comment on peut l’utiliser avec une boucle `for`:"
   ]
  },
  {
   "cell_type": "code",
   "execution_count": 24,
   "metadata": {},
   "outputs": [
    {
     "name": "stdout",
     "output_type": "stream",
     "text": [
      "0\n",
      "1\n",
      "2\n",
      "3\n",
      "4\n",
      "5\n",
      "6\n",
      "7\n",
      "8\n",
      "9\n"
     ]
    }
   ],
   "source": [
    "for i in range(0, 10):\n",
    "    print(i)"
   ]
  },
  {
   "cell_type": "markdown",
   "metadata": {},
   "source": [
    "## Exercice \n",
    "Additionnez tous les nombres de 1 à 100 avec l’aide d’une boucle et d’un `range()`."
   ]
  },
  {
   "cell_type": "code",
   "execution_count": 25,
   "metadata": {},
   "outputs": [
    {
     "name": "stdout",
     "output_type": "stream",
     "text": [
      "0 + 1 = 1\n",
      "1 + 2 = 3\n",
      "3 + 3 = 6\n",
      "6 + 4 = 10\n",
      "10 + 5 = 15\n",
      "15 + 6 = 21\n",
      "21 + 7 = 28\n",
      "28 + 8 = 36\n",
      "36 + 9 = 45\n",
      "45 + 10 = 55\n",
      "55 + 11 = 66\n",
      "66 + 12 = 78\n",
      "78 + 13 = 91\n",
      "91 + 14 = 105\n",
      "105 + 15 = 120\n",
      "120 + 16 = 136\n",
      "136 + 17 = 153\n",
      "153 + 18 = 171\n",
      "171 + 19 = 190\n",
      "190 + 20 = 210\n",
      "210 + 21 = 231\n",
      "231 + 22 = 253\n",
      "253 + 23 = 276\n",
      "276 + 24 = 300\n",
      "300 + 25 = 325\n",
      "325 + 26 = 351\n",
      "351 + 27 = 378\n",
      "378 + 28 = 406\n",
      "406 + 29 = 435\n",
      "435 + 30 = 465\n",
      "465 + 31 = 496\n",
      "496 + 32 = 528\n",
      "528 + 33 = 561\n",
      "561 + 34 = 595\n",
      "595 + 35 = 630\n",
      "630 + 36 = 666\n",
      "666 + 37 = 703\n",
      "703 + 38 = 741\n",
      "741 + 39 = 780\n",
      "780 + 40 = 820\n",
      "820 + 41 = 861\n",
      "861 + 42 = 903\n",
      "903 + 43 = 946\n",
      "946 + 44 = 990\n",
      "990 + 45 = 1035\n",
      "1035 + 46 = 1081\n",
      "1081 + 47 = 1128\n",
      "1128 + 48 = 1176\n",
      "1176 + 49 = 1225\n",
      "1225 + 50 = 1275\n",
      "1275 + 51 = 1326\n",
      "1326 + 52 = 1378\n",
      "1378 + 53 = 1431\n",
      "1431 + 54 = 1485\n",
      "1485 + 55 = 1540\n",
      "1540 + 56 = 1596\n",
      "1596 + 57 = 1653\n",
      "1653 + 58 = 1711\n",
      "1711 + 59 = 1770\n",
      "1770 + 60 = 1830\n",
      "1830 + 61 = 1891\n",
      "1891 + 62 = 1953\n",
      "1953 + 63 = 2016\n",
      "2016 + 64 = 2080\n",
      "2080 + 65 = 2145\n",
      "2145 + 66 = 2211\n",
      "2211 + 67 = 2278\n",
      "2278 + 68 = 2346\n",
      "2346 + 69 = 2415\n",
      "2415 + 70 = 2485\n",
      "2485 + 71 = 2556\n",
      "2556 + 72 = 2628\n",
      "2628 + 73 = 2701\n",
      "2701 + 74 = 2775\n",
      "2775 + 75 = 2850\n",
      "2850 + 76 = 2926\n",
      "2926 + 77 = 3003\n",
      "3003 + 78 = 3081\n",
      "3081 + 79 = 3160\n",
      "3160 + 80 = 3240\n",
      "3240 + 81 = 3321\n",
      "3321 + 82 = 3403\n",
      "3403 + 83 = 3486\n",
      "3486 + 84 = 3570\n",
      "3570 + 85 = 3655\n",
      "3655 + 86 = 3741\n",
      "3741 + 87 = 3828\n",
      "3828 + 88 = 3916\n",
      "3916 + 89 = 4005\n",
      "4005 + 90 = 4095\n",
      "4095 + 91 = 4186\n",
      "4186 + 92 = 4278\n",
      "4278 + 93 = 4371\n",
      "4371 + 94 = 4465\n",
      "4465 + 95 = 4560\n",
      "4560 + 96 = 4656\n",
      "4656 + 97 = 4753\n",
      "4753 + 98 = 4851\n",
      "4851 + 99 = 4950\n",
      "4950 + 100 = 5050\n",
      "5050\n"
     ]
    }
   ],
   "source": [
    "# votre code ici\n",
    "addition = 0\n",
    "for i in range(1, 101):\n",
    "    print(f\"{addition} + {i} = \", end=\"\")\n",
    "    addition = addition + i\n",
    "    print(addition)\n",
    "\n",
    "print(addition)"
   ]
  },
  {
   "cell_type": "markdown",
   "metadata": {},
   "source": [
    "## Continue & Break\n",
    "\n",
    "Nous pouvons interrompre la boucle en cours de deux manières:\n",
    "* sauter à l’itération suivante, avec le mot-clé **continue**\n",
    "* abandonner la boucle entière, avec le mot-clé **break** (= casser, mettre fin)"
   ]
  },
  {
   "cell_type": "markdown",
   "metadata": {},
   "source": [
    "### Continue\n",
    "On utilise cette instruction quand on a besoin de «sauter» par-dessus une itération:"
   ]
  },
  {
   "cell_type": "code",
   "execution_count": 26,
   "metadata": {},
   "outputs": [
    {
     "name": "stdout",
     "output_type": "stream",
     "text": [
      "0\n",
      "1\n",
      "3\n",
      "4\n"
     ]
    }
   ],
   "source": [
    "for i in range(0, 5):\n",
    "    if i == 2:\n",
    "        continue\n",
    "    print(i)"
   ]
  },
  {
   "cell_type": "code",
   "execution_count": 29,
   "metadata": {},
   "outputs": [
    {
     "name": "stdout",
     "output_type": "stream",
     "text": [
      "albert>Albert\n",
      "roberta>Roberta\n",
      "filipe>xoxo>Xoxo\n"
     ]
    }
   ],
   "source": [
    "names = [\"albert\", \"roberta\", \"filipe\", \"xoxo\"]\n",
    "for name in names:\n",
    "    print(name, end=\">\")\n",
    "    if name == \"filipe\":\n",
    "        continue\n",
    "    print(name.title())"
   ]
  },
  {
   "cell_type": "markdown",
   "metadata": {},
   "source": [
    "Dans cet exemple, vous voyez que la valeur «2» a été «sautée»."
   ]
  },
  {
   "cell_type": "markdown",
   "metadata": {},
   "source": [
    "### Break\n",
    "\n",
    "Si on écrit simplement **break** sur une ligne, la boucle entière se termine quand le programme l’atteint:"
   ]
  },
  {
   "cell_type": "code",
   "execution_count": 36,
   "metadata": {},
   "outputs": [],
   "source": [
    "for j in range(1, 5):\n",
    "    break\n",
    "    for i in range(0, 10):\n",
    "        if i == 3:\n",
    "            break\n",
    "        print(f\"Boucle 1: {j}, boucle 2: {i}\")"
   ]
  },
  {
   "cell_type": "markdown",
   "metadata": {},
   "source": [
    "## Exercice\n",
    "\n",
    "Écrivez une boucle qui additionne tous les éléments d'une liste et si la somme est supérieure à 10, elle s'arrête et imprime la somme."
   ]
  },
  {
   "cell_type": "code",
   "execution_count": 41,
   "metadata": {},
   "outputs": [
    {
     "name": "stdout",
     "output_type": "stream",
     "text": [
      "17\n"
     ]
    }
   ],
   "source": [
    "array = [4, 6, 7, 2, 4, 6, 7]\n",
    "\n",
    "current_sum = 0\n",
    "\n",
    "# votre code ici\n",
    "for item in array:\n",
    "    current_sum = current_sum + item\n",
    "    \n",
    "    # si la somme est supérieure à 10\n",
    "    if current_sum > 10:\n",
    "        break\n",
    "    \n",
    "print(current_sum)"
   ]
  },
  {
   "cell_type": "markdown",
   "metadata": {},
   "source": [
    "## Exercice 2\n",
    "\n",
    "On écrit un générateur de tweets de Trump.\n",
    "\n"
   ]
  },
  {
   "cell_type": "markdown",
   "metadata": {},
   "source": [
    "Nous pouvons générer des nombres aléatoires en Python avec la fonction **randint()**. Mais pour utiliser cette fonction, nous devons d'abord intégrer le module «random»."
   ]
  },
  {
   "cell_type": "code",
   "execution_count": 48,
   "metadata": {},
   "outputs": [],
   "source": [
    "import random"
   ]
  },
  {
   "cell_type": "markdown",
   "metadata": {},
   "source": [
    "randint retourne des entiers aléatoires à partir d’un intervalle que nous lui indiquons. Tous les nombres entiers compris dans l'intervalle peuvent être des valeurs de randint."
   ]
  },
  {
   "cell_type": "code",
   "execution_count": null,
   "metadata": {},
   "outputs": [],
   "source": [
    "print(random.randint(0, 4))"
   ]
  },
  {
   "cell_type": "code",
   "execution_count": null,
   "metadata": {},
   "outputs": [],
   "source": [
    "print(random.randint(0, 4))"
   ]
  },
  {
   "cell_type": "markdown",
   "metadata": {},
   "source": [
    "### On crée les listes avec les termes de nos tweets\n",
    "\n",
    "Ici, quelques termes fréquemment utilisés dans ses tweets ;-)"
   ]
  },
  {
   "cell_type": "code",
   "execution_count": 42,
   "metadata": {},
   "outputs": [],
   "source": [
    "part1 = [\"Putin,\", \"Hillary,\", \"Obama\", \"Fake News,\", \"Mexico,\", \"Arnold Schwarzenegger\", \"The Democrats\"]\n",
    "part2 = [\"no talent,\", \"on the way down,\", \"really poor numbers,\", \"nasty tone,\", \"looking like a fool,\", \"bad hombre,\"]\n",
    "part3 = [\"got destroyed by my ratings.\", \"rigged the election.\", \"had a much smaller crowd.\", \"will pay for the wall.\"]\n",
    "part4 = [\"So sad\", \"Apologize\", \"So true\", \"Media won't report\", \"Big trouble\", \"Fantastic job\", \"Stay tuned\"]"
   ]
  },
  {
   "cell_type": "code",
   "execution_count": 44,
   "metadata": {
    "scrolled": true
   },
   "outputs": [
    {
     "name": "stdout",
     "output_type": "stream",
     "text": [
      "[['Putin,', 'Hillary,', 'Obama', 'Fake News,', 'Mexico,', 'Arnold Schwarzenegger', 'The Democrats'], ['no talent,', 'on the way down,', 'really poor numbers,', 'nasty tone,', 'looking like a fool,', 'bad hombre,'], ['got destroyed by my ratings.', 'rigged the election.', 'had a much smaller crowd.', 'will pay for the wall.'], ['So sad', 'Apologize', 'So true', \"Media won't report\", 'Big trouble', 'Fantastic job', 'Stay tuned']]\n"
     ]
    }
   ],
   "source": [
    "# Et on peut faire des listes de listes!\n",
    "phrases = [part1, part2, part3, part4]\n",
    "print(best_words)"
   ]
  },
  {
   "cell_type": "markdown",
   "metadata": {},
   "source": [
    "### Instructions pour construire le générateur de tweets\n",
    "\n",
    "- Prenez un mot aléatoire de chaque liste *part1*, *part2*, *part3*, *part4*\n",
    "- Ajoutez-le à notre phrase\n",
    "- Lorsque vous avez terminé, affichez la phrase sous forme de chaîne de caractères\n",
    "- Exemple de résultat: Hillary, nasty tone, had a much smaller crowd. Media won't report!"
   ]
  },
  {
   "cell_type": "code",
   "execution_count": 71,
   "metadata": {},
   "outputs": [
    {
     "name": "stdout",
     "output_type": "stream",
     "text": [
      " Obama bad hombre, got destroyed by my ratings. Fantastic job\n"
     ]
    }
   ],
   "source": [
    "# Votre code ici\n",
    "mots = \"\"\n",
    "for phrase in phrases:\n",
    "    mots = mots + \" \" + phrase[random.randint(0, len(phrase)-1)]\n",
    "    # ou :\n",
    "    # mots += \" \" + random.choice(phrase)\n",
    "\n",
    "print(mots)"
   ]
  },
  {
   "cell_type": "markdown",
   "metadata": {},
   "source": [
    "## Exercice bonus\n",
    "\n",
    "Revenons à notre boutique:\n",
    "* Les articles dont le prix est compris entre 0 et 20 CHF (inclus) bénéficient d'une réduction de 20%\n",
    "* Les articles dont le prix est compris entre 20 CHF (non compris) et 50 CHF (compris) sont réduits de 40%\n",
    "* Tous les autres articles, c'est-à-dire ceux qui coûtent plus de 50 CHF, sont réduits de 60%\n",
    "* **NOUVEAU** En raison d’une action spéciale, les articles dont les prix contiennent le chiffre 5 sont grauits!\n",
    "\n",
    "A vous!"
   ]
  }
 ],
 "metadata": {
  "kernelspec": {
   "display_name": "Python 3",
   "language": "python",
   "name": "python3"
  },
  "language_info": {
   "codemirror_mode": {
    "name": "ipython",
    "version": 3
   },
   "file_extension": ".py",
   "mimetype": "text/x-python",
   "name": "python",
   "nbconvert_exporter": "python",
   "pygments_lexer": "ipython3",
   "version": "3.11.4"
  }
 },
 "nbformat": 4,
 "nbformat_minor": 2
}
