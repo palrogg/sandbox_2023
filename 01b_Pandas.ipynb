{
 "cells": [
  {
   "cell_type": "markdown",
   "metadata": {},
   "source": [
    "## Les remorques par canton (fichier OFS)\n",
    "\n",
    "Lien stat-tab: https://www.pxweb.bfs.admin.ch/pxweb/fr/px-x-1103020200_101/-/px-x-1103020200_101.px/table/tableViewLayout2/  \n",
    "Permalien stat-tab (ne fonctionne pas en ce moment): https://www.pxweb.bfs.admin.ch/sq/457dcf31-6eab-4ff4-8c4b-e37504fd4a14"
   ]
  },
  {
   "cell_type": "code",
   "execution_count": 1,
   "metadata": {},
   "outputs": [],
   "source": [
    "import pandas as pd"
   ]
  },
  {
   "cell_type": "code",
   "execution_count": 6,
   "metadata": {},
   "outputs": [],
   "source": [
    "# On doit préciser l'encodage, parce que l'OFS n'utilise pas le format standart\n",
    "df = pd.read_csv(\"data/ofs-remorques.csv\", encoding=\"Latin-1\")"
   ]
  },
  {
   "cell_type": "code",
   "execution_count": 7,
   "metadata": {},
   "outputs": [
    {
     "data": {
      "text/plain": [
       "0                      ... Remorque agricole\n",
       "1                     ... Remorque motocycle\n",
       "2           ... Remorque de travail agricole\n",
       "3           ... Remorque transport de choses\n",
       "4                               ... Caravane\n",
       "                       ...                  \n",
       "229                             ... Caravane\n",
       "230        ... Remorque pour engins de sport\n",
       "231                  ... Remorque de travail\n",
       "232    ... Semi-remorque transport de choses\n",
       "233                     ... Autres remorques\n",
       "Name: Groupe / Genre de véhicule, Length: 234, dtype: object"
      ]
     },
     "execution_count": 7,
     "metadata": {},
     "output_type": "execute_result"
    }
   ],
   "source": [
    "# Les types de remorque disponible\n",
    "df[\"Groupe / Genre de véhicule\"]"
   ]
  },
  {
   "cell_type": "markdown",
   "metadata": {},
   "source": [
    "### Exercice, partie 1\n",
    "\n",
    "Ce tableau de données n'est pas optimal. Comment l'améliorer? Par exemple: colonne inutile, valeurs à nettoyer..."
   ]
  },
  {
   "cell_type": "code",
   "execution_count": null,
   "metadata": {},
   "outputs": [],
   "source": []
  },
  {
   "cell_type": "code",
   "execution_count": null,
   "metadata": {},
   "outputs": [],
   "source": []
  },
  {
   "cell_type": "markdown",
   "metadata": {},
   "source": [
    "### Exercice, partie 2\n",
    "\n",
    "Qu'est-ce que vous pouvez trouver dans ce jeu de données?\n",
    "\n",
    "Par exemple:\n",
    "* dans quel canton on met en circulation le plus de remorques agricoles?\n",
    "* dans quel canton on met en circulation le plus de caravanes en proportion des autres remorques?"
   ]
  },
  {
   "cell_type": "code",
   "execution_count": null,
   "metadata": {},
   "outputs": [],
   "source": []
  },
  {
   "cell_type": "code",
   "execution_count": null,
   "metadata": {},
   "outputs": [],
   "source": []
  },
  {
   "cell_type": "code",
   "execution_count": null,
   "metadata": {},
   "outputs": [],
   "source": []
  },
  {
   "cell_type": "code",
   "execution_count": null,
   "metadata": {},
   "outputs": [],
   "source": []
  }
 ],
 "metadata": {
  "kernelspec": {
   "display_name": "cpe2023",
   "language": "python",
   "name": "python3"
  },
  "language_info": {
   "codemirror_mode": {
    "name": "ipython",
    "version": 3
   },
   "file_extension": ".py",
   "mimetype": "text/x-python",
   "name": "python",
   "nbconvert_exporter": "python",
   "pygments_lexer": "ipython3",
   "version": "3.11.4"
  }
 },
 "nbformat": 4,
 "nbformat_minor": 2
}
