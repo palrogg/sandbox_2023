{
 "cells": [
  {
   "cell_type": "markdown",
   "metadata": {},
   "source": [
    "# Scraping\n",
    "\n",
    "Le scraping consiste à extraire des données de pages Web de manière automatique.\n",
    "\n",
    "La méthode la plus simple consiste à demander le code HTML de la page désirée et à utiliser sa structure pour accéder aux données intéressantes. Ces données peuvent contenir des liens vers d’autres pages à scraper."
   ]
  },
  {
   "cell_type": "code",
   "execution_count": 8,
   "metadata": {},
   "outputs": [],
   "source": [
    "# Ce module permet de faire des «requêtes»: donne-moi telle page Web\n",
    "import requests\n",
    "\n",
    "# Ce module sert à parcourir la structure d ela page\n",
    "from bs4 import BeautifulSoup"
   ]
  },
  {
   "cell_type": "code",
   "execution_count": 9,
   "metadata": {},
   "outputs": [],
   "source": [
    "# Ici, on envoie une requête pour la page\n",
    "response = requests.get('https://www.paulronga.ch/')"
   ]
  },
  {
   "cell_type": "code",
   "execution_count": 10,
   "metadata": {},
   "outputs": [
    {
     "data": {
      "text/plain": [
       "<Response [200]>"
      ]
     },
     "execution_count": 10,
     "metadata": {},
     "output_type": "execute_result"
    }
   ],
   "source": [
    "# Quel est le statut de la réponse? Si c’est un 404, la page n’a pas été trouvée\n",
    "response"
   ]
  },
  {
   "cell_type": "code",
   "execution_count": 11,
   "metadata": {},
   "outputs": [],
   "source": [
    "# On charge la page dans BeautifulSoup\n",
    "doc = BeautifulSoup(response.text)"
   ]
  },
  {
   "cell_type": "markdown",
   "metadata": {},
   "source": [
    "## Parcourir la structure de la page\n",
    "A partir de cette étape, la structure de la page est contenue dans notre variable `doc`.\n",
    "\n",
    "HTML est structuré par des balises, des mots-clés entourés des signes < et >:\n",
    "\n",
    "* un paragraphe est signalé par les balises `<p>` (au début) et `</p>` (à la fin)\n",
    "* le titre principal est entre les balises `<h1>` et `</h1>` (header 1)\n",
    "* un tableau est entre les balises `<table>` … `</table>`\n",
    "* une ligne de tableau est entre les balises `<tr>` … `</tr>` (table row)\n",
    "* une cellule de tableau est entre les balises `<td>` … `</td>` (table data)\n",
    "\n",
    "Nous pouvons demander à BeautifulSoup de nous chercher des balises HTML avec les fonctions:\n",
    "\n",
    "`find`: trouver la première balise correspondante\n",
    "\n",
    "`find_all`: trouver toutes les balises correspondantes"
   ]
  },
  {
   "cell_type": "code",
   "execution_count": 12,
   "metadata": {},
   "outputs": [
    {
     "data": {
      "text/plain": [
       "<a class=\"skip-link screen-reader-text\" href=\"#content\">Aller au contenu</a>"
      ]
     },
     "execution_count": 12,
     "metadata": {},
     "output_type": "execute_result"
    }
   ],
   "source": [
    "link = doc.find('a')\n",
    "link"
   ]
  },
  {
   "cell_type": "code",
   "execution_count": 13,
   "metadata": {},
   "outputs": [
    {
     "data": {
      "text/plain": [
       "21"
      ]
     },
     "execution_count": 13,
     "metadata": {},
     "output_type": "execute_result"
    }
   ],
   "source": [
    "links = doc.find_all('a')\n",
    "\n",
    "# Cela m’a donné 32 liens!\n",
    "len(links)"
   ]
  },
  {
   "cell_type": "code",
   "execution_count": 14,
   "metadata": {},
   "outputs": [
    {
     "data": {
      "text/plain": [
       "11"
      ]
     },
     "execution_count": 14,
     "metadata": {},
     "output_type": "execute_result"
    }
   ],
   "source": [
    "p_list = doc.find_all('p')\n",
    "len(p_list)"
   ]
  },
  {
   "cell_type": "markdown",
   "metadata": {},
   "source": [
    "## A vous\n",
    "\n",
    "Essayez d’autres balises, par exemple:\n",
    "\n",
    "* doc.find_all('p')\n",
    "* doc.find_all('img')\n",
    "* doc.find_all('span')"
   ]
  },
  {
   "cell_type": "code",
   "execution_count": null,
   "metadata": {},
   "outputs": [],
   "source": []
  },
  {
   "cell_type": "code",
   "execution_count": null,
   "metadata": {},
   "outputs": [],
   "source": []
  },
  {
   "cell_type": "code",
   "execution_count": null,
   "metadata": {},
   "outputs": [],
   "source": []
  },
  {
   "cell_type": "markdown",
   "metadata": {},
   "source": [
    "## Trouver les attributs\n",
    "Trouver des liens, c’est bien. Mais comment extraire l’URL vers lequel ils conduisent?\n",
    "\n",
    "La méthode `.get()` est faite pour ça: elle récupère les attributs d’une balise HTML, comme l’attribut «href» qui contient ces URL."
   ]
  },
  {
   "cell_type": "code",
   "execution_count": 15,
   "metadata": {},
   "outputs": [
    {
     "data": {
      "text/plain": [
       "'http://paulronga.ch/#portfolio'"
      ]
     },
     "execution_count": 15,
     "metadata": {},
     "output_type": "execute_result"
    }
   ],
   "source": [
    "links[6].get('href')"
   ]
  },
  {
   "cell_type": "markdown",
   "metadata": {},
   "source": [
    "## … et avec une boucle\n",
    "Mettons que nous voulons récupérer toutes les URL de notre menu:\n",
    "* avec une boucle `for`, on peut passer les liens en revue\n",
    "* la méthode `.get()` nous permettra de récupérer l’URL de chaque lien"
   ]
  },
  {
   "cell_type": "code",
   "execution_count": 16,
   "metadata": {},
   "outputs": [
    {
     "name": "stdout",
     "output_type": "stream",
     "text": [
      "http://paulronga.ch\n",
      "http://paulronga.ch/#about\n",
      "http://paulronga.ch/#video\n",
      "http://paulronga.ch/#portfolio\n",
      "http://paulronga.ch/#news\n"
     ]
    }
   ],
   "source": [
    "for a in doc.select('.nav-menu a'):\n",
    "    print(a.get('href'))"
   ]
  },
  {
   "cell_type": "markdown",
   "metadata": {},
   "source": []
  },
  {
   "cell_type": "markdown",
   "metadata": {},
   "source": [
    "## Selecteurs\n",
    "Les balises html contiennent parfois les attributs **id** et/ou **class**. Concrètement, ça se présente par exemple comme ça:\n",
    "\n",
    "`<table id=\"resultats\" class=\"bordered striped\">`\n",
    "\n",
    "L’attribut **id** (identifiant) est unique: un seul élément le porte.\n",
    "\n",
    "L’attribut **class** (classes) peut être ajouté à plusieurs éléments.\n",
    "\n",
    "Les classes et identifiants servent à styliser la page: tels éléments ont une bordure rouge, un fond gris clair, etc. Ces instructions sont regroupées dans du [code CSS](https://www.w3.org/Style/Examples/011/firstcss.fr.html), un langage informatique qui définit la présentation du HTML.\n",
    "\n",
    "Dans le code CSS, on les éléments du HTML par des **sélecteurs**. En voici des exemples:\n",
    "\n",
    "`table\n",
    "#resultats\n",
    "table.striped\n",
    ".bordered`\n",
    "\n",
    "Tous ces sélecteurs renvoient à la `<table id=\"resultats\" class=\"bordered striped\">` donnée comme exemple plus haut. On peut donc cibler une balise HTML par son nom, par son id (en le précédent d’un \"#\") ou par une de ses classes.\n",
    "\n",
    "Pour trouver le sélecteur d’un élément qui vous intéresse, vous pouvez inspecter la page (cmd-alt-i dans Firefox ou Chrome), le repérer dans «Elements» grâce à la flèche tout à gauche, puis faire clic droit -> Copy -> CSS selector.\n",
    "\n",
    "Avec BeautifulSoup, on peut retrouver les éléments correspondants à un sélecteur grâce à la méthode:\n",
    "\n",
    "`.select('selecteur')`\n",
    "\n",
    "Cette méthode renvoie une liste, voici un exemple:"
   ]
  },
  {
   "cell_type": "code",
   "execution_count": 17,
   "metadata": {},
   "outputs": [
    {
     "data": {
      "text/plain": [
       "[<a aria-current=\"page\" href=\"http://paulronga.ch\">Accueil</a>,\n",
       " <a aria-current=\"page\" href=\"http://paulronga.ch/#about\">Le journalisme data</a>,\n",
       " <a aria-current=\"page\" href=\"http://paulronga.ch/#video\">Vidéo</a>,\n",
       " <a aria-current=\"page\" href=\"http://paulronga.ch/#portfolio\">Portfolio</a>,\n",
       " <a aria-current=\"page\" href=\"http://paulronga.ch/#news\">Blog</a>]"
      ]
     },
     "execution_count": 17,
     "metadata": {},
     "output_type": "execute_result"
    }
   ],
   "source": [
    "doc.select('.nav-menu a')"
   ]
  },
  {
   "cell_type": "markdown",
   "metadata": {},
   "source": [
    "# Attributs et méthodes\n",
    "\n",
    "Mettez doc.find('p') dans la variable `test`, puis écrivez `test.` et appuyez sur tab en laissant votre curseur après le point. Quels attributs et méthodes apparaissent? Essayez-en quelques-uns."
   ]
  },
  {
   "cell_type": "code",
   "execution_count": null,
   "metadata": {},
   "outputs": [],
   "source": []
  },
  {
   "cell_type": "markdown",
   "metadata": {},
   "source": [
    "Vous avez trouvez? Allez, je vous en donne trois:\n",
    "* `.string` donne le texte de la balise uniquement\n",
    "* `.text` donne le texte de la balise et de toutes les balises qu’elle contient\n",
    "* `.get()` permet d’obtenir un attribut précis, comme id, class, href\n",
    "\n",
    "Pour avoir des exemples clairs, on va charger une page spécialement préparée pour votre scraping."
   ]
  },
  {
   "cell_type": "code",
   "execution_count": 18,
   "metadata": {},
   "outputs": [],
   "source": [
    "response = requests.get('https://exemple.tcch.ch/scraping/')\n",
    "doc = BeautifulSoup(response.content, 'html.parser')"
   ]
  },
  {
   "cell_type": "code",
   "execution_count": 19,
   "metadata": {},
   "outputs": [
    {
     "name": "stdout",
     "output_type": "stream",
     "text": [
      "La balise et son contenu: <p>Ce paragraphe nous intéresse. C’est le premier.</p>\n",
      "Le contenu grâce à .string: Ce paragraphe nous intéresse. C’est le premier.\n",
      "Le contenu grâce à .text: Ce paragraphe nous intéresse. C’est le premier.\n"
     ]
    }
   ],
   "source": [
    "# premier paragraphe\n",
    "p = doc.find('p')\n",
    "print('La balise et son contenu:', p)\n",
    "print('Le contenu grâce à .string:', p.string)\n",
    "print('Le contenu grâce à .text:', p.text)"
   ]
  },
  {
   "cell_type": "markdown",
   "metadata": {},
   "source": [
    "Quelle différence entre `.string` et `.text`? On le comprend quand notre balise contient d’autres balises. C’est le cas du dernier paragraphe: il contient une balise `<em>`."
   ]
  },
  {
   "cell_type": "code",
   "execution_count": 20,
   "metadata": {},
   "outputs": [
    {
     "data": {
      "text/plain": [
       "<p>Le troisième est un peu plus <em>compliqué</em>…<br/>\n",
       "    Mais on va s’en sortir!</p>"
      ]
     },
     "execution_count": 20,
     "metadata": {},
     "output_type": "execute_result"
    }
   ],
   "source": [
    "# dernier paragraphe\n",
    "p = doc.select('p')[-1]\n",
    "p"
   ]
  },
  {
   "cell_type": "code",
   "execution_count": 21,
   "metadata": {},
   "outputs": [
    {
     "name": "stdout",
     "output_type": "stream",
     "text": [
      ".string: None\n",
      ".text: Le troisième est un peu plus compliqué…\n",
      "    Mais on va s’en sortir!\n"
     ]
    }
   ],
   "source": [
    "print('.string:', p.string)\n",
    "print('.text:', p.text)"
   ]
  },
  {
   "cell_type": "markdown",
   "metadata": {},
   "source": [
    "Quand une balise contient d’autres balises, `.string` renvoie donc **None**, tandis que `.text` renvoie tout le texte contenu dans la balise principale et les balises qu’elle contient."
   ]
  },
  {
   "cell_type": "markdown",
   "metadata": {},
   "source": [
    "## A vous\n",
    "Qu’est-ce que `.string` et `.text` donnent comme résultat avec la table? Essayez!"
   ]
  },
  {
   "cell_type": "code",
   "execution_count": null,
   "metadata": {},
   "outputs": [],
   "source": []
  },
  {
   "cell_type": "code",
   "execution_count": null,
   "metadata": {},
   "outputs": [],
   "source": []
  },
  {
   "cell_type": "code",
   "execution_count": null,
   "metadata": {},
   "outputs": [],
   "source": []
  },
  {
   "cell_type": "markdown",
   "metadata": {},
   "source": [
    "Le système que nous avons vu ne fonctionne pas pour certaines pages Web construites dynamiquement avec du JavaScript. Dans ce cas, on peut automatiser un navigateur tel que Chrome ou Firefox avec des outils comme [Selenium](https://pypi.org/project/selenium/). C’est nettement plus complexe que d’utiliser requests et BeautifulSoup."
   ]
  },
  {
   "cell_type": "code",
   "execution_count": null,
   "metadata": {},
   "outputs": [],
   "source": []
  }
 ],
 "metadata": {
  "kernelspec": {
   "display_name": "Python 3",
   "language": "python",
   "name": "python3"
  },
  "language_info": {
   "codemirror_mode": {
    "name": "ipython",
    "version": 3
   },
   "file_extension": ".py",
   "mimetype": "text/x-python",
   "name": "python",
   "nbconvert_exporter": "python",
   "pygments_lexer": "ipython3",
   "version": "3.11.4"
  }
 },
 "nbformat": 4,
 "nbformat_minor": 4
}
