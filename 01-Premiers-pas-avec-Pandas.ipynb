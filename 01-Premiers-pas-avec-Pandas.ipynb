{
 "cells": [
  {
   "cell_type": "markdown",
   "metadata": {},
   "source": [
    "# Premier pas avec Pandas\n",
    "\n",
    "Pandas est un module destiné à la manipulation de données. Il a été créé en 2008 et est très activement développé depuis. Il a été conçu au départ pour l’analyse de données financières.\n",
    "\n",
    "On l’importe comme n’importe quel module, et l’usage est de l’abrévier en «pd», grâce au mot-clé `as`:"
   ]
  },
  {
   "cell_type": "code",
   "execution_count": 2,
   "metadata": {},
   "outputs": [],
   "source": [
    "import pandas as pd"
   ]
  },
  {
   "cell_type": "markdown",
   "metadata": {},
   "source": [
    "Dans Excel, on parle de «feuilles de calcul». L’équivalent, dans Pandas, est un **DataFrame**, qu’on abrège **df**.\n",
    "\n",
    "Pour vous familiariser avec cet objet, on va ouvrir [des données de l’OFS obtenues sur STAT-TAB](http://www.pxweb.bfs.admin.ch/sq/a39f8d09-9e2b-4a58-b67a-51d22ebbe989):"
   ]
  },
  {
   "cell_type": "code",
   "execution_count": 3,
   "metadata": {},
   "outputs": [],
   "source": [
    "df = pd.read_csv('couts-personnel-hautes-ecoles.csv')"
   ]
  },
  {
   "cell_type": "markdown",
   "metadata": {},
   "source": [
    "Voyons à quoi ressemblent les 5 premières lignes"
   ]
  },
  {
   "cell_type": "code",
   "execution_count": 4,
   "metadata": {},
   "outputs": [
    {
     "data": {
      "text/html": [
       "<div>\n",
       "<style scoped>\n",
       "    .dataframe tbody tr th:only-of-type {\n",
       "        vertical-align: middle;\n",
       "    }\n",
       "\n",
       "    .dataframe tbody tr th {\n",
       "        vertical-align: top;\n",
       "    }\n",
       "\n",
       "    .dataframe thead th {\n",
       "        text-align: right;\n",
       "    }\n",
       "</style>\n",
       "<table border=\"1\" class=\"dataframe\">\n",
       "  <thead>\n",
       "    <tr style=\"text-align: right;\">\n",
       "      <th></th>\n",
       "      <th>Année</th>\n",
       "      <th>Prestation</th>\n",
       "      <th>Nature de coûts</th>\n",
       "      <th>HETS-GE</th>\n",
       "      <th>HEP-BEJUNE</th>\n",
       "      <th>HEP-VD</th>\n",
       "      <th>HEP-VS</th>\n",
       "      <th>HEP-FR</th>\n",
       "    </tr>\n",
       "  </thead>\n",
       "  <tbody>\n",
       "    <tr>\n",
       "      <th>0</th>\n",
       "      <td>2009</td>\n",
       "      <td>Enseignement de base</td>\n",
       "      <td>Personnel</td>\n",
       "      <td>1845950</td>\n",
       "      <td>11603840</td>\n",
       "      <td>22487075</td>\n",
       "      <td>7449804</td>\n",
       "      <td>7679101</td>\n",
       "    </tr>\n",
       "    <tr>\n",
       "      <th>1</th>\n",
       "      <td>2009</td>\n",
       "      <td>Recherche appliquée et développement</td>\n",
       "      <td>Personnel</td>\n",
       "      <td>174791</td>\n",
       "      <td>1254804</td>\n",
       "      <td>4998217</td>\n",
       "      <td>1163338</td>\n",
       "      <td>1655812</td>\n",
       "    </tr>\n",
       "    <tr>\n",
       "      <th>2</th>\n",
       "      <td>2009</td>\n",
       "      <td>Formation continue</td>\n",
       "      <td>Personnel</td>\n",
       "      <td>137429</td>\n",
       "      <td>3937666</td>\n",
       "      <td>6571043</td>\n",
       "      <td>538089</td>\n",
       "      <td>1681846</td>\n",
       "    </tr>\n",
       "    <tr>\n",
       "      <th>3</th>\n",
       "      <td>2009</td>\n",
       "      <td>Prestations de services</td>\n",
       "      <td>Personnel</td>\n",
       "      <td>133224</td>\n",
       "      <td>1431853</td>\n",
       "      <td>2123045</td>\n",
       "      <td>0</td>\n",
       "      <td>3767684</td>\n",
       "    </tr>\n",
       "    <tr>\n",
       "      <th>4</th>\n",
       "      <td>2010</td>\n",
       "      <td>Enseignement de base</td>\n",
       "      <td>Personnel</td>\n",
       "      <td>1787920</td>\n",
       "      <td>14031903</td>\n",
       "      <td>20368249</td>\n",
       "      <td>7553247</td>\n",
       "      <td>9476562</td>\n",
       "    </tr>\n",
       "  </tbody>\n",
       "</table>\n",
       "</div>"
      ],
      "text/plain": [
       "   Année                            Prestation Nature de coûts  HETS-GE  \\\n",
       "0   2009                  Enseignement de base       Personnel  1845950   \n",
       "1   2009  Recherche appliquée et développement       Personnel   174791   \n",
       "2   2009                    Formation continue       Personnel   137429   \n",
       "3   2009               Prestations de services       Personnel   133224   \n",
       "4   2010                  Enseignement de base       Personnel  1787920   \n",
       "\n",
       "   HEP-BEJUNE    HEP-VD   HEP-VS   HEP-FR  \n",
       "0    11603840  22487075  7449804  7679101  \n",
       "1     1254804   4998217  1163338  1655812  \n",
       "2     3937666   6571043   538089  1681846  \n",
       "3     1431853   2123045        0  3767684  \n",
       "4    14031903  20368249  7553247  9476562  "
      ]
     },
     "execution_count": 4,
     "metadata": {},
     "output_type": "execute_result"
    }
   ],
   "source": [
    "df.head()"
   ]
  },
  {
   "cell_type": "markdown",
   "metadata": {},
   "source": [
    "## Compter les valeurs d’une colonne\n",
    "Dans la colonne «Prestation», on voit que «Enseignement de base» apparaît au moins deux fois. Et si on regardait combien de fois apparaît chaque valeur de cette colonne?\n",
    "Pour ce faire, on utilise **`.value_counts()`**."
   ]
  },
  {
   "cell_type": "code",
   "execution_count": 5,
   "metadata": {},
   "outputs": [
    {
     "data": {
      "text/plain": [
       "Prestation\n",
       "Enseignement de base                    11\n",
       "Recherche appliquée et développement    11\n",
       "Formation continue                      11\n",
       "Prestations de services                 11\n",
       "Name: count, dtype: int64"
      ]
     },
     "execution_count": 5,
     "metadata": {},
     "output_type": "execute_result"
    }
   ],
   "source": [
    "df['Prestation'].value_counts()"
   ]
  },
  {
   "cell_type": "markdown",
   "metadata": {},
   "source": [
    "## Filtrer\n",
    "\n",
    "Vous vous rappelez des booléens **True** et **False**? En voici un exemple:"
   ]
  },
  {
   "cell_type": "code",
   "execution_count": 6,
   "metadata": {},
   "outputs": [
    {
     "name": "stdout",
     "output_type": "stream",
     "text": [
      "Ma condition vaut: True\n"
     ]
    }
   ],
   "source": [
    "ma_condition = 5 < 10\n",
    "print('Ma condition vaut:', ma_condition)"
   ]
  },
  {
   "cell_type": "markdown",
   "metadata": {},
   "source": [
    " C'est ce qu’on utilise pour filtrer.\n",
    "\n",
    "On définit une condition, par exemple: **la colonne année est égale à 2019**, ce qui se traduit ainsi:"
   ]
  },
  {
   "cell_type": "code",
   "execution_count": 7,
   "metadata": {},
   "outputs": [],
   "source": [
    "condition = df['Année'] == 2019"
   ]
  },
  {
   "cell_type": "markdown",
   "metadata": {},
   "source": [
    "Puis on applique ce filtre aux données:"
   ]
  },
  {
   "cell_type": "code",
   "execution_count": 8,
   "metadata": {},
   "outputs": [
    {
     "data": {
      "text/html": [
       "<div>\n",
       "<style scoped>\n",
       "    .dataframe tbody tr th:only-of-type {\n",
       "        vertical-align: middle;\n",
       "    }\n",
       "\n",
       "    .dataframe tbody tr th {\n",
       "        vertical-align: top;\n",
       "    }\n",
       "\n",
       "    .dataframe thead th {\n",
       "        text-align: right;\n",
       "    }\n",
       "</style>\n",
       "<table border=\"1\" class=\"dataframe\">\n",
       "  <thead>\n",
       "    <tr style=\"text-align: right;\">\n",
       "      <th></th>\n",
       "      <th>Année</th>\n",
       "      <th>Prestation</th>\n",
       "      <th>Nature de coûts</th>\n",
       "      <th>HETS-GE</th>\n",
       "      <th>HEP-BEJUNE</th>\n",
       "      <th>HEP-VD</th>\n",
       "      <th>HEP-VS</th>\n",
       "      <th>HEP-FR</th>\n",
       "    </tr>\n",
       "  </thead>\n",
       "  <tbody>\n",
       "    <tr>\n",
       "      <th>40</th>\n",
       "      <td>2019</td>\n",
       "      <td>Enseignement de base</td>\n",
       "      <td>Personnel</td>\n",
       "      <td>1994090</td>\n",
       "      <td>12553917</td>\n",
       "      <td>43207376</td>\n",
       "      <td>9054637</td>\n",
       "      <td>9650727</td>\n",
       "    </tr>\n",
       "    <tr>\n",
       "      <th>41</th>\n",
       "      <td>2019</td>\n",
       "      <td>Recherche appliquée et développement</td>\n",
       "      <td>Personnel</td>\n",
       "      <td>235679</td>\n",
       "      <td>2176814</td>\n",
       "      <td>12663265</td>\n",
       "      <td>1972288</td>\n",
       "      <td>2079828</td>\n",
       "    </tr>\n",
       "    <tr>\n",
       "      <th>42</th>\n",
       "      <td>2019</td>\n",
       "      <td>Formation continue</td>\n",
       "      <td>Personnel</td>\n",
       "      <td>494971</td>\n",
       "      <td>3874482</td>\n",
       "      <td>8691043</td>\n",
       "      <td>1661413</td>\n",
       "      <td>2018726</td>\n",
       "    </tr>\n",
       "    <tr>\n",
       "      <th>43</th>\n",
       "      <td>2019</td>\n",
       "      <td>Prestations de services</td>\n",
       "      <td>Personnel</td>\n",
       "      <td>520148</td>\n",
       "      <td>2349377</td>\n",
       "      <td>2639705</td>\n",
       "      <td>2676579</td>\n",
       "      <td>1724585</td>\n",
       "    </tr>\n",
       "  </tbody>\n",
       "</table>\n",
       "</div>"
      ],
      "text/plain": [
       "    Année                            Prestation Nature de coûts  HETS-GE  \\\n",
       "40   2019                  Enseignement de base       Personnel  1994090   \n",
       "41   2019  Recherche appliquée et développement       Personnel   235679   \n",
       "42   2019                    Formation continue       Personnel   494971   \n",
       "43   2019               Prestations de services       Personnel   520148   \n",
       "\n",
       "    HEP-BEJUNE    HEP-VD   HEP-VS   HEP-FR  \n",
       "40    12553917  43207376  9054637  9650727  \n",
       "41     2176814  12663265  1972288  2079828  \n",
       "42     3874482   8691043  1661413  2018726  \n",
       "43     2349377   2639705  2676579  1724585  "
      ]
     },
     "execution_count": 8,
     "metadata": {},
     "output_type": "execute_result"
    }
   ],
   "source": [
    "df[condition]"
   ]
  },
  {
   "cell_type": "markdown",
   "metadata": {},
   "source": [
    "Autrement dit: on a demandé «Montre moi le dataframe pour lequel la colonne «Année» est égale à 2019».\n",
    "\n",
    "On peut combiner plusieurs conditions. C’est le même principe que les **and** et **or** des if/else, mais avec les symboles **&** pour *and* et **|** pour *or*."
   ]
  },
  {
   "cell_type": "code",
   "execution_count": 9,
   "metadata": {},
   "outputs": [
    {
     "data": {
      "text/html": [
       "<div>\n",
       "<style scoped>\n",
       "    .dataframe tbody tr th:only-of-type {\n",
       "        vertical-align: middle;\n",
       "    }\n",
       "\n",
       "    .dataframe tbody tr th {\n",
       "        vertical-align: top;\n",
       "    }\n",
       "\n",
       "    .dataframe thead th {\n",
       "        text-align: right;\n",
       "    }\n",
       "</style>\n",
       "<table border=\"1\" class=\"dataframe\">\n",
       "  <thead>\n",
       "    <tr style=\"text-align: right;\">\n",
       "      <th></th>\n",
       "      <th>Année</th>\n",
       "      <th>Prestation</th>\n",
       "      <th>Nature de coûts</th>\n",
       "      <th>HETS-GE</th>\n",
       "      <th>HEP-BEJUNE</th>\n",
       "      <th>HEP-VD</th>\n",
       "      <th>HEP-VS</th>\n",
       "      <th>HEP-FR</th>\n",
       "    </tr>\n",
       "  </thead>\n",
       "  <tbody>\n",
       "    <tr>\n",
       "      <th>0</th>\n",
       "      <td>2009</td>\n",
       "      <td>Enseignement de base</td>\n",
       "      <td>Personnel</td>\n",
       "      <td>1845950</td>\n",
       "      <td>11603840</td>\n",
       "      <td>22487075</td>\n",
       "      <td>7449804</td>\n",
       "      <td>7679101</td>\n",
       "    </tr>\n",
       "    <tr>\n",
       "      <th>1</th>\n",
       "      <td>2009</td>\n",
       "      <td>Recherche appliquée et développement</td>\n",
       "      <td>Personnel</td>\n",
       "      <td>174791</td>\n",
       "      <td>1254804</td>\n",
       "      <td>4998217</td>\n",
       "      <td>1163338</td>\n",
       "      <td>1655812</td>\n",
       "    </tr>\n",
       "    <tr>\n",
       "      <th>2</th>\n",
       "      <td>2009</td>\n",
       "      <td>Formation continue</td>\n",
       "      <td>Personnel</td>\n",
       "      <td>137429</td>\n",
       "      <td>3937666</td>\n",
       "      <td>6571043</td>\n",
       "      <td>538089</td>\n",
       "      <td>1681846</td>\n",
       "    </tr>\n",
       "    <tr>\n",
       "      <th>3</th>\n",
       "      <td>2009</td>\n",
       "      <td>Prestations de services</td>\n",
       "      <td>Personnel</td>\n",
       "      <td>133224</td>\n",
       "      <td>1431853</td>\n",
       "      <td>2123045</td>\n",
       "      <td>0</td>\n",
       "      <td>3767684</td>\n",
       "    </tr>\n",
       "    <tr>\n",
       "      <th>40</th>\n",
       "      <td>2019</td>\n",
       "      <td>Enseignement de base</td>\n",
       "      <td>Personnel</td>\n",
       "      <td>1994090</td>\n",
       "      <td>12553917</td>\n",
       "      <td>43207376</td>\n",
       "      <td>9054637</td>\n",
       "      <td>9650727</td>\n",
       "    </tr>\n",
       "    <tr>\n",
       "      <th>41</th>\n",
       "      <td>2019</td>\n",
       "      <td>Recherche appliquée et développement</td>\n",
       "      <td>Personnel</td>\n",
       "      <td>235679</td>\n",
       "      <td>2176814</td>\n",
       "      <td>12663265</td>\n",
       "      <td>1972288</td>\n",
       "      <td>2079828</td>\n",
       "    </tr>\n",
       "    <tr>\n",
       "      <th>42</th>\n",
       "      <td>2019</td>\n",
       "      <td>Formation continue</td>\n",
       "      <td>Personnel</td>\n",
       "      <td>494971</td>\n",
       "      <td>3874482</td>\n",
       "      <td>8691043</td>\n",
       "      <td>1661413</td>\n",
       "      <td>2018726</td>\n",
       "    </tr>\n",
       "    <tr>\n",
       "      <th>43</th>\n",
       "      <td>2019</td>\n",
       "      <td>Prestations de services</td>\n",
       "      <td>Personnel</td>\n",
       "      <td>520148</td>\n",
       "      <td>2349377</td>\n",
       "      <td>2639705</td>\n",
       "      <td>2676579</td>\n",
       "      <td>1724585</td>\n",
       "    </tr>\n",
       "  </tbody>\n",
       "</table>\n",
       "</div>"
      ],
      "text/plain": [
       "    Année                            Prestation Nature de coûts  HETS-GE  \\\n",
       "0    2009                  Enseignement de base       Personnel  1845950   \n",
       "1    2009  Recherche appliquée et développement       Personnel   174791   \n",
       "2    2009                    Formation continue       Personnel   137429   \n",
       "3    2009               Prestations de services       Personnel   133224   \n",
       "40   2019                  Enseignement de base       Personnel  1994090   \n",
       "41   2019  Recherche appliquée et développement       Personnel   235679   \n",
       "42   2019                    Formation continue       Personnel   494971   \n",
       "43   2019               Prestations de services       Personnel   520148   \n",
       "\n",
       "    HEP-BEJUNE    HEP-VD   HEP-VS   HEP-FR  \n",
       "0     11603840  22487075  7449804  7679101  \n",
       "1      1254804   4998217  1163338  1655812  \n",
       "2      3937666   6571043   538089  1681846  \n",
       "3      1431853   2123045        0  3767684  \n",
       "40    12553917  43207376  9054637  9650727  \n",
       "41     2176814  12663265  1972288  2079828  \n",
       "42     3874482   8691043  1661413  2018726  \n",
       "43     2349377   2639705  2676579  1724585  "
      ]
     },
     "execution_count": 9,
     "metadata": {},
     "output_type": "execute_result"
    }
   ],
   "source": [
    "annee_2019 = df['Année'] == 2019\n",
    "annee_2009 = df['Année'] == 2009\n",
    "\n",
    "# Opérateur OR: 2009 ou 2019\n",
    "df[annee_2019 | annee_2009]"
   ]
  },
  {
   "cell_type": "code",
   "execution_count": 10,
   "metadata": {},
   "outputs": [
    {
     "data": {
      "text/html": [
       "<div>\n",
       "<style scoped>\n",
       "    .dataframe tbody tr th:only-of-type {\n",
       "        vertical-align: middle;\n",
       "    }\n",
       "\n",
       "    .dataframe tbody tr th {\n",
       "        vertical-align: top;\n",
       "    }\n",
       "\n",
       "    .dataframe thead th {\n",
       "        text-align: right;\n",
       "    }\n",
       "</style>\n",
       "<table border=\"1\" class=\"dataframe\">\n",
       "  <thead>\n",
       "    <tr style=\"text-align: right;\">\n",
       "      <th></th>\n",
       "      <th>Année</th>\n",
       "      <th>Prestation</th>\n",
       "      <th>Nature de coûts</th>\n",
       "      <th>HETS-GE</th>\n",
       "      <th>HEP-BEJUNE</th>\n",
       "      <th>HEP-VD</th>\n",
       "      <th>HEP-VS</th>\n",
       "      <th>HEP-FR</th>\n",
       "    </tr>\n",
       "  </thead>\n",
       "  <tbody>\n",
       "    <tr>\n",
       "      <th>42</th>\n",
       "      <td>2019</td>\n",
       "      <td>Formation continue</td>\n",
       "      <td>Personnel</td>\n",
       "      <td>494971</td>\n",
       "      <td>3874482</td>\n",
       "      <td>8691043</td>\n",
       "      <td>1661413</td>\n",
       "      <td>2018726</td>\n",
       "    </tr>\n",
       "  </tbody>\n",
       "</table>\n",
       "</div>"
      ],
      "text/plain": [
       "    Année          Prestation Nature de coûts  HETS-GE  HEP-BEJUNE   HEP-VD  \\\n",
       "42   2019  Formation continue       Personnel   494971     3874482  8691043   \n",
       "\n",
       "     HEP-VS   HEP-FR  \n",
       "42  1661413  2018726  "
      ]
     },
     "execution_count": 10,
     "metadata": {},
     "output_type": "execute_result"
    }
   ],
   "source": [
    "# Opérateur AND: 2019 et formation continue\n",
    "formation_continue = df['Prestation'] == 'Formation continue'\n",
    "df[annee_2019 & formation_continue]"
   ]
  },
  {
   "cell_type": "code",
   "execution_count": 11,
   "metadata": {},
   "outputs": [
    {
     "data": {
      "text/html": [
       "<div>\n",
       "<style scoped>\n",
       "    .dataframe tbody tr th:only-of-type {\n",
       "        vertical-align: middle;\n",
       "    }\n",
       "\n",
       "    .dataframe tbody tr th {\n",
       "        vertical-align: top;\n",
       "    }\n",
       "\n",
       "    .dataframe thead th {\n",
       "        text-align: right;\n",
       "    }\n",
       "</style>\n",
       "<table border=\"1\" class=\"dataframe\">\n",
       "  <thead>\n",
       "    <tr style=\"text-align: right;\">\n",
       "      <th></th>\n",
       "      <th>Année</th>\n",
       "      <th>Prestation</th>\n",
       "      <th>Nature de coûts</th>\n",
       "      <th>HETS-GE</th>\n",
       "      <th>HEP-BEJUNE</th>\n",
       "      <th>HEP-VD</th>\n",
       "      <th>HEP-VS</th>\n",
       "      <th>HEP-FR</th>\n",
       "    </tr>\n",
       "  </thead>\n",
       "  <tbody>\n",
       "    <tr>\n",
       "      <th>2</th>\n",
       "      <td>2009</td>\n",
       "      <td>Formation continue</td>\n",
       "      <td>Personnel</td>\n",
       "      <td>137429</td>\n",
       "      <td>3937666</td>\n",
       "      <td>6571043</td>\n",
       "      <td>538089</td>\n",
       "      <td>1681846</td>\n",
       "    </tr>\n",
       "    <tr>\n",
       "      <th>42</th>\n",
       "      <td>2019</td>\n",
       "      <td>Formation continue</td>\n",
       "      <td>Personnel</td>\n",
       "      <td>494971</td>\n",
       "      <td>3874482</td>\n",
       "      <td>8691043</td>\n",
       "      <td>1661413</td>\n",
       "      <td>2018726</td>\n",
       "    </tr>\n",
       "  </tbody>\n",
       "</table>\n",
       "</div>"
      ],
      "text/plain": [
       "    Année          Prestation Nature de coûts  HETS-GE  HEP-BEJUNE   HEP-VD  \\\n",
       "2    2009  Formation continue       Personnel   137429     3937666  6571043   \n",
       "42   2019  Formation continue       Personnel   494971     3874482  8691043   \n",
       "\n",
       "     HEP-VS   HEP-FR  \n",
       "2    538089  1681846  \n",
       "42  1661413  2018726  "
      ]
     },
     "execution_count": 11,
     "metadata": {},
     "output_type": "execute_result"
    }
   ],
   "source": [
    "# Les trois à la fois. Il nous faut des parenthèses pour préciser quelles conditions vont ensemble.\n",
    "df[(annee_2019 | annee_2009) & formation_continue]"
   ]
  },
  {
   "cell_type": "markdown",
   "metadata": {},
   "source": [
    "On peut aussi écrire la condition directement, sans passer par une variable. C’est pratique pour explorer rapidement les données. Mais pas s’il faut récrire dix fois la même condition…"
   ]
  },
  {
   "cell_type": "code",
   "execution_count": 12,
   "metadata": {},
   "outputs": [
    {
     "data": {
      "text/html": [
       "<div>\n",
       "<style scoped>\n",
       "    .dataframe tbody tr th:only-of-type {\n",
       "        vertical-align: middle;\n",
       "    }\n",
       "\n",
       "    .dataframe tbody tr th {\n",
       "        vertical-align: top;\n",
       "    }\n",
       "\n",
       "    .dataframe thead th {\n",
       "        text-align: right;\n",
       "    }\n",
       "</style>\n",
       "<table border=\"1\" class=\"dataframe\">\n",
       "  <thead>\n",
       "    <tr style=\"text-align: right;\">\n",
       "      <th></th>\n",
       "      <th>Année</th>\n",
       "      <th>Prestation</th>\n",
       "      <th>Nature de coûts</th>\n",
       "      <th>HETS-GE</th>\n",
       "      <th>HEP-BEJUNE</th>\n",
       "      <th>HEP-VD</th>\n",
       "      <th>HEP-VS</th>\n",
       "      <th>HEP-FR</th>\n",
       "    </tr>\n",
       "  </thead>\n",
       "  <tbody>\n",
       "    <tr>\n",
       "      <th>40</th>\n",
       "      <td>2019</td>\n",
       "      <td>Enseignement de base</td>\n",
       "      <td>Personnel</td>\n",
       "      <td>1994090</td>\n",
       "      <td>12553917</td>\n",
       "      <td>43207376</td>\n",
       "      <td>9054637</td>\n",
       "      <td>9650727</td>\n",
       "    </tr>\n",
       "    <tr>\n",
       "      <th>41</th>\n",
       "      <td>2019</td>\n",
       "      <td>Recherche appliquée et développement</td>\n",
       "      <td>Personnel</td>\n",
       "      <td>235679</td>\n",
       "      <td>2176814</td>\n",
       "      <td>12663265</td>\n",
       "      <td>1972288</td>\n",
       "      <td>2079828</td>\n",
       "    </tr>\n",
       "    <tr>\n",
       "      <th>42</th>\n",
       "      <td>2019</td>\n",
       "      <td>Formation continue</td>\n",
       "      <td>Personnel</td>\n",
       "      <td>494971</td>\n",
       "      <td>3874482</td>\n",
       "      <td>8691043</td>\n",
       "      <td>1661413</td>\n",
       "      <td>2018726</td>\n",
       "    </tr>\n",
       "    <tr>\n",
       "      <th>43</th>\n",
       "      <td>2019</td>\n",
       "      <td>Prestations de services</td>\n",
       "      <td>Personnel</td>\n",
       "      <td>520148</td>\n",
       "      <td>2349377</td>\n",
       "      <td>2639705</td>\n",
       "      <td>2676579</td>\n",
       "      <td>1724585</td>\n",
       "    </tr>\n",
       "  </tbody>\n",
       "</table>\n",
       "</div>"
      ],
      "text/plain": [
       "    Année                            Prestation Nature de coûts  HETS-GE  \\\n",
       "40   2019                  Enseignement de base       Personnel  1994090   \n",
       "41   2019  Recherche appliquée et développement       Personnel   235679   \n",
       "42   2019                    Formation continue       Personnel   494971   \n",
       "43   2019               Prestations de services       Personnel   520148   \n",
       "\n",
       "    HEP-BEJUNE    HEP-VD   HEP-VS   HEP-FR  \n",
       "40    12553917  43207376  9054637  9650727  \n",
       "41     2176814  12663265  1972288  2079828  \n",
       "42     3874482   8691043  1661413  2018726  \n",
       "43     2349377   2639705  2676579  1724585  "
      ]
     },
     "execution_count": 12,
     "metadata": {},
     "output_type": "execute_result"
    }
   ],
   "source": [
    "# Je mets des espaces pour mieux distinguer les différentes brackets [] et éviter les erreurs\n",
    "df[ df['Année'] == 2019 ]"
   ]
  },
  {
   "cell_type": "code",
   "execution_count": 13,
   "metadata": {},
   "outputs": [
    {
     "data": {
      "text/html": [
       "<div>\n",
       "<style scoped>\n",
       "    .dataframe tbody tr th:only-of-type {\n",
       "        vertical-align: middle;\n",
       "    }\n",
       "\n",
       "    .dataframe tbody tr th {\n",
       "        vertical-align: top;\n",
       "    }\n",
       "\n",
       "    .dataframe thead th {\n",
       "        text-align: right;\n",
       "    }\n",
       "</style>\n",
       "<table border=\"1\" class=\"dataframe\">\n",
       "  <thead>\n",
       "    <tr style=\"text-align: right;\">\n",
       "      <th></th>\n",
       "      <th>Année</th>\n",
       "      <th>Prestation</th>\n",
       "      <th>Nature de coûts</th>\n",
       "      <th>HETS-GE</th>\n",
       "      <th>HEP-BEJUNE</th>\n",
       "      <th>HEP-VD</th>\n",
       "      <th>HEP-VS</th>\n",
       "      <th>HEP-FR</th>\n",
       "    </tr>\n",
       "  </thead>\n",
       "  <tbody>\n",
       "    <tr>\n",
       "      <th>43</th>\n",
       "      <td>2019</td>\n",
       "      <td>Prestations de services</td>\n",
       "      <td>Personnel</td>\n",
       "      <td>520148</td>\n",
       "      <td>2349377</td>\n",
       "      <td>2639705</td>\n",
       "      <td>2676579</td>\n",
       "      <td>1724585</td>\n",
       "    </tr>\n",
       "  </tbody>\n",
       "</table>\n",
       "</div>"
      ],
      "text/plain": [
       "    Année               Prestation Nature de coûts  HETS-GE  HEP-BEJUNE  \\\n",
       "43   2019  Prestations de services       Personnel   520148     2349377   \n",
       "\n",
       "     HEP-VD   HEP-VS   HEP-FR  \n",
       "43  2639705  2676579  1724585  "
      ]
     },
     "execution_count": 13,
     "metadata": {},
     "output_type": "execute_result"
    }
   ],
   "source": [
    "# Dans ce cas, quand on combine plusieurs conditions, on doit les entourer de parenthèses\n",
    "df[ (df['Année'] == 2019) & (df['Prestation'] == 'Prestations de services') ]"
   ]
  },
  {
   "cell_type": "markdown",
   "metadata": {},
   "source": [
    "## Les colonnes\n",
    "\n",
    "On peut choisir d’afficher uniquement certaines colonnes. Pour ce faire, on utilise une liste:"
   ]
  },
  {
   "cell_type": "code",
   "execution_count": 14,
   "metadata": {},
   "outputs": [],
   "source": [
    "columnsToShow = ['Année', 'HEP-VD', 'HEP-FR']"
   ]
  },
  {
   "cell_type": "code",
   "execution_count": 15,
   "metadata": {},
   "outputs": [
    {
     "data": {
      "text/html": [
       "<div>\n",
       "<style scoped>\n",
       "    .dataframe tbody tr th:only-of-type {\n",
       "        vertical-align: middle;\n",
       "    }\n",
       "\n",
       "    .dataframe tbody tr th {\n",
       "        vertical-align: top;\n",
       "    }\n",
       "\n",
       "    .dataframe thead th {\n",
       "        text-align: right;\n",
       "    }\n",
       "</style>\n",
       "<table border=\"1\" class=\"dataframe\">\n",
       "  <thead>\n",
       "    <tr style=\"text-align: right;\">\n",
       "      <th></th>\n",
       "      <th>Année</th>\n",
       "      <th>HEP-VD</th>\n",
       "      <th>HEP-FR</th>\n",
       "    </tr>\n",
       "  </thead>\n",
       "  <tbody>\n",
       "    <tr>\n",
       "      <th>0</th>\n",
       "      <td>2009</td>\n",
       "      <td>22487075</td>\n",
       "      <td>7679101</td>\n",
       "    </tr>\n",
       "    <tr>\n",
       "      <th>1</th>\n",
       "      <td>2009</td>\n",
       "      <td>4998217</td>\n",
       "      <td>1655812</td>\n",
       "    </tr>\n",
       "    <tr>\n",
       "      <th>2</th>\n",
       "      <td>2009</td>\n",
       "      <td>6571043</td>\n",
       "      <td>1681846</td>\n",
       "    </tr>\n",
       "    <tr>\n",
       "      <th>3</th>\n",
       "      <td>2009</td>\n",
       "      <td>2123045</td>\n",
       "      <td>3767684</td>\n",
       "    </tr>\n",
       "    <tr>\n",
       "      <th>4</th>\n",
       "      <td>2010</td>\n",
       "      <td>20368249</td>\n",
       "      <td>9476562</td>\n",
       "    </tr>\n",
       "  </tbody>\n",
       "</table>\n",
       "</div>"
      ],
      "text/plain": [
       "   Année    HEP-VD   HEP-FR\n",
       "0   2009  22487075  7679101\n",
       "1   2009   4998217  1655812\n",
       "2   2009   6571043  1681846\n",
       "3   2009   2123045  3767684\n",
       "4   2010  20368249  9476562"
      ]
     },
     "execution_count": 15,
     "metadata": {},
     "output_type": "execute_result"
    }
   ],
   "source": [
    "df[columnsToShow].head()"
   ]
  },
  {
   "cell_type": "markdown",
   "metadata": {},
   "source": [
    "Mettons qu’on s’intéresse uniquement à 2018 et aux montants inférieurs à 100 000 à la HEP-VD. Pour combiner ces deux critères, on met les filtres dans des parenthèses et on utilise l’opérateur **`&`** pour  **and**."
   ]
  },
  {
   "cell_type": "code",
   "execution_count": 16,
   "metadata": {},
   "outputs": [
    {
     "data": {
      "text/html": [
       "<div>\n",
       "<style scoped>\n",
       "    .dataframe tbody tr th:only-of-type {\n",
       "        vertical-align: middle;\n",
       "    }\n",
       "\n",
       "    .dataframe tbody tr th {\n",
       "        vertical-align: top;\n",
       "    }\n",
       "\n",
       "    .dataframe thead th {\n",
       "        text-align: right;\n",
       "    }\n",
       "</style>\n",
       "<table border=\"1\" class=\"dataframe\">\n",
       "  <thead>\n",
       "    <tr style=\"text-align: right;\">\n",
       "      <th></th>\n",
       "      <th>Année</th>\n",
       "      <th>Prestation</th>\n",
       "      <th>Nature de coûts</th>\n",
       "      <th>HETS-GE</th>\n",
       "      <th>HEP-BEJUNE</th>\n",
       "      <th>HEP-VD</th>\n",
       "      <th>HEP-VS</th>\n",
       "      <th>HEP-FR</th>\n",
       "    </tr>\n",
       "  </thead>\n",
       "  <tbody>\n",
       "    <tr>\n",
       "      <th>40</th>\n",
       "      <td>2019</td>\n",
       "      <td>Enseignement de base</td>\n",
       "      <td>Personnel</td>\n",
       "      <td>1994090</td>\n",
       "      <td>12553917</td>\n",
       "      <td>43207376</td>\n",
       "      <td>9054637</td>\n",
       "      <td>9650727</td>\n",
       "    </tr>\n",
       "    <tr>\n",
       "      <th>41</th>\n",
       "      <td>2019</td>\n",
       "      <td>Recherche appliquée et développement</td>\n",
       "      <td>Personnel</td>\n",
       "      <td>235679</td>\n",
       "      <td>2176814</td>\n",
       "      <td>12663265</td>\n",
       "      <td>1972288</td>\n",
       "      <td>2079828</td>\n",
       "    </tr>\n",
       "    <tr>\n",
       "      <th>42</th>\n",
       "      <td>2019</td>\n",
       "      <td>Formation continue</td>\n",
       "      <td>Personnel</td>\n",
       "      <td>494971</td>\n",
       "      <td>3874482</td>\n",
       "      <td>8691043</td>\n",
       "      <td>1661413</td>\n",
       "      <td>2018726</td>\n",
       "    </tr>\n",
       "    <tr>\n",
       "      <th>43</th>\n",
       "      <td>2019</td>\n",
       "      <td>Prestations de services</td>\n",
       "      <td>Personnel</td>\n",
       "      <td>520148</td>\n",
       "      <td>2349377</td>\n",
       "      <td>2639705</td>\n",
       "      <td>2676579</td>\n",
       "      <td>1724585</td>\n",
       "    </tr>\n",
       "  </tbody>\n",
       "</table>\n",
       "</div>"
      ],
      "text/plain": [
       "    Année                            Prestation Nature de coûts  HETS-GE  \\\n",
       "40   2019                  Enseignement de base       Personnel  1994090   \n",
       "41   2019  Recherche appliquée et développement       Personnel   235679   \n",
       "42   2019                    Formation continue       Personnel   494971   \n",
       "43   2019               Prestations de services       Personnel   520148   \n",
       "\n",
       "    HEP-BEJUNE    HEP-VD   HEP-VS   HEP-FR  \n",
       "40    12553917  43207376  9054637  9650727  \n",
       "41     2176814  12663265  1972288  2079828  \n",
       "42     3874482   8691043  1661413  2018726  \n",
       "43     2349377   2639705  2676579  1724585  "
      ]
     },
     "execution_count": 16,
     "metadata": {},
     "output_type": "execute_result"
    }
   ],
   "source": [
    "df[ (df['Année'] == 2019) & (df['HEP-VD'] > 0) ]"
   ]
  },
  {
   "cell_type": "markdown",
   "metadata": {},
   "source": [
    "### Trouver le maximum\n",
    "\n",
    "Pandas trouve instantanément le maximum d’une ligne ou une colonne d’un jeu de données.\n",
    "\n",
    "Commençons par une colonne…"
   ]
  },
  {
   "cell_type": "code",
   "execution_count": 17,
   "metadata": {},
   "outputs": [
    {
     "data": {
      "text/plain": [
       "43207376"
      ]
     },
     "execution_count": 17,
     "metadata": {},
     "output_type": "execute_result"
    }
   ],
   "source": [
    "df['HEP-VD'].max()"
   ]
  },
  {
   "cell_type": "markdown",
   "metadata": {},
   "source": [
    "On peut aussi le demander pour toutes les colonnes:"
   ]
  },
  {
   "cell_type": "code",
   "execution_count": 18,
   "metadata": {},
   "outputs": [
    {
     "data": {
      "text/plain": [
       "Année                                              2019\n",
       "Prestation         Recherche appliquée et développement\n",
       "Nature de coûts                               Personnel\n",
       "HETS-GE                                         2122376\n",
       "HEP-BEJUNE                                     14199474\n",
       "HEP-VD                                         43207376\n",
       "HEP-VS                                          9054637\n",
       "HEP-FR                                         10184870\n",
       "dtype: object"
      ]
     },
     "execution_count": 18,
     "metadata": {},
     "output_type": "execute_result"
    }
   ],
   "source": [
    "df.max()"
   ]
  },
  {
   "cell_type": "markdown",
   "metadata": {},
   "source": [
    "#### Et pour les lignes?\n",
    "Pour voir le maximum par ligne, on précise qu’on veut l’axe 1 (horizontal): `df.max(axis=1)`.\n",
    "\n",
    "Ici, on crée d’abord un index avec les colonnes \"Année\" et \"Prestation\", pour comprendre à quoi le maximum se rapporte.\n",
    "\n",
    "On précise aussi `numeric_only=True`, sans quoi Pandas donne une erreur à cause de la colonne \"Nature de coûts\"."
   ]
  },
  {
   "cell_type": "code",
   "execution_count": 35,
   "metadata": {},
   "outputs": [
    {
     "data": {
      "text/plain": [
       "Année  Prestation                          \n",
       "2009   Enseignement de base                    22487075\n",
       "       Recherche appliquée et développement     4998217\n",
       "       Formation continue                       6571043\n",
       "       Prestations de services                  3767684\n",
       "2010   Enseignement de base                    20368249\n",
       "       Recherche appliquée et développement     5581505\n",
       "       Formation continue                       6037990\n",
       "       Prestations de services                  3133284\n",
       "2011   Enseignement de base                    29579659\n",
       "       Recherche appliquée et développement     5949069\n",
       "dtype: int64"
      ]
     },
     "execution_count": 35,
     "metadata": {},
     "output_type": "execute_result"
    }
   ],
   "source": [
    "df.set_index([\"Année\", \"Prestation\"]).max(axis=1, numeric_only=True).head(10)"
   ]
  },
  {
   "cell_type": "markdown",
   "metadata": {},
   "source": [
    "Génial! Et si on mettait ça dans une colonne? Comme dans Excel, en fait…\n",
    "\n",
    "## Ajouter une colonne\n",
    "\n",
    "Pandas vous permet d’ajouter une colonne plus ou moins de la même manière que vous donnez une valeur à une variable."
   ]
  },
  {
   "cell_type": "code",
   "execution_count": 36,
   "metadata": {},
   "outputs": [],
   "source": [
    "df['Maximum'] = df.max(axis=1, numeric_only=True)"
   ]
  },
  {
   "cell_type": "code",
   "execution_count": 37,
   "metadata": {},
   "outputs": [
    {
     "data": {
      "text/html": [
       "<div>\n",
       "<style scoped>\n",
       "    .dataframe tbody tr th:only-of-type {\n",
       "        vertical-align: middle;\n",
       "    }\n",
       "\n",
       "    .dataframe tbody tr th {\n",
       "        vertical-align: top;\n",
       "    }\n",
       "\n",
       "    .dataframe thead th {\n",
       "        text-align: right;\n",
       "    }\n",
       "</style>\n",
       "<table border=\"1\" class=\"dataframe\">\n",
       "  <thead>\n",
       "    <tr style=\"text-align: right;\">\n",
       "      <th></th>\n",
       "      <th>Année</th>\n",
       "      <th>Prestation</th>\n",
       "      <th>Nature de coûts</th>\n",
       "      <th>HETS-GE</th>\n",
       "      <th>HEP-BEJUNE</th>\n",
       "      <th>HEP-VD</th>\n",
       "      <th>HEP-VS</th>\n",
       "      <th>HEP-FR</th>\n",
       "      <th>Maximum</th>\n",
       "    </tr>\n",
       "  </thead>\n",
       "  <tbody>\n",
       "    <tr>\n",
       "      <th>0</th>\n",
       "      <td>2009</td>\n",
       "      <td>Enseignement de base</td>\n",
       "      <td>Personnel</td>\n",
       "      <td>1845950</td>\n",
       "      <td>11603840</td>\n",
       "      <td>22487075</td>\n",
       "      <td>7449804</td>\n",
       "      <td>7679101</td>\n",
       "      <td>22487075</td>\n",
       "    </tr>\n",
       "    <tr>\n",
       "      <th>1</th>\n",
       "      <td>2009</td>\n",
       "      <td>Recherche appliquée et développement</td>\n",
       "      <td>Personnel</td>\n",
       "      <td>174791</td>\n",
       "      <td>1254804</td>\n",
       "      <td>4998217</td>\n",
       "      <td>1163338</td>\n",
       "      <td>1655812</td>\n",
       "      <td>4998217</td>\n",
       "    </tr>\n",
       "    <tr>\n",
       "      <th>2</th>\n",
       "      <td>2009</td>\n",
       "      <td>Formation continue</td>\n",
       "      <td>Personnel</td>\n",
       "      <td>137429</td>\n",
       "      <td>3937666</td>\n",
       "      <td>6571043</td>\n",
       "      <td>538089</td>\n",
       "      <td>1681846</td>\n",
       "      <td>6571043</td>\n",
       "    </tr>\n",
       "    <tr>\n",
       "      <th>3</th>\n",
       "      <td>2009</td>\n",
       "      <td>Prestations de services</td>\n",
       "      <td>Personnel</td>\n",
       "      <td>133224</td>\n",
       "      <td>1431853</td>\n",
       "      <td>2123045</td>\n",
       "      <td>0</td>\n",
       "      <td>3767684</td>\n",
       "      <td>3767684</td>\n",
       "    </tr>\n",
       "    <tr>\n",
       "      <th>4</th>\n",
       "      <td>2010</td>\n",
       "      <td>Enseignement de base</td>\n",
       "      <td>Personnel</td>\n",
       "      <td>1787920</td>\n",
       "      <td>14031903</td>\n",
       "      <td>20368249</td>\n",
       "      <td>7553247</td>\n",
       "      <td>9476562</td>\n",
       "      <td>20368249</td>\n",
       "    </tr>\n",
       "  </tbody>\n",
       "</table>\n",
       "</div>"
      ],
      "text/plain": [
       "   Année                            Prestation Nature de coûts  HETS-GE  \\\n",
       "0   2009                  Enseignement de base       Personnel  1845950   \n",
       "1   2009  Recherche appliquée et développement       Personnel   174791   \n",
       "2   2009                    Formation continue       Personnel   137429   \n",
       "3   2009               Prestations de services       Personnel   133224   \n",
       "4   2010                  Enseignement de base       Personnel  1787920   \n",
       "\n",
       "   HEP-BEJUNE    HEP-VD   HEP-VS   HEP-FR   Maximum  \n",
       "0    11603840  22487075  7449804  7679101  22487075  \n",
       "1     1254804   4998217  1163338  1655812   4998217  \n",
       "2     3937666   6571043   538089  1681846   6571043  \n",
       "3     1431853   2123045        0  3767684   3767684  \n",
       "4    14031903  20368249  7553247  9476562  20368249  "
      ]
     },
     "execution_count": 37,
     "metadata": {},
     "output_type": "execute_result"
    }
   ],
   "source": [
    "df.head()"
   ]
  },
  {
   "cell_type": "markdown",
   "metadata": {},
   "source": [
    "## Retirer une colonne\n",
    "\n",
    "Regardons la colonne «Nature de coûts» de plus près. La valeur est partout la même:"
   ]
  },
  {
   "cell_type": "code",
   "execution_count": 38,
   "metadata": {},
   "outputs": [
    {
     "data": {
      "text/plain": [
       "Nature de coûts\n",
       "Personnel    44\n",
       "Name: count, dtype: int64"
      ]
     },
     "execution_count": 38,
     "metadata": {},
     "output_type": "execute_result"
    }
   ],
   "source": [
    "df['Nature de coûts'].value_counts()"
   ]
  },
  {
   "cell_type": "markdown",
   "metadata": {},
   "source": [
    "Elle ne nous sert à rien. On peut l’éliminer avec **`del`**.\n",
    "\n",
    "Vous connaissez `del` pour les listes?"
   ]
  },
  {
   "cell_type": "code",
   "execution_count": 39,
   "metadata": {},
   "outputs": [
    {
     "data": {
      "text/plain": [
       "['b']"
      ]
     },
     "execution_count": 39,
     "metadata": {},
     "output_type": "execute_result"
    }
   ],
   "source": [
    "array = ['a', 'b']\n",
    "del array[0]\n",
    "array"
   ]
  },
  {
   "cell_type": "markdown",
   "metadata": {},
   "source": [
    "Pour les colonnes, c’est pareil:"
   ]
  },
  {
   "cell_type": "code",
   "execution_count": 40,
   "metadata": {},
   "outputs": [],
   "source": [
    "del df['Nature de coûts']"
   ]
  },
  {
   "cell_type": "markdown",
   "metadata": {},
   "source": [
    "## Trier\n",
    "Dans Pandas, le tri se fait avec la méthode `.sort_values(\"nom_colonne_ici\")`."
   ]
  },
  {
   "cell_type": "code",
   "execution_count": 41,
   "metadata": {},
   "outputs": [
    {
     "data": {
      "text/html": [
       "<div>\n",
       "<style scoped>\n",
       "    .dataframe tbody tr th:only-of-type {\n",
       "        vertical-align: middle;\n",
       "    }\n",
       "\n",
       "    .dataframe tbody tr th {\n",
       "        vertical-align: top;\n",
       "    }\n",
       "\n",
       "    .dataframe thead th {\n",
       "        text-align: right;\n",
       "    }\n",
       "</style>\n",
       "<table border=\"1\" class=\"dataframe\">\n",
       "  <thead>\n",
       "    <tr style=\"text-align: right;\">\n",
       "      <th></th>\n",
       "      <th>Année</th>\n",
       "      <th>Prestation</th>\n",
       "      <th>HETS-GE</th>\n",
       "      <th>HEP-BEJUNE</th>\n",
       "      <th>HEP-VD</th>\n",
       "      <th>HEP-VS</th>\n",
       "      <th>HEP-FR</th>\n",
       "      <th>Maximum</th>\n",
       "    </tr>\n",
       "  </thead>\n",
       "  <tbody>\n",
       "    <tr>\n",
       "      <th>39</th>\n",
       "      <td>2018</td>\n",
       "      <td>Prestations de services</td>\n",
       "      <td>199456</td>\n",
       "      <td>1744989</td>\n",
       "      <td>2025399</td>\n",
       "      <td>2408620</td>\n",
       "      <td>1707231</td>\n",
       "      <td>2408620</td>\n",
       "    </tr>\n",
       "    <tr>\n",
       "      <th>35</th>\n",
       "      <td>2017</td>\n",
       "      <td>Prestations de services</td>\n",
       "      <td>405726</td>\n",
       "      <td>1781042</td>\n",
       "      <td>2567974</td>\n",
       "      <td>2555640</td>\n",
       "      <td>1689654</td>\n",
       "      <td>2567974</td>\n",
       "    </tr>\n",
       "    <tr>\n",
       "      <th>31</th>\n",
       "      <td>2016</td>\n",
       "      <td>Prestations de services</td>\n",
       "      <td>301265</td>\n",
       "      <td>1646523</td>\n",
       "      <td>1551425</td>\n",
       "      <td>2657838</td>\n",
       "      <td>1687785</td>\n",
       "      <td>2657838</td>\n",
       "    </tr>\n",
       "    <tr>\n",
       "      <th>43</th>\n",
       "      <td>2019</td>\n",
       "      <td>Prestations de services</td>\n",
       "      <td>520148</td>\n",
       "      <td>2349377</td>\n",
       "      <td>2639705</td>\n",
       "      <td>2676579</td>\n",
       "      <td>1724585</td>\n",
       "      <td>2676579</td>\n",
       "    </tr>\n",
       "    <tr>\n",
       "      <th>23</th>\n",
       "      <td>2014</td>\n",
       "      <td>Prestations de services</td>\n",
       "      <td>96074</td>\n",
       "      <td>1429297</td>\n",
       "      <td>1377381</td>\n",
       "      <td>3015743</td>\n",
       "      <td>2972196</td>\n",
       "      <td>3015743</td>\n",
       "    </tr>\n",
       "  </tbody>\n",
       "</table>\n",
       "</div>"
      ],
      "text/plain": [
       "    Année               Prestation  HETS-GE  HEP-BEJUNE   HEP-VD   HEP-VS  \\\n",
       "39   2018  Prestations de services   199456     1744989  2025399  2408620   \n",
       "35   2017  Prestations de services   405726     1781042  2567974  2555640   \n",
       "31   2016  Prestations de services   301265     1646523  1551425  2657838   \n",
       "43   2019  Prestations de services   520148     2349377  2639705  2676579   \n",
       "23   2014  Prestations de services    96074     1429297  1377381  3015743   \n",
       "\n",
       "     HEP-FR  Maximum  \n",
       "39  1707231  2408620  \n",
       "35  1689654  2567974  \n",
       "31  1687785  2657838  \n",
       "43  1724585  2676579  \n",
       "23  2972196  3015743  "
      ]
     },
     "execution_count": 41,
     "metadata": {},
     "output_type": "execute_result"
    }
   ],
   "source": [
    "df.sort_values('Maximum').head()"
   ]
  },
  {
   "cell_type": "markdown",
   "metadata": {},
   "source": [
    "Que s’est-il passé? Par défaut, Pandas trie par ordre ascendant. Pour obtenir l’inverse, il faut préciser `ascending=False`:"
   ]
  },
  {
   "cell_type": "code",
   "execution_count": 42,
   "metadata": {},
   "outputs": [
    {
     "data": {
      "text/html": [
       "<div>\n",
       "<style scoped>\n",
       "    .dataframe tbody tr th:only-of-type {\n",
       "        vertical-align: middle;\n",
       "    }\n",
       "\n",
       "    .dataframe tbody tr th {\n",
       "        vertical-align: top;\n",
       "    }\n",
       "\n",
       "    .dataframe thead th {\n",
       "        text-align: right;\n",
       "    }\n",
       "</style>\n",
       "<table border=\"1\" class=\"dataframe\">\n",
       "  <thead>\n",
       "    <tr style=\"text-align: right;\">\n",
       "      <th></th>\n",
       "      <th>Année</th>\n",
       "      <th>Prestation</th>\n",
       "      <th>HETS-GE</th>\n",
       "      <th>HEP-BEJUNE</th>\n",
       "      <th>HEP-VD</th>\n",
       "      <th>HEP-VS</th>\n",
       "      <th>HEP-FR</th>\n",
       "      <th>Maximum</th>\n",
       "    </tr>\n",
       "  </thead>\n",
       "  <tbody>\n",
       "    <tr>\n",
       "      <th>40</th>\n",
       "      <td>2019</td>\n",
       "      <td>Enseignement de base</td>\n",
       "      <td>1994090</td>\n",
       "      <td>12553917</td>\n",
       "      <td>43207376</td>\n",
       "      <td>9054637</td>\n",
       "      <td>9650727</td>\n",
       "      <td>43207376</td>\n",
       "    </tr>\n",
       "    <tr>\n",
       "      <th>36</th>\n",
       "      <td>2018</td>\n",
       "      <td>Enseignement de base</td>\n",
       "      <td>1932761</td>\n",
       "      <td>13542045</td>\n",
       "      <td>41950755</td>\n",
       "      <td>8633675</td>\n",
       "      <td>9564308</td>\n",
       "      <td>41950755</td>\n",
       "    </tr>\n",
       "    <tr>\n",
       "      <th>28</th>\n",
       "      <td>2016</td>\n",
       "      <td>Enseignement de base</td>\n",
       "      <td>2078340</td>\n",
       "      <td>12929548</td>\n",
       "      <td>40957918</td>\n",
       "      <td>7985699</td>\n",
       "      <td>9823898</td>\n",
       "      <td>40957918</td>\n",
       "    </tr>\n",
       "    <tr>\n",
       "      <th>32</th>\n",
       "      <td>2017</td>\n",
       "      <td>Enseignement de base</td>\n",
       "      <td>1977361</td>\n",
       "      <td>13338050</td>\n",
       "      <td>40114348</td>\n",
       "      <td>8059686</td>\n",
       "      <td>9600105</td>\n",
       "      <td>40114348</td>\n",
       "    </tr>\n",
       "    <tr>\n",
       "      <th>24</th>\n",
       "      <td>2015</td>\n",
       "      <td>Enseignement de base</td>\n",
       "      <td>2080177</td>\n",
       "      <td>13244598</td>\n",
       "      <td>35680912</td>\n",
       "      <td>8037192</td>\n",
       "      <td>9517863</td>\n",
       "      <td>35680912</td>\n",
       "    </tr>\n",
       "  </tbody>\n",
       "</table>\n",
       "</div>"
      ],
      "text/plain": [
       "    Année            Prestation  HETS-GE  HEP-BEJUNE    HEP-VD   HEP-VS  \\\n",
       "40   2019  Enseignement de base  1994090    12553917  43207376  9054637   \n",
       "36   2018  Enseignement de base  1932761    13542045  41950755  8633675   \n",
       "28   2016  Enseignement de base  2078340    12929548  40957918  7985699   \n",
       "32   2017  Enseignement de base  1977361    13338050  40114348  8059686   \n",
       "24   2015  Enseignement de base  2080177    13244598  35680912  8037192   \n",
       "\n",
       "     HEP-FR   Maximum  \n",
       "40  9650727  43207376  \n",
       "36  9564308  41950755  \n",
       "28  9823898  40957918  \n",
       "32  9600105  40114348  \n",
       "24  9517863  35680912  "
      ]
     },
     "execution_count": 42,
     "metadata": {},
     "output_type": "execute_result"
    }
   ],
   "source": [
    "df.sort_values('Maximum', ascending=False).head()"
   ]
  },
  {
   "cell_type": "markdown",
   "metadata": {},
   "source": [
    "## Tri avec plusieurs colonnes\n",
    "\n",
    "Si on donne une liste de colonnes à `sort_values()`, il fait un tri multi-colonnes:"
   ]
  },
  {
   "cell_type": "code",
   "execution_count": 43,
   "metadata": {},
   "outputs": [
    {
     "data": {
      "text/html": [
       "<div>\n",
       "<style scoped>\n",
       "    .dataframe tbody tr th:only-of-type {\n",
       "        vertical-align: middle;\n",
       "    }\n",
       "\n",
       "    .dataframe tbody tr th {\n",
       "        vertical-align: top;\n",
       "    }\n",
       "\n",
       "    .dataframe thead th {\n",
       "        text-align: right;\n",
       "    }\n",
       "</style>\n",
       "<table border=\"1\" class=\"dataframe\">\n",
       "  <thead>\n",
       "    <tr style=\"text-align: right;\">\n",
       "      <th></th>\n",
       "      <th>Année</th>\n",
       "      <th>Prestation</th>\n",
       "      <th>HETS-GE</th>\n",
       "      <th>HEP-BEJUNE</th>\n",
       "      <th>HEP-VD</th>\n",
       "      <th>HEP-VS</th>\n",
       "      <th>HEP-FR</th>\n",
       "      <th>Maximum</th>\n",
       "    </tr>\n",
       "  </thead>\n",
       "  <tbody>\n",
       "    <tr>\n",
       "      <th>40</th>\n",
       "      <td>2019</td>\n",
       "      <td>Enseignement de base</td>\n",
       "      <td>1994090</td>\n",
       "      <td>12553917</td>\n",
       "      <td>43207376</td>\n",
       "      <td>9054637</td>\n",
       "      <td>9650727</td>\n",
       "      <td>43207376</td>\n",
       "    </tr>\n",
       "    <tr>\n",
       "      <th>41</th>\n",
       "      <td>2019</td>\n",
       "      <td>Recherche appliquée et développement</td>\n",
       "      <td>235679</td>\n",
       "      <td>2176814</td>\n",
       "      <td>12663265</td>\n",
       "      <td>1972288</td>\n",
       "      <td>2079828</td>\n",
       "      <td>12663265</td>\n",
       "    </tr>\n",
       "    <tr>\n",
       "      <th>42</th>\n",
       "      <td>2019</td>\n",
       "      <td>Formation continue</td>\n",
       "      <td>494971</td>\n",
       "      <td>3874482</td>\n",
       "      <td>8691043</td>\n",
       "      <td>1661413</td>\n",
       "      <td>2018726</td>\n",
       "      <td>8691043</td>\n",
       "    </tr>\n",
       "    <tr>\n",
       "      <th>43</th>\n",
       "      <td>2019</td>\n",
       "      <td>Prestations de services</td>\n",
       "      <td>520148</td>\n",
       "      <td>2349377</td>\n",
       "      <td>2639705</td>\n",
       "      <td>2676579</td>\n",
       "      <td>1724585</td>\n",
       "      <td>2676579</td>\n",
       "    </tr>\n",
       "    <tr>\n",
       "      <th>36</th>\n",
       "      <td>2018</td>\n",
       "      <td>Enseignement de base</td>\n",
       "      <td>1932761</td>\n",
       "      <td>13542045</td>\n",
       "      <td>41950755</td>\n",
       "      <td>8633675</td>\n",
       "      <td>9564308</td>\n",
       "      <td>41950755</td>\n",
       "    </tr>\n",
       "    <tr>\n",
       "      <th>37</th>\n",
       "      <td>2018</td>\n",
       "      <td>Recherche appliquée et développement</td>\n",
       "      <td>256710</td>\n",
       "      <td>2238965</td>\n",
       "      <td>12667583</td>\n",
       "      <td>1787200</td>\n",
       "      <td>2118586</td>\n",
       "      <td>12667583</td>\n",
       "    </tr>\n",
       "    <tr>\n",
       "      <th>38</th>\n",
       "      <td>2018</td>\n",
       "      <td>Formation continue</td>\n",
       "      <td>154446</td>\n",
       "      <td>3499772</td>\n",
       "      <td>7656946</td>\n",
       "      <td>1666031</td>\n",
       "      <td>1797675</td>\n",
       "      <td>7656946</td>\n",
       "    </tr>\n",
       "    <tr>\n",
       "      <th>39</th>\n",
       "      <td>2018</td>\n",
       "      <td>Prestations de services</td>\n",
       "      <td>199456</td>\n",
       "      <td>1744989</td>\n",
       "      <td>2025399</td>\n",
       "      <td>2408620</td>\n",
       "      <td>1707231</td>\n",
       "      <td>2408620</td>\n",
       "    </tr>\n",
       "    <tr>\n",
       "      <th>32</th>\n",
       "      <td>2017</td>\n",
       "      <td>Enseignement de base</td>\n",
       "      <td>1977361</td>\n",
       "      <td>13338050</td>\n",
       "      <td>40114348</td>\n",
       "      <td>8059686</td>\n",
       "      <td>9600105</td>\n",
       "      <td>40114348</td>\n",
       "    </tr>\n",
       "    <tr>\n",
       "      <th>33</th>\n",
       "      <td>2017</td>\n",
       "      <td>Recherche appliquée et développement</td>\n",
       "      <td>275926</td>\n",
       "      <td>2164651</td>\n",
       "      <td>11608392</td>\n",
       "      <td>1465795</td>\n",
       "      <td>1168407</td>\n",
       "      <td>11608392</td>\n",
       "    </tr>\n",
       "  </tbody>\n",
       "</table>\n",
       "</div>"
      ],
      "text/plain": [
       "    Année                            Prestation  HETS-GE  HEP-BEJUNE  \\\n",
       "40   2019                  Enseignement de base  1994090    12553917   \n",
       "41   2019  Recherche appliquée et développement   235679     2176814   \n",
       "42   2019                    Formation continue   494971     3874482   \n",
       "43   2019               Prestations de services   520148     2349377   \n",
       "36   2018                  Enseignement de base  1932761    13542045   \n",
       "37   2018  Recherche appliquée et développement   256710     2238965   \n",
       "38   2018                    Formation continue   154446     3499772   \n",
       "39   2018               Prestations de services   199456     1744989   \n",
       "32   2017                  Enseignement de base  1977361    13338050   \n",
       "33   2017  Recherche appliquée et développement   275926     2164651   \n",
       "\n",
       "      HEP-VD   HEP-VS   HEP-FR   Maximum  \n",
       "40  43207376  9054637  9650727  43207376  \n",
       "41  12663265  1972288  2079828  12663265  \n",
       "42   8691043  1661413  2018726   8691043  \n",
       "43   2639705  2676579  1724585   2676579  \n",
       "36  41950755  8633675  9564308  41950755  \n",
       "37  12667583  1787200  2118586  12667583  \n",
       "38   7656946  1666031  1797675   7656946  \n",
       "39   2025399  2408620  1707231   2408620  \n",
       "32  40114348  8059686  9600105  40114348  \n",
       "33  11608392  1465795  1168407  11608392  "
      ]
     },
     "execution_count": 43,
     "metadata": {},
     "output_type": "execute_result"
    }
   ],
   "source": [
    "df.sort_values(['Année', 'Maximum'], ascending=False).head(10)"
   ]
  },
  {
   "cell_type": "markdown",
   "metadata": {},
   "source": [
    "## Diviser\n",
    "Et si on rendait les nombres plus lisibles en les divisant par un million?"
   ]
  },
  {
   "cell_type": "code",
   "execution_count": 44,
   "metadata": {},
   "outputs": [],
   "source": [
    "df['Maximum (millions)'] = df['Maximum'] / 1000000"
   ]
  },
  {
   "cell_type": "code",
   "execution_count": 45,
   "metadata": {},
   "outputs": [
    {
     "data": {
      "text/html": [
       "<div>\n",
       "<style scoped>\n",
       "    .dataframe tbody tr th:only-of-type {\n",
       "        vertical-align: middle;\n",
       "    }\n",
       "\n",
       "    .dataframe tbody tr th {\n",
       "        vertical-align: top;\n",
       "    }\n",
       "\n",
       "    .dataframe thead th {\n",
       "        text-align: right;\n",
       "    }\n",
       "</style>\n",
       "<table border=\"1\" class=\"dataframe\">\n",
       "  <thead>\n",
       "    <tr style=\"text-align: right;\">\n",
       "      <th></th>\n",
       "      <th>Année</th>\n",
       "      <th>Prestation</th>\n",
       "      <th>Maximum (millions)</th>\n",
       "    </tr>\n",
       "  </thead>\n",
       "  <tbody>\n",
       "    <tr>\n",
       "      <th>0</th>\n",
       "      <td>2009</td>\n",
       "      <td>Enseignement de base</td>\n",
       "      <td>22.487075</td>\n",
       "    </tr>\n",
       "    <tr>\n",
       "      <th>1</th>\n",
       "      <td>2009</td>\n",
       "      <td>Recherche appliquée et développement</td>\n",
       "      <td>4.998217</td>\n",
       "    </tr>\n",
       "    <tr>\n",
       "      <th>2</th>\n",
       "      <td>2009</td>\n",
       "      <td>Formation continue</td>\n",
       "      <td>6.571043</td>\n",
       "    </tr>\n",
       "    <tr>\n",
       "      <th>3</th>\n",
       "      <td>2009</td>\n",
       "      <td>Prestations de services</td>\n",
       "      <td>3.767684</td>\n",
       "    </tr>\n",
       "    <tr>\n",
       "      <th>4</th>\n",
       "      <td>2010</td>\n",
       "      <td>Enseignement de base</td>\n",
       "      <td>20.368249</td>\n",
       "    </tr>\n",
       "  </tbody>\n",
       "</table>\n",
       "</div>"
      ],
      "text/plain": [
       "   Année                            Prestation  Maximum (millions)\n",
       "0   2009                  Enseignement de base           22.487075\n",
       "1   2009  Recherche appliquée et développement            4.998217\n",
       "2   2009                    Formation continue            6.571043\n",
       "3   2009               Prestations de services            3.767684\n",
       "4   2010                  Enseignement de base           20.368249"
      ]
     },
     "execution_count": 45,
     "metadata": {},
     "output_type": "execute_result"
    }
   ],
   "source": [
    "df[['Année', 'Prestation', 'Maximum (millions)']].head()"
   ]
  },
  {
   "cell_type": "markdown",
   "metadata": {},
   "source": [
    "## Arrondir\n",
    "Vous vous rappelez de `round()`? Ça marche aussi!"
   ]
  },
  {
   "cell_type": "code",
   "execution_count": 46,
   "metadata": {},
   "outputs": [
    {
     "data": {
      "text/html": [
       "<div>\n",
       "<style scoped>\n",
       "    .dataframe tbody tr th:only-of-type {\n",
       "        vertical-align: middle;\n",
       "    }\n",
       "\n",
       "    .dataframe tbody tr th {\n",
       "        vertical-align: top;\n",
       "    }\n",
       "\n",
       "    .dataframe thead th {\n",
       "        text-align: right;\n",
       "    }\n",
       "</style>\n",
       "<table border=\"1\" class=\"dataframe\">\n",
       "  <thead>\n",
       "    <tr style=\"text-align: right;\">\n",
       "      <th></th>\n",
       "      <th>Année</th>\n",
       "      <th>Prestation</th>\n",
       "      <th>Maximum (millions)</th>\n",
       "    </tr>\n",
       "  </thead>\n",
       "  <tbody>\n",
       "    <tr>\n",
       "      <th>0</th>\n",
       "      <td>2009</td>\n",
       "      <td>Enseignement de base</td>\n",
       "      <td>22.5</td>\n",
       "    </tr>\n",
       "    <tr>\n",
       "      <th>1</th>\n",
       "      <td>2009</td>\n",
       "      <td>Recherche appliquée et développement</td>\n",
       "      <td>5.0</td>\n",
       "    </tr>\n",
       "    <tr>\n",
       "      <th>2</th>\n",
       "      <td>2009</td>\n",
       "      <td>Formation continue</td>\n",
       "      <td>6.6</td>\n",
       "    </tr>\n",
       "    <tr>\n",
       "      <th>3</th>\n",
       "      <td>2009</td>\n",
       "      <td>Prestations de services</td>\n",
       "      <td>3.8</td>\n",
       "    </tr>\n",
       "    <tr>\n",
       "      <th>4</th>\n",
       "      <td>2010</td>\n",
       "      <td>Enseignement de base</td>\n",
       "      <td>20.4</td>\n",
       "    </tr>\n",
       "  </tbody>\n",
       "</table>\n",
       "</div>"
      ],
      "text/plain": [
       "   Année                            Prestation  Maximum (millions)\n",
       "0   2009                  Enseignement de base                22.5\n",
       "1   2009  Recherche appliquée et développement                 5.0\n",
       "2   2009                    Formation continue                 6.6\n",
       "3   2009               Prestations de services                 3.8\n",
       "4   2010                  Enseignement de base                20.4"
      ]
     },
     "execution_count": 46,
     "metadata": {},
     "output_type": "execute_result"
    }
   ],
   "source": [
    "df['Maximum (millions)'] = round(df['Maximum (millions)'], 1)\n",
    "\n",
    "df[['Année', 'Prestation', 'Maximum (millions)']].head()"
   ]
  },
  {
   "cell_type": "markdown",
   "metadata": {},
   "source": [
    "Déjà plus clair.\n",
    "\n",
    "Peut-être qu’on peut tout diviser par un million?"
   ]
  },
  {
   "cell_type": "markdown",
   "metadata": {},
   "source": [
    "## Exercice\n",
    "\n",
    "* Sélectionnez et affichez les données de 2018\n",
    "\n",
    "* Dans une autre cellule, sélectionnez la Formation continue uniquement (avec à nouveau toutes les années)\n",
    "\n",
    "* Mettons que vous voulez faire un graphique. Quelles données auriez-vous envie de montrer? (Répondez en une ou deux phrases, sans écrire de code, dans la cellule de texte tout en bas)"
   ]
  },
  {
   "cell_type": "code",
   "execution_count": null,
   "metadata": {},
   "outputs": [],
   "source": []
  },
  {
   "cell_type": "code",
   "execution_count": null,
   "metadata": {},
   "outputs": [],
   "source": []
  },
  {
   "cell_type": "code",
   "execution_count": null,
   "metadata": {},
   "outputs": [],
   "source": []
  },
  {
   "cell_type": "markdown",
   "metadata": {},
   "source": [
    "### Cellule de texte\n",
    "Vous pouvez répondre à la 3e question ici\n",
    "\n",
    "…\n",
    "\n"
   ]
  }
 ],
 "metadata": {
  "kernelspec": {
   "display_name": "Python 3",
   "language": "python",
   "name": "python3"
  },
  "language_info": {
   "codemirror_mode": {
    "name": "ipython",
    "version": 3
   },
   "file_extension": ".py",
   "mimetype": "text/x-python",
   "name": "python",
   "nbconvert_exporter": "python",
   "pygments_lexer": "ipython3",
   "version": "3.11.4"
  }
 },
 "nbformat": 4,
 "nbformat_minor": 4
}
